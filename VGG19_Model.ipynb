{
  "nbformat": 4,
  "nbformat_minor": 0,
  "metadata": {
    "colab": {
      "name": "VGG19 Model.ipynb",
      "provenance": [],
      "collapsed_sections": [],
      "authorship_tag": "ABX9TyMYxMua0UxgVCzEjV10anqS",
      "include_colab_link": true
    },
    "kernelspec": {
      "name": "python3",
      "display_name": "Python 3"
    },
    "accelerator": "GPU"
  },
  "cells": [
    {
      "cell_type": "markdown",
      "metadata": {
        "id": "view-in-github",
        "colab_type": "text"
      },
      "source": [
        "<a href=\"https://colab.research.google.com/github/himanshu-tawra/COVID-19-Detector-Flask-App-from-Chest-X-ray-Images-with-Keras-and-Deep-Learning/blob/master/VGG19_Model.ipynb\" target=\"_parent\"><img src=\"https://colab.research.google.com/assets/colab-badge.svg\" alt=\"Open In Colab\"/></a>"
      ]
    },
    {
      "cell_type": "code",
      "metadata": {
        "id": "iozLHTPOB9IH",
        "outputId": "5015fb38-2fe1-49e5-ae28-756c2ed22a08",
        "colab": {
          "base_uri": "https://localhost:8080/"
        }
      },
      "source": [
        "from google.colab import drive\n",
        "drive.mount('/content/drive/')"
      ],
      "execution_count": 1,
      "outputs": [
        {
          "output_type": "stream",
          "text": [
            "Mounted at /content/drive/\n"
          ],
          "name": "stdout"
        }
      ]
    },
    {
      "cell_type": "code",
      "metadata": {
        "id": "ijS-Zq2zCXVk"
      },
      "source": [
        "import numpy as np\n",
        "import matplotlib.pyplot as plt\n",
        "from keras.layers import *\n",
        "from keras.models import *\n",
        "from keras.preprocessing import image\n",
        "from glob import glob\n",
        "from keras.preprocessing.image import ImageDataGenerator\n",
        "import os\n",
        "from keras.applications.vgg19 import VGG19\n",
        "import keras"
      ],
      "execution_count": 1,
      "outputs": []
    },
    {
      "cell_type": "code",
      "metadata": {
        "id": "OrSvFZpxCiY3"
      },
      "source": [
        "IMAGE_SIZE = [224,224]"
      ],
      "execution_count": 2,
      "outputs": []
    },
    {
      "cell_type": "code",
      "metadata": {
        "id": "tf0njteWClNx"
      },
      "source": [
        "vgg = VGG19(input_shape= IMAGE_SIZE + [3] , weights='imagenet',include_top=False)"
      ],
      "execution_count": 3,
      "outputs": []
    },
    {
      "cell_type": "code",
      "metadata": {
        "id": "2rbkS6VICzDX"
      },
      "source": [
        "for layer in vgg.layers:\n",
        "  layer.trainable = False"
      ],
      "execution_count": 4,
      "outputs": []
    },
    {
      "cell_type": "code",
      "metadata": {
        "id": "XrT45hqKC-aK"
      },
      "source": [
        "vgg_output = vgg.output"
      ],
      "execution_count": 5,
      "outputs": []
    },
    {
      "cell_type": "code",
      "metadata": {
        "id": "uohlgsLNDCGP"
      },
      "source": [
        "flatten = Flatten()(vgg_output)\n",
        "x1 = Dense(units=512,activation=keras.layers.LeakyReLU(alpha=0.2))(flatten)\n",
        "drop1 = Dropout(0.2)(x1)\n",
        "x2 = Dense(units=256,activation=keras.layers.LeakyReLU(alpha=0.2))(drop1)\n",
        "drop2 = Dropout(0.2)(x2)\n",
        "x3 = Dense(units=128,activation=keras.layers.LeakyReLU(alpha=0.2))(drop2)\n",
        "drop3 = Dropout(0.2)(x3)\n",
        "x4 = Dense(units=64,activation=keras.layers.LeakyReLU(alpha=0.2))(drop3)\n",
        "\n",
        "\n",
        "output_layer = Dense(3,activation='softmax')(x4)"
      ],
      "execution_count": 6,
      "outputs": []
    },
    {
      "cell_type": "code",
      "metadata": {
        "id": "oeKGHP5sDEsl"
      },
      "source": [
        "model = Model(inputs = vgg.input,outputs = output_layer)"
      ],
      "execution_count": 7,
      "outputs": []
    },
    {
      "cell_type": "code",
      "metadata": {
        "id": "VmddCbIsDL-0",
        "outputId": "8da87d18-0e09-4716-8736-574807f58694",
        "colab": {
          "base_uri": "https://localhost:8080/"
        }
      },
      "source": [
        "model.summary()"
      ],
      "execution_count": 8,
      "outputs": [
        {
          "output_type": "stream",
          "text": [
            "Model: \"functional_1\"\n",
            "_________________________________________________________________\n",
            "Layer (type)                 Output Shape              Param #   \n",
            "=================================================================\n",
            "input_1 (InputLayer)         [(None, 224, 224, 3)]     0         \n",
            "_________________________________________________________________\n",
            "block1_conv1 (Conv2D)        (None, 224, 224, 64)      1792      \n",
            "_________________________________________________________________\n",
            "block1_conv2 (Conv2D)        (None, 224, 224, 64)      36928     \n",
            "_________________________________________________________________\n",
            "block1_pool (MaxPooling2D)   (None, 112, 112, 64)      0         \n",
            "_________________________________________________________________\n",
            "block2_conv1 (Conv2D)        (None, 112, 112, 128)     73856     \n",
            "_________________________________________________________________\n",
            "block2_conv2 (Conv2D)        (None, 112, 112, 128)     147584    \n",
            "_________________________________________________________________\n",
            "block2_pool (MaxPooling2D)   (None, 56, 56, 128)       0         \n",
            "_________________________________________________________________\n",
            "block3_conv1 (Conv2D)        (None, 56, 56, 256)       295168    \n",
            "_________________________________________________________________\n",
            "block3_conv2 (Conv2D)        (None, 56, 56, 256)       590080    \n",
            "_________________________________________________________________\n",
            "block3_conv3 (Conv2D)        (None, 56, 56, 256)       590080    \n",
            "_________________________________________________________________\n",
            "block3_conv4 (Conv2D)        (None, 56, 56, 256)       590080    \n",
            "_________________________________________________________________\n",
            "block3_pool (MaxPooling2D)   (None, 28, 28, 256)       0         \n",
            "_________________________________________________________________\n",
            "block4_conv1 (Conv2D)        (None, 28, 28, 512)       1180160   \n",
            "_________________________________________________________________\n",
            "block4_conv2 (Conv2D)        (None, 28, 28, 512)       2359808   \n",
            "_________________________________________________________________\n",
            "block4_conv3 (Conv2D)        (None, 28, 28, 512)       2359808   \n",
            "_________________________________________________________________\n",
            "block4_conv4 (Conv2D)        (None, 28, 28, 512)       2359808   \n",
            "_________________________________________________________________\n",
            "block4_pool (MaxPooling2D)   (None, 14, 14, 512)       0         \n",
            "_________________________________________________________________\n",
            "block5_conv1 (Conv2D)        (None, 14, 14, 512)       2359808   \n",
            "_________________________________________________________________\n",
            "block5_conv2 (Conv2D)        (None, 14, 14, 512)       2359808   \n",
            "_________________________________________________________________\n",
            "block5_conv3 (Conv2D)        (None, 14, 14, 512)       2359808   \n",
            "_________________________________________________________________\n",
            "block5_conv4 (Conv2D)        (None, 14, 14, 512)       2359808   \n",
            "_________________________________________________________________\n",
            "block5_pool (MaxPooling2D)   (None, 7, 7, 512)         0         \n",
            "_________________________________________________________________\n",
            "flatten (Flatten)            (None, 25088)             0         \n",
            "_________________________________________________________________\n",
            "dense (Dense)                (None, 512)               12845568  \n",
            "_________________________________________________________________\n",
            "dropout (Dropout)            (None, 512)               0         \n",
            "_________________________________________________________________\n",
            "dense_1 (Dense)              (None, 256)               131328    \n",
            "_________________________________________________________________\n",
            "dropout_1 (Dropout)          (None, 256)               0         \n",
            "_________________________________________________________________\n",
            "dense_2 (Dense)              (None, 128)               32896     \n",
            "_________________________________________________________________\n",
            "dropout_2 (Dropout)          (None, 128)               0         \n",
            "_________________________________________________________________\n",
            "dense_3 (Dense)              (None, 64)                8256      \n",
            "_________________________________________________________________\n",
            "dense_4 (Dense)              (None, 3)                 195       \n",
            "=================================================================\n",
            "Total params: 33,042,627\n",
            "Trainable params: 13,018,243\n",
            "Non-trainable params: 20,024,384\n",
            "_________________________________________________________________\n"
          ],
          "name": "stdout"
        }
      ]
    },
    {
      "cell_type": "code",
      "metadata": {
        "id": "y6htIjeODN5U"
      },
      "source": [
        "model.compile(\n",
        "    optimizer=keras.optimizers.Adam(0.00001),  # Low learning rate\n",
        "    loss = 'categorical_crossentropy',\n",
        "    metrics = ['accuracy']\n",
        ")"
      ],
      "execution_count": 9,
      "outputs": []
    },
    {
      "cell_type": "code",
      "metadata": {
        "id": "lfcPhGKODc3_"
      },
      "source": [
        "training_data_gen = ImageDataGenerator(\n",
        "    rescale = 1./255.,\n",
        "    zoom_range = 0.2,\n",
        "    shear_range = 0.2,\n",
        "    horizontal_flip = True,\n",
        "    rotation_range=10 # rotation\n",
        "    #width_shift_range=0.2, # horizontal shift\n",
        "    #height_shift_range=0.2, # vertical shift\n",
        ")"
      ],
      "execution_count": 10,
      "outputs": []
    },
    {
      "cell_type": "code",
      "metadata": {
        "id": "-E5HA67XDeVS"
      },
      "source": [
        "val_data_gen = ImageDataGenerator(\n",
        "    rescale = 1./255.\n",
        ")"
      ],
      "execution_count": 11,
      "outputs": []
    },
    {
      "cell_type": "code",
      "metadata": {
        "id": "oyj3blVrDfeo",
        "outputId": "f2716815-0b93-4f8b-92ef-c77d0e16bde6",
        "colab": {
          "base_uri": "https://localhost:8080/"
        }
      },
      "source": [
        "training_set = training_data_gen.flow_from_directory(\n",
        "    '/content/drive/My Drive/Data/train/',\n",
        "    target_size = (224,224),\n",
        "    class_mode = 'categorical',\n",
        "    batch_size = 32\n",
        ")"
      ],
      "execution_count": 12,
      "outputs": [
        {
          "output_type": "stream",
          "text": [
            "Found 5144 images belonging to 3 classes.\n"
          ],
          "name": "stdout"
        }
      ]
    },
    {
      "cell_type": "code",
      "metadata": {
        "id": "korAJl2JDmsZ",
        "outputId": "78397f80-ff3d-4ae8-9ad7-f0c7dd8a9db1",
        "colab": {
          "base_uri": "https://localhost:8080/"
        }
      },
      "source": [
        "val_set = val_data_gen.flow_from_directory(\n",
        "    '/content/drive/My Drive/Data/test/',\n",
        "    target_size = (224,224),\n",
        "    class_mode = 'categorical',\n",
        "    batch_size = 32\n",
        ")"
      ],
      "execution_count": 13,
      "outputs": [
        {
          "output_type": "stream",
          "text": [
            "Found 1288 images belonging to 3 classes.\n"
          ],
          "name": "stdout"
        }
      ]
    },
    {
      "cell_type": "code",
      "metadata": {
        "id": "QMV40wfB8zrx"
      },
      "source": [
        "from keras.callbacks import ModelCheckpoint\n",
        "\n",
        "checkpoint = ModelCheckpoint('vgg19_model.h5',monitor='val_accuracy',mode='max',save_best_only=True,verbose=1)\n",
        "\n",
        "callbacks_list = [checkpoint]\n",
        "\n",
        "#model.fit(X_train,y_train,validation_data=(X_test,y_test),epochs=15,batch_size=32, callbacks=checkpoint)"
      ],
      "execution_count": 14,
      "outputs": []
    },
    {
      "cell_type": "code",
      "metadata": {
        "id": "g2OYFeEhDoUa",
        "outputId": "ed332aeb-530d-40e6-bb4e-fd02f52a7bc9",
        "colab": {
          "base_uri": "https://localhost:8080/"
        }
      },
      "source": [
        "r = model.fit(\n",
        "    training_set,\n",
        "    epochs = 100,\n",
        "    validation_data = val_set,\n",
        "    validation_steps = len(val_set)/32,\n",
        "    steps_per_epoch = len(training_set)/32,\n",
        "    callbacks = checkpoint    \n",
        ")"
      ],
      "execution_count": 15,
      "outputs": [
        {
          "output_type": "stream",
          "text": [
            "Epoch 1/100\n",
            "6/5 [===================================] - ETA: 0s - loss: 1.0504 - accuracy: 0.4583\n",
            "Epoch 00001: val_accuracy improved from -inf to 0.59375, saving model to vgg19_model.h5\n",
            "6/5 [===================================] - 9s 1s/step - loss: 1.0504 - accuracy: 0.4583 - val_loss: 0.9467 - val_accuracy: 0.5938\n",
            "Epoch 2/100\n",
            "6/5 [===================================] - ETA: 0s - loss: 0.8070 - accuracy: 0.6823\n",
            "Epoch 00002: val_accuracy improved from 0.59375 to 0.68750, saving model to vgg19_model.h5\n",
            "6/5 [===================================] - 8s 1s/step - loss: 0.8070 - accuracy: 0.6823 - val_loss: 0.7632 - val_accuracy: 0.6875\n",
            "Epoch 3/100\n",
            "6/5 [===================================] - ETA: 0s - loss: 0.9017 - accuracy: 0.6354\n",
            "Epoch 00003: val_accuracy did not improve from 0.68750\n",
            "6/5 [===================================] - 8s 1s/step - loss: 0.9017 - accuracy: 0.6354 - val_loss: 0.7051 - val_accuracy: 0.6875\n",
            "Epoch 4/100\n",
            "6/5 [===================================] - ETA: 0s - loss: 0.7613 - accuracy: 0.6927\n",
            "Epoch 00004: val_accuracy did not improve from 0.68750\n",
            "6/5 [===================================] - 8s 1s/step - loss: 0.7613 - accuracy: 0.6927 - val_loss: 0.7357 - val_accuracy: 0.6094\n",
            "Epoch 5/100\n",
            "6/5 [===================================] - ETA: 0s - loss: 0.8425 - accuracy: 0.6302\n",
            "Epoch 00005: val_accuracy improved from 0.68750 to 0.81250, saving model to vgg19_model.h5\n",
            "6/5 [===================================] - 9s 1s/step - loss: 0.8425 - accuracy: 0.6302 - val_loss: 0.6756 - val_accuracy: 0.8125\n",
            "Epoch 6/100\n",
            "6/5 [===================================] - ETA: 0s - loss: 0.6782 - accuracy: 0.7604\n",
            "Epoch 00006: val_accuracy did not improve from 0.81250\n",
            "6/5 [===================================] - 8s 1s/step - loss: 0.6782 - accuracy: 0.7604 - val_loss: 0.6884 - val_accuracy: 0.6719\n",
            "Epoch 7/100\n",
            "6/5 [===================================] - ETA: 0s - loss: 0.7102 - accuracy: 0.7344\n",
            "Epoch 00007: val_accuracy did not improve from 0.81250\n",
            "6/5 [===================================] - 8s 1s/step - loss: 0.7102 - accuracy: 0.7344 - val_loss: 0.6428 - val_accuracy: 0.6562\n",
            "Epoch 8/100\n",
            "6/5 [===================================] - ETA: 0s - loss: 0.6613 - accuracy: 0.7448\n",
            "Epoch 00008: val_accuracy did not improve from 0.81250\n",
            "6/5 [===================================] - 8s 1s/step - loss: 0.6613 - accuracy: 0.7448 - val_loss: 0.5956 - val_accuracy: 0.7344\n",
            "Epoch 9/100\n",
            "6/5 [===================================] - ETA: 0s - loss: 0.6340 - accuracy: 0.7188\n",
            "Epoch 00009: val_accuracy did not improve from 0.81250\n",
            "6/5 [===================================] - 8s 1s/step - loss: 0.6340 - accuracy: 0.7188 - val_loss: 0.7233 - val_accuracy: 0.6875\n",
            "Epoch 10/100\n",
            "6/5 [===================================] - ETA: 0s - loss: 0.7180 - accuracy: 0.6823\n",
            "Epoch 00010: val_accuracy improved from 0.81250 to 0.84375, saving model to vgg19_model.h5\n",
            "6/5 [===================================] - 9s 2s/step - loss: 0.7180 - accuracy: 0.6823 - val_loss: 0.4782 - val_accuracy: 0.8438\n",
            "Epoch 11/100\n",
            "6/5 [===================================] - ETA: 0s - loss: 0.6271 - accuracy: 0.7448\n",
            "Epoch 00011: val_accuracy did not improve from 0.84375\n",
            "6/5 [===================================] - 7s 1s/step - loss: 0.6271 - accuracy: 0.7448 - val_loss: 0.6066 - val_accuracy: 0.8125\n",
            "Epoch 12/100\n",
            "6/5 [===================================] - ETA: 0s - loss: 0.5916 - accuracy: 0.7760\n",
            "Epoch 00012: val_accuracy did not improve from 0.84375\n",
            "6/5 [===================================] - 8s 1s/step - loss: 0.5916 - accuracy: 0.7760 - val_loss: 0.5515 - val_accuracy: 0.8281\n",
            "Epoch 13/100\n",
            "6/5 [===================================] - ETA: 0s - loss: 0.6278 - accuracy: 0.7448\n",
            "Epoch 00013: val_accuracy did not improve from 0.84375\n",
            "6/5 [===================================] - 8s 1s/step - loss: 0.6278 - accuracy: 0.7448 - val_loss: 0.5836 - val_accuracy: 0.8125\n",
            "Epoch 14/100\n",
            "6/5 [===================================] - ETA: 0s - loss: 0.5641 - accuracy: 0.7708\n",
            "Epoch 00014: val_accuracy did not improve from 0.84375\n",
            "6/5 [===================================] - 8s 1s/step - loss: 0.5641 - accuracy: 0.7708 - val_loss: 0.4135 - val_accuracy: 0.8438\n",
            "Epoch 15/100\n",
            "6/5 [===================================] - ETA: 0s - loss: 0.6197 - accuracy: 0.7448\n",
            "Epoch 00015: val_accuracy did not improve from 0.84375\n",
            "6/5 [===================================] - 8s 1s/step - loss: 0.6197 - accuracy: 0.7448 - val_loss: 0.4092 - val_accuracy: 0.8281\n",
            "Epoch 16/100\n",
            "6/5 [===================================] - ETA: 0s - loss: 0.5489 - accuracy: 0.7760\n",
            "Epoch 00016: val_accuracy did not improve from 0.84375\n",
            "6/5 [===================================] - 7s 1s/step - loss: 0.5489 - accuracy: 0.7760 - val_loss: 0.4496 - val_accuracy: 0.8438\n",
            "Epoch 17/100\n",
            "6/5 [===================================] - ETA: 0s - loss: 0.4703 - accuracy: 0.8385\n",
            "Epoch 00017: val_accuracy did not improve from 0.84375\n",
            "6/5 [===================================] - 8s 1s/step - loss: 0.4703 - accuracy: 0.8385 - val_loss: 0.4482 - val_accuracy: 0.8281\n",
            "Epoch 18/100\n",
            "6/5 [===================================] - ETA: 0s - loss: 0.5206 - accuracy: 0.8125\n",
            "Epoch 00018: val_accuracy did not improve from 0.84375\n",
            "6/5 [===================================] - 8s 1s/step - loss: 0.5206 - accuracy: 0.8125 - val_loss: 0.5051 - val_accuracy: 0.8125\n",
            "Epoch 19/100\n",
            "6/5 [===================================] - ETA: 0s - loss: 0.5508 - accuracy: 0.7826\n",
            "Epoch 00019: val_accuracy did not improve from 0.84375\n",
            "6/5 [===================================] - 7s 1s/step - loss: 0.5508 - accuracy: 0.7826 - val_loss: 0.6189 - val_accuracy: 0.7031\n",
            "Epoch 20/100\n",
            "6/5 [===================================] - ETA: 0s - loss: 0.5782 - accuracy: 0.7448\n",
            "Epoch 00020: val_accuracy improved from 0.84375 to 0.85938, saving model to vgg19_model.h5\n",
            "6/5 [===================================] - 8s 1s/step - loss: 0.5782 - accuracy: 0.7448 - val_loss: 0.3583 - val_accuracy: 0.8594\n",
            "Epoch 21/100\n",
            "6/5 [===================================] - ETA: 0s - loss: 0.5358 - accuracy: 0.7865\n",
            "Epoch 00021: val_accuracy did not improve from 0.85938\n",
            "6/5 [===================================] - 8s 1s/step - loss: 0.5358 - accuracy: 0.7865 - val_loss: 0.4405 - val_accuracy: 0.8125\n",
            "Epoch 22/100\n",
            "6/5 [===================================] - ETA: 0s - loss: 0.4854 - accuracy: 0.8229\n",
            "Epoch 00022: val_accuracy did not improve from 0.85938\n",
            "6/5 [===================================] - 8s 1s/step - loss: 0.4854 - accuracy: 0.8229 - val_loss: 0.5475 - val_accuracy: 0.7812\n",
            "Epoch 23/100\n",
            "6/5 [===================================] - ETA: 0s - loss: 0.4738 - accuracy: 0.8177\n",
            "Epoch 00023: val_accuracy did not improve from 0.85938\n",
            "6/5 [===================================] - 8s 1s/step - loss: 0.4738 - accuracy: 0.8177 - val_loss: 0.4653 - val_accuracy: 0.7812\n",
            "Epoch 24/100\n",
            "6/5 [===================================] - ETA: 0s - loss: 0.5109 - accuracy: 0.8021\n",
            "Epoch 00024: val_accuracy improved from 0.85938 to 0.89062, saving model to vgg19_model.h5\n",
            "6/5 [===================================] - 8s 1s/step - loss: 0.5109 - accuracy: 0.8021 - val_loss: 0.3251 - val_accuracy: 0.8906\n",
            "Epoch 25/100\n",
            "6/5 [===================================] - ETA: 0s - loss: 0.4664 - accuracy: 0.8073\n",
            "Epoch 00025: val_accuracy did not improve from 0.89062\n",
            "6/5 [===================================] - 7s 1s/step - loss: 0.4664 - accuracy: 0.8073 - val_loss: 0.4154 - val_accuracy: 0.8125\n",
            "Epoch 26/100\n",
            "6/5 [===================================] - ETA: 0s - loss: 0.4710 - accuracy: 0.8125\n",
            "Epoch 00026: val_accuracy did not improve from 0.89062\n",
            "6/5 [===================================] - 8s 1s/step - loss: 0.4710 - accuracy: 0.8125 - val_loss: 0.4035 - val_accuracy: 0.7969\n",
            "Epoch 27/100\n",
            "6/5 [===================================] - ETA: 0s - loss: 0.4540 - accuracy: 0.8021\n",
            "Epoch 00027: val_accuracy did not improve from 0.89062\n",
            "6/5 [===================================] - 8s 1s/step - loss: 0.4540 - accuracy: 0.8021 - val_loss: 0.4755 - val_accuracy: 0.7656\n",
            "Epoch 28/100\n",
            "6/5 [===================================] - ETA: 0s - loss: 0.5355 - accuracy: 0.7917\n",
            "Epoch 00028: val_accuracy did not improve from 0.89062\n",
            "6/5 [===================================] - 8s 1s/step - loss: 0.5355 - accuracy: 0.7917 - val_loss: 0.4039 - val_accuracy: 0.8281\n",
            "Epoch 29/100\n",
            "6/5 [===================================] - ETA: 0s - loss: 0.4538 - accuracy: 0.7708\n",
            "Epoch 00029: val_accuracy did not improve from 0.89062\n",
            "6/5 [===================================] - 8s 1s/step - loss: 0.4538 - accuracy: 0.7708 - val_loss: 0.3963 - val_accuracy: 0.8281\n",
            "Epoch 30/100\n",
            "6/5 [===================================] - ETA: 0s - loss: 0.4637 - accuracy: 0.8281\n",
            "Epoch 00030: val_accuracy did not improve from 0.89062\n",
            "6/5 [===================================] - 8s 1s/step - loss: 0.4637 - accuracy: 0.8281 - val_loss: 0.3904 - val_accuracy: 0.7969\n",
            "Epoch 31/100\n",
            "6/5 [===================================] - ETA: 0s - loss: 0.4419 - accuracy: 0.8229\n",
            "Epoch 00031: val_accuracy did not improve from 0.89062\n",
            "6/5 [===================================] - 8s 1s/step - loss: 0.4419 - accuracy: 0.8229 - val_loss: 0.3382 - val_accuracy: 0.8594\n",
            "Epoch 32/100\n",
            "6/5 [===================================] - ETA: 0s - loss: 0.3688 - accuracy: 0.8438\n",
            "Epoch 00032: val_accuracy did not improve from 0.89062\n",
            "6/5 [===================================] - 8s 1s/step - loss: 0.3688 - accuracy: 0.8438 - val_loss: 0.2829 - val_accuracy: 0.8594\n",
            "Epoch 33/100\n",
            "6/5 [===================================] - ETA: 0s - loss: 0.3906 - accuracy: 0.8438\n",
            "Epoch 00033: val_accuracy did not improve from 0.89062\n",
            "6/5 [===================================] - 8s 1s/step - loss: 0.3906 - accuracy: 0.8438 - val_loss: 0.3474 - val_accuracy: 0.8281\n",
            "Epoch 34/100\n",
            "6/5 [===================================] - ETA: 0s - loss: 0.4213 - accuracy: 0.7969\n",
            "Epoch 00034: val_accuracy did not improve from 0.89062\n",
            "6/5 [===================================] - 9s 1s/step - loss: 0.4213 - accuracy: 0.7969 - val_loss: 0.4361 - val_accuracy: 0.8438\n",
            "Epoch 35/100\n",
            "6/5 [===================================] - ETA: 0s - loss: 0.5020 - accuracy: 0.7826\n",
            "Epoch 00035: val_accuracy did not improve from 0.89062\n",
            "6/5 [===================================] - 8s 1s/step - loss: 0.5020 - accuracy: 0.7826 - val_loss: 0.2719 - val_accuracy: 0.8750\n",
            "Epoch 36/100\n",
            "6/5 [===================================] - ETA: 0s - loss: 0.4378 - accuracy: 0.8261\n",
            "Epoch 00036: val_accuracy did not improve from 0.89062\n",
            "6/5 [===================================] - 8s 1s/step - loss: 0.4378 - accuracy: 0.8261 - val_loss: 0.3679 - val_accuracy: 0.8438\n",
            "Epoch 37/100\n",
            "6/5 [===================================] - ETA: 0s - loss: 0.3709 - accuracy: 0.8229\n",
            "Epoch 00037: val_accuracy did not improve from 0.89062\n",
            "6/5 [===================================] - 8s 1s/step - loss: 0.3709 - accuracy: 0.8229 - val_loss: 0.3912 - val_accuracy: 0.8125\n",
            "Epoch 38/100\n",
            "6/5 [===================================] - ETA: 0s - loss: 0.3981 - accuracy: 0.8646\n",
            "Epoch 00038: val_accuracy did not improve from 0.89062\n",
            "6/5 [===================================] - 8s 1s/step - loss: 0.3981 - accuracy: 0.8646 - val_loss: 0.3161 - val_accuracy: 0.8438\n",
            "Epoch 39/100\n",
            "6/5 [===================================] - ETA: 0s - loss: 0.4040 - accuracy: 0.8594\n",
            "Epoch 00039: val_accuracy did not improve from 0.89062\n",
            "6/5 [===================================] - 8s 1s/step - loss: 0.4040 - accuracy: 0.8594 - val_loss: 0.3385 - val_accuracy: 0.8594\n",
            "Epoch 40/100\n",
            "6/5 [===================================] - ETA: 0s - loss: 0.4866 - accuracy: 0.7917\n",
            "Epoch 00040: val_accuracy improved from 0.89062 to 0.92188, saving model to vgg19_model.h5\n",
            "6/5 [===================================] - 9s 1s/step - loss: 0.4866 - accuracy: 0.7917 - val_loss: 0.2545 - val_accuracy: 0.9219\n",
            "Epoch 41/100\n",
            "6/5 [===================================] - ETA: 0s - loss: 0.3886 - accuracy: 0.8333\n",
            "Epoch 00041: val_accuracy did not improve from 0.92188\n",
            "6/5 [===================================] - 8s 1s/step - loss: 0.3886 - accuracy: 0.8333 - val_loss: 0.1958 - val_accuracy: 0.9062\n",
            "Epoch 42/100\n",
            "6/5 [===================================] - ETA: 0s - loss: 0.2992 - accuracy: 0.8542\n",
            "Epoch 00042: val_accuracy did not improve from 0.92188\n",
            "6/5 [===================================] - 8s 1s/step - loss: 0.2992 - accuracy: 0.8542 - val_loss: 0.3068 - val_accuracy: 0.8750\n",
            "Epoch 43/100\n",
            "6/5 [===================================] - ETA: 0s - loss: 0.4098 - accuracy: 0.8490\n",
            "Epoch 00043: val_accuracy did not improve from 0.92188\n",
            "6/5 [===================================] - 8s 1s/step - loss: 0.4098 - accuracy: 0.8490 - val_loss: 0.2537 - val_accuracy: 0.8906\n",
            "Epoch 44/100\n",
            "6/5 [===================================] - ETA: 0s - loss: 0.3188 - accuracy: 0.8958\n",
            "Epoch 00044: val_accuracy did not improve from 0.92188\n",
            "6/5 [===================================] - 8s 1s/step - loss: 0.3188 - accuracy: 0.8958 - val_loss: 0.3047 - val_accuracy: 0.8594\n",
            "Epoch 45/100\n",
            "6/5 [===================================] - ETA: 0s - loss: 0.4739 - accuracy: 0.7969\n",
            "Epoch 00045: val_accuracy did not improve from 0.92188\n",
            "6/5 [===================================] - 8s 1s/step - loss: 0.4739 - accuracy: 0.7969 - val_loss: 0.2588 - val_accuracy: 0.8906\n",
            "Epoch 46/100\n",
            "6/5 [===================================] - ETA: 0s - loss: 0.2493 - accuracy: 0.9323\n",
            "Epoch 00046: val_accuracy did not improve from 0.92188\n",
            "6/5 [===================================] - 8s 1s/step - loss: 0.2493 - accuracy: 0.9323 - val_loss: 0.3799 - val_accuracy: 0.8281\n",
            "Epoch 47/100\n",
            "6/5 [===================================] - ETA: 0s - loss: 0.4068 - accuracy: 0.8542\n",
            "Epoch 00047: val_accuracy did not improve from 0.92188\n",
            "6/5 [===================================] - 8s 1s/step - loss: 0.4068 - accuracy: 0.8542 - val_loss: 0.2693 - val_accuracy: 0.8906\n",
            "Epoch 48/100\n",
            "6/5 [===================================] - ETA: 0s - loss: 0.3683 - accuracy: 0.8698\n",
            "Epoch 00048: val_accuracy did not improve from 0.92188\n",
            "6/5 [===================================] - 8s 1s/step - loss: 0.3683 - accuracy: 0.8698 - val_loss: 0.2507 - val_accuracy: 0.9062\n",
            "Epoch 49/100\n",
            "6/5 [===================================] - ETA: 0s - loss: 0.3630 - accuracy: 0.8542\n",
            "Epoch 00049: val_accuracy improved from 0.92188 to 0.93750, saving model to vgg19_model.h5\n",
            "6/5 [===================================] - 9s 1s/step - loss: 0.3630 - accuracy: 0.8542 - val_loss: 0.1892 - val_accuracy: 0.9375\n",
            "Epoch 50/100\n",
            "6/5 [===================================] - ETA: 0s - loss: 0.4017 - accuracy: 0.8646\n",
            "Epoch 00050: val_accuracy did not improve from 0.93750\n",
            "6/5 [===================================] - 8s 1s/step - loss: 0.4017 - accuracy: 0.8646 - val_loss: 0.3540 - val_accuracy: 0.8438\n",
            "Epoch 51/100\n",
            "6/5 [===================================] - ETA: 0s - loss: 0.3369 - accuracy: 0.9062\n",
            "Epoch 00051: val_accuracy improved from 0.93750 to 0.96875, saving model to vgg19_model.h5\n",
            "6/5 [===================================] - 8s 1s/step - loss: 0.3369 - accuracy: 0.9062 - val_loss: 0.1779 - val_accuracy: 0.9688\n",
            "Epoch 52/100\n",
            "6/5 [===================================] - ETA: 0s - loss: 0.4092 - accuracy: 0.8177\n",
            "Epoch 00052: val_accuracy did not improve from 0.96875\n",
            "6/5 [===================================] - 8s 1s/step - loss: 0.4092 - accuracy: 0.8177 - val_loss: 0.1503 - val_accuracy: 0.9531\n",
            "Epoch 53/100\n",
            "6/5 [===================================] - ETA: 0s - loss: 0.2735 - accuracy: 0.9010\n",
            "Epoch 00053: val_accuracy did not improve from 0.96875\n",
            "6/5 [===================================] - 8s 1s/step - loss: 0.2735 - accuracy: 0.9010 - val_loss: 0.2298 - val_accuracy: 0.8906\n",
            "Epoch 54/100\n",
            "6/5 [===================================] - ETA: 0s - loss: 0.2898 - accuracy: 0.9219\n",
            "Epoch 00054: val_accuracy did not improve from 0.96875\n",
            "6/5 [===================================] - 8s 1s/step - loss: 0.2898 - accuracy: 0.9219 - val_loss: 0.2309 - val_accuracy: 0.8906\n",
            "Epoch 55/100\n",
            "6/5 [===================================] - ETA: 0s - loss: 0.3326 - accuracy: 0.9010\n",
            "Epoch 00055: val_accuracy did not improve from 0.96875\n",
            "6/5 [===================================] - 8s 1s/step - loss: 0.3326 - accuracy: 0.9010 - val_loss: 0.2471 - val_accuracy: 0.9375\n",
            "Epoch 56/100\n",
            "6/5 [===================================] - ETA: 0s - loss: 0.2790 - accuracy: 0.8802\n",
            "Epoch 00056: val_accuracy did not improve from 0.96875\n",
            "6/5 [===================================] - 8s 1s/step - loss: 0.2790 - accuracy: 0.8802 - val_loss: 0.3024 - val_accuracy: 0.8750\n",
            "Epoch 57/100\n",
            "6/5 [===================================] - ETA: 0s - loss: 0.3623 - accuracy: 0.8750\n",
            "Epoch 00057: val_accuracy did not improve from 0.96875\n",
            "6/5 [===================================] - 8s 1s/step - loss: 0.3623 - accuracy: 0.8750 - val_loss: 0.2029 - val_accuracy: 0.9219\n",
            "Epoch 58/100\n",
            "6/5 [===================================] - ETA: 0s - loss: 0.2650 - accuracy: 0.9010\n",
            "Epoch 00058: val_accuracy did not improve from 0.96875\n",
            "6/5 [===================================] - 8s 1s/step - loss: 0.2650 - accuracy: 0.9010 - val_loss: 0.3614 - val_accuracy: 0.8438\n",
            "Epoch 59/100\n",
            "6/5 [===================================] - ETA: 0s - loss: 0.3143 - accuracy: 0.8958\n",
            "Epoch 00059: val_accuracy did not improve from 0.96875\n",
            "6/5 [===================================] - 8s 1s/step - loss: 0.3143 - accuracy: 0.8958 - val_loss: 0.4591 - val_accuracy: 0.8281\n",
            "Epoch 60/100\n",
            "6/5 [===================================] - ETA: 0s - loss: 0.2816 - accuracy: 0.9115\n",
            "Epoch 00060: val_accuracy did not improve from 0.96875\n",
            "6/5 [===================================] - 8s 1s/step - loss: 0.2816 - accuracy: 0.9115 - val_loss: 0.2000 - val_accuracy: 0.9219\n",
            "Epoch 61/100\n",
            "6/5 [===================================] - ETA: 0s - loss: 0.3124 - accuracy: 0.9010\n",
            "Epoch 00061: val_accuracy did not improve from 0.96875\n",
            "6/5 [===================================] - 8s 1s/step - loss: 0.3124 - accuracy: 0.9010 - val_loss: 0.2891 - val_accuracy: 0.8906\n",
            "Epoch 62/100\n",
            "6/5 [===================================] - ETA: 0s - loss: 0.2967 - accuracy: 0.8958\n",
            "Epoch 00062: val_accuracy did not improve from 0.96875\n",
            "6/5 [===================================] - 8s 1s/step - loss: 0.2967 - accuracy: 0.8958 - val_loss: 0.2916 - val_accuracy: 0.8594\n",
            "Epoch 63/100\n",
            "6/5 [===================================] - ETA: 0s - loss: 0.2462 - accuracy: 0.9062\n",
            "Epoch 00063: val_accuracy did not improve from 0.96875\n",
            "6/5 [===================================] - 8s 1s/step - loss: 0.2462 - accuracy: 0.9062 - val_loss: 0.3164 - val_accuracy: 0.8750\n",
            "Epoch 64/100\n",
            "6/5 [===================================] - ETA: 0s - loss: 0.3095 - accuracy: 0.8750\n",
            "Epoch 00064: val_accuracy did not improve from 0.96875\n",
            "6/5 [===================================] - 8s 1s/step - loss: 0.3095 - accuracy: 0.8750 - val_loss: 0.2675 - val_accuracy: 0.8750\n",
            "Epoch 65/100\n",
            "6/5 [===================================] - ETA: 0s - loss: 0.2985 - accuracy: 0.8906\n",
            "Epoch 00065: val_accuracy did not improve from 0.96875\n",
            "6/5 [===================================] - 8s 1s/step - loss: 0.2985 - accuracy: 0.8906 - val_loss: 0.2389 - val_accuracy: 0.9219\n",
            "Epoch 66/100\n",
            "6/5 [===================================] - ETA: 0s - loss: 0.3021 - accuracy: 0.8906\n",
            "Epoch 00066: val_accuracy did not improve from 0.96875\n",
            "6/5 [===================================] - 8s 1s/step - loss: 0.3021 - accuracy: 0.8906 - val_loss: 0.3163 - val_accuracy: 0.8438\n",
            "Epoch 67/100\n",
            "6/5 [===================================] - ETA: 0s - loss: 0.3128 - accuracy: 0.8854\n",
            "Epoch 00067: val_accuracy did not improve from 0.96875\n",
            "6/5 [===================================] - 8s 1s/step - loss: 0.3128 - accuracy: 0.8854 - val_loss: 0.3882 - val_accuracy: 0.8438\n",
            "Epoch 68/100\n",
            "6/5 [===================================] - ETA: 0s - loss: 0.2649 - accuracy: 0.9115\n",
            "Epoch 00068: val_accuracy did not improve from 0.96875\n",
            "6/5 [===================================] - 8s 1s/step - loss: 0.2649 - accuracy: 0.9115 - val_loss: 0.2407 - val_accuracy: 0.9219\n",
            "Epoch 69/100\n",
            "6/5 [===================================] - ETA: 0s - loss: 0.3006 - accuracy: 0.9115\n",
            "Epoch 00069: val_accuracy did not improve from 0.96875\n",
            "6/5 [===================================] - 8s 1s/step - loss: 0.3006 - accuracy: 0.9115 - val_loss: 0.1784 - val_accuracy: 0.9219\n",
            "Epoch 70/100\n",
            "6/5 [===================================] - ETA: 0s - loss: 0.2329 - accuracy: 0.8958\n",
            "Epoch 00070: val_accuracy did not improve from 0.96875\n",
            "6/5 [===================================] - 8s 1s/step - loss: 0.2329 - accuracy: 0.8958 - val_loss: 0.1827 - val_accuracy: 0.9375\n",
            "Epoch 71/100\n",
            "6/5 [===================================] - ETA: 0s - loss: 0.2972 - accuracy: 0.8750\n",
            "Epoch 00071: val_accuracy did not improve from 0.96875\n",
            "6/5 [===================================] - 8s 1s/step - loss: 0.2972 - accuracy: 0.8750 - val_loss: 0.2077 - val_accuracy: 0.9219\n",
            "Epoch 72/100\n",
            "6/5 [===================================] - ETA: 0s - loss: 0.2599 - accuracy: 0.9010\n",
            "Epoch 00072: val_accuracy did not improve from 0.96875\n",
            "6/5 [===================================] - 8s 1s/step - loss: 0.2599 - accuracy: 0.9010 - val_loss: 0.2444 - val_accuracy: 0.9062\n",
            "Epoch 73/100\n",
            "6/5 [===================================] - ETA: 0s - loss: 0.3211 - accuracy: 0.8698\n",
            "Epoch 00073: val_accuracy did not improve from 0.96875\n",
            "6/5 [===================================] - 9s 1s/step - loss: 0.3211 - accuracy: 0.8698 - val_loss: 0.2086 - val_accuracy: 0.9219\n",
            "Epoch 74/100\n",
            "6/5 [===================================] - ETA: 0s - loss: 0.3181 - accuracy: 0.8854\n",
            "Epoch 00074: val_accuracy did not improve from 0.96875\n",
            "6/5 [===================================] - 8s 1s/step - loss: 0.3181 - accuracy: 0.8854 - val_loss: 0.2767 - val_accuracy: 0.9219\n",
            "Epoch 75/100\n",
            "6/5 [===================================] - ETA: 0s - loss: 0.2593 - accuracy: 0.8958\n",
            "Epoch 00075: val_accuracy did not improve from 0.96875\n",
            "6/5 [===================================] - 9s 1s/step - loss: 0.2593 - accuracy: 0.8958 - val_loss: 0.2160 - val_accuracy: 0.9062\n",
            "Epoch 76/100\n",
            "6/5 [===================================] - ETA: 0s - loss: 0.2469 - accuracy: 0.8958\n",
            "Epoch 00076: val_accuracy did not improve from 0.96875\n",
            "6/5 [===================================] - 9s 1s/step - loss: 0.2469 - accuracy: 0.8958 - val_loss: 0.2390 - val_accuracy: 0.9219\n",
            "Epoch 77/100\n",
            "6/5 [===================================] - ETA: 0s - loss: 0.2809 - accuracy: 0.8854\n",
            "Epoch 00077: val_accuracy did not improve from 0.96875\n",
            "6/5 [===================================] - 8s 1s/step - loss: 0.2809 - accuracy: 0.8854 - val_loss: 0.2862 - val_accuracy: 0.8750\n",
            "Epoch 78/100\n",
            "6/5 [===================================] - ETA: 0s - loss: 0.2662 - accuracy: 0.9062\n",
            "Epoch 00078: val_accuracy did not improve from 0.96875\n",
            "6/5 [===================================] - 8s 1s/step - loss: 0.2662 - accuracy: 0.9062 - val_loss: 0.1782 - val_accuracy: 0.9531\n",
            "Epoch 79/100\n",
            "6/5 [===================================] - ETA: 0s - loss: 0.2538 - accuracy: 0.9167\n",
            "Epoch 00079: val_accuracy did not improve from 0.96875\n",
            "6/5 [===================================] - 8s 1s/step - loss: 0.2538 - accuracy: 0.9167 - val_loss: 0.3127 - val_accuracy: 0.8594\n",
            "Epoch 80/100\n",
            "6/5 [===================================] - ETA: 0s - loss: 0.3244 - accuracy: 0.8802\n",
            "Epoch 00080: val_accuracy did not improve from 0.96875\n",
            "6/5 [===================================] - 8s 1s/step - loss: 0.3244 - accuracy: 0.8802 - val_loss: 0.1660 - val_accuracy: 0.9375\n",
            "Epoch 81/100\n",
            "6/5 [===================================] - ETA: 0s - loss: 0.3192 - accuracy: 0.8750\n",
            "Epoch 00081: val_accuracy did not improve from 0.96875\n",
            "6/5 [===================================] - 8s 1s/step - loss: 0.3192 - accuracy: 0.8750 - val_loss: 0.2354 - val_accuracy: 0.9375\n",
            "Epoch 82/100\n",
            "6/5 [===================================] - ETA: 0s - loss: 0.2768 - accuracy: 0.8802\n",
            "Epoch 00082: val_accuracy did not improve from 0.96875\n",
            "6/5 [===================================] - 8s 1s/step - loss: 0.2768 - accuracy: 0.8802 - val_loss: 0.1784 - val_accuracy: 0.9062\n",
            "Epoch 83/100\n",
            "6/5 [===================================] - ETA: 0s - loss: 0.2621 - accuracy: 0.9271\n",
            "Epoch 00083: val_accuracy did not improve from 0.96875\n",
            "6/5 [===================================] - 8s 1s/step - loss: 0.2621 - accuracy: 0.9271 - val_loss: 0.2256 - val_accuracy: 0.9062\n",
            "Epoch 84/100\n",
            "6/5 [===================================] - ETA: 0s - loss: 0.2897 - accuracy: 0.9010\n",
            "Epoch 00084: val_accuracy did not improve from 0.96875\n",
            "6/5 [===================================] - 8s 1s/step - loss: 0.2897 - accuracy: 0.9010 - val_loss: 0.3256 - val_accuracy: 0.8750\n",
            "Epoch 85/100\n",
            "6/5 [===================================] - ETA: 0s - loss: 0.3417 - accuracy: 0.8750\n",
            "Epoch 00085: val_accuracy did not improve from 0.96875\n",
            "6/5 [===================================] - 9s 1s/step - loss: 0.3417 - accuracy: 0.8750 - val_loss: 0.2001 - val_accuracy: 0.9219\n",
            "Epoch 86/100\n",
            "6/5 [===================================] - ETA: 0s - loss: 0.2689 - accuracy: 0.9010\n",
            "Epoch 00086: val_accuracy did not improve from 0.96875\n",
            "6/5 [===================================] - 8s 1s/step - loss: 0.2689 - accuracy: 0.9010 - val_loss: 0.1868 - val_accuracy: 0.9375\n",
            "Epoch 87/100\n",
            "6/5 [===================================] - ETA: 0s - loss: 0.2618 - accuracy: 0.9167\n",
            "Epoch 00087: val_accuracy did not improve from 0.96875\n",
            "6/5 [===================================] - 8s 1s/step - loss: 0.2618 - accuracy: 0.9167 - val_loss: 0.2056 - val_accuracy: 0.9375\n",
            "Epoch 88/100\n",
            "6/5 [===================================] - ETA: 0s - loss: 0.2201 - accuracy: 0.9167\n",
            "Epoch 00088: val_accuracy did not improve from 0.96875\n",
            "6/5 [===================================] - 8s 1s/step - loss: 0.2201 - accuracy: 0.9167 - val_loss: 0.1471 - val_accuracy: 0.9688\n",
            "Epoch 89/100\n",
            "6/5 [===================================] - ETA: 0s - loss: 0.3174 - accuracy: 0.8646\n",
            "Epoch 00089: val_accuracy did not improve from 0.96875\n",
            "6/5 [===================================] - 9s 1s/step - loss: 0.3174 - accuracy: 0.8646 - val_loss: 0.2997 - val_accuracy: 0.9062\n",
            "Epoch 90/100\n",
            "6/5 [===================================] - ETA: 0s - loss: 0.2517 - accuracy: 0.9167\n",
            "Epoch 00090: val_accuracy did not improve from 0.96875\n",
            "6/5 [===================================] - 8s 1s/step - loss: 0.2517 - accuracy: 0.9167 - val_loss: 0.1733 - val_accuracy: 0.9375\n",
            "Epoch 91/100\n",
            "6/5 [===================================] - ETA: 0s - loss: 0.2249 - accuracy: 0.9167\n",
            "Epoch 00091: val_accuracy did not improve from 0.96875\n",
            "6/5 [===================================] - 8s 1s/step - loss: 0.2249 - accuracy: 0.9167 - val_loss: 0.2286 - val_accuracy: 0.9062\n",
            "Epoch 92/100\n",
            "6/5 [===================================] - ETA: 0s - loss: 0.2309 - accuracy: 0.9375\n",
            "Epoch 00092: val_accuracy did not improve from 0.96875\n",
            "6/5 [===================================] - 8s 1s/step - loss: 0.2309 - accuracy: 0.9375 - val_loss: 0.2764 - val_accuracy: 0.9062\n",
            "Epoch 93/100\n",
            "6/5 [===================================] - ETA: 0s - loss: 0.2889 - accuracy: 0.9167\n",
            "Epoch 00093: val_accuracy did not improve from 0.96875\n",
            "6/5 [===================================] - 8s 1s/step - loss: 0.2889 - accuracy: 0.9167 - val_loss: 0.2392 - val_accuracy: 0.8906\n",
            "Epoch 94/100\n",
            "6/5 [===================================] - ETA: 0s - loss: 0.2441 - accuracy: 0.9219\n",
            "Epoch 00094: val_accuracy did not improve from 0.96875\n",
            "6/5 [===================================] - 8s 1s/step - loss: 0.2441 - accuracy: 0.9219 - val_loss: 0.1534 - val_accuracy: 0.9688\n",
            "Epoch 95/100\n",
            "6/5 [===================================] - ETA: 0s - loss: 0.2592 - accuracy: 0.8854\n",
            "Epoch 00095: val_accuracy did not improve from 0.96875\n",
            "6/5 [===================================] - 9s 1s/step - loss: 0.2592 - accuracy: 0.8854 - val_loss: 0.2459 - val_accuracy: 0.8594\n",
            "Epoch 96/100\n",
            "6/5 [===================================] - ETA: 0s - loss: 0.2489 - accuracy: 0.9062\n",
            "Epoch 00096: val_accuracy did not improve from 0.96875\n",
            "6/5 [===================================] - 8s 1s/step - loss: 0.2489 - accuracy: 0.9062 - val_loss: 0.2138 - val_accuracy: 0.9062\n",
            "Epoch 97/100\n",
            "6/5 [===================================] - ETA: 0s - loss: 0.2533 - accuracy: 0.9167\n",
            "Epoch 00097: val_accuracy did not improve from 0.96875\n",
            "6/5 [===================================] - 8s 1s/step - loss: 0.2533 - accuracy: 0.9167 - val_loss: 0.2124 - val_accuracy: 0.8906\n",
            "Epoch 98/100\n",
            "6/5 [===================================] - ETA: 0s - loss: 0.2182 - accuracy: 0.9167\n",
            "Epoch 00098: val_accuracy did not improve from 0.96875\n",
            "6/5 [===================================] - 8s 1s/step - loss: 0.2182 - accuracy: 0.9167 - val_loss: 0.1584 - val_accuracy: 0.9219\n",
            "Epoch 99/100\n",
            "6/5 [===================================] - ETA: 0s - loss: 0.2764 - accuracy: 0.9271\n",
            "Epoch 00099: val_accuracy did not improve from 0.96875\n",
            "6/5 [===================================] - 8s 1s/step - loss: 0.2764 - accuracy: 0.9271 - val_loss: 0.1571 - val_accuracy: 0.9219\n",
            "Epoch 100/100\n",
            "6/5 [===================================] - ETA: 0s - loss: 0.2355 - accuracy: 0.9219\n",
            "Epoch 00100: val_accuracy did not improve from 0.96875\n",
            "6/5 [===================================] - 8s 1s/step - loss: 0.2355 - accuracy: 0.9219 - val_loss: 0.1442 - val_accuracy: 0.9531\n"
          ],
          "name": "stdout"
        }
      ]
    },
    {
      "cell_type": "code",
      "metadata": {
        "id": "srU-ApXkDpzq"
      },
      "source": [
        "test_pred = []\n",
        "test_actual = []\n",
        "label_dict = {\n",
        "    0 : \"Covid\",\n",
        "    1 : \"Normal\",\n",
        "    2 : \"Pneumonia\"\n",
        "}"
      ],
      "execution_count": 16,
      "outputs": []
    },
    {
      "cell_type": "code",
      "metadata": {
        "id": "CBvZvIAl0NYS"
      },
      "source": [
        "def image_preprocessing(path):\n",
        "  for filename in os.listdir(path):\n",
        "\n",
        "    if path == '/content/drive/My Drive/Data/test/COVID19':\n",
        "      filepath = os.path.join(path,filename)\n",
        "      test_image = image.load_img(filepath,target_size=(224,224))\n",
        "      image_array = image.img_to_array(test_image)\n",
        "      image_array = np.expand_dims(image_array,axis = 0)\n",
        "      rescaled_image = image_array/255. \n",
        "      predicted_image = model.predict(rescaled_image)\n",
        "      predicted_image = label_dict[predicted_image.argmax()]\n",
        "      test_pred.append(predicted_image)\n",
        "      test_actual.append('Covid')\n",
        "\n",
        "    elif path == '/content/drive/My Drive/Data/test/NORMAL':\n",
        "      filepath = os.path.join(path,filename)\n",
        "      test_image = image.load_img(filepath,target_size=(224,224))\n",
        "      image_array = image.img_to_array(test_image)\n",
        "      image_array = np.expand_dims(image_array,axis = 0)\n",
        "      rescaled_image = image_array/255. \n",
        "      predicted_image = model.predict(rescaled_image)\n",
        "      predicted_image = label_dict[predicted_image.argmax()]\n",
        "      test_pred.append(predicted_image)\n",
        "      test_actual.append('Normal')\n",
        "\n",
        "    elif path == '/content/drive/My Drive/Data/test/PNEUMONIA':\n",
        "      filepath = os.path.join(path,filename)\n",
        "      test_image = image.load_img(filepath,target_size=(224,224))\n",
        "      image_array = image.img_to_array(test_image)\n",
        "      image_array = np.expand_dims(image_array,axis = 0)\n",
        "      rescaled_image = image_array/255. \n",
        "      predicted_image = model.predict(rescaled_image)\n",
        "      predicted_image = label_dict[predicted_image.argmax()]\n",
        "      test_pred.append(predicted_image)\n",
        "      test_actual.append('Pneumonia')\n",
        "\n",
        "\n"
      ],
      "execution_count": 17,
      "outputs": []
    },
    {
      "cell_type": "code",
      "metadata": {
        "id": "-fTX9TIi6Yu4"
      },
      "source": [
        "covid_path = '/content/drive/My Drive/Data/test/COVID19'\n",
        "normal_path = '/content/drive/My Drive/Data/test/NORMAL'\n",
        "pneumonia_path = '/content/drive/My Drive/Data/test/PNEUMONIA'"
      ],
      "execution_count": 18,
      "outputs": []
    },
    {
      "cell_type": "code",
      "metadata": {
        "id": "7GqHE8Dw76x8"
      },
      "source": [
        "image_preprocessing(covid_path)\n",
        "image_preprocessing(normal_path)\n",
        "image_preprocessing(pneumonia_path)"
      ],
      "execution_count": 19,
      "outputs": []
    },
    {
      "cell_type": "code",
      "metadata": {
        "id": "kfganSZGAQSE"
      },
      "source": [
        "#model.save('vgg19_model.h5')#"
      ],
      "execution_count": 20,
      "outputs": []
    },
    {
      "cell_type": "code",
      "metadata": {
        "id": "S2_LLnpwpaxz"
      },
      "source": [
        "from sklearn.metrics import confusion_matrix\n",
        "import seaborn as sns"
      ],
      "execution_count": 21,
      "outputs": []
    },
    {
      "cell_type": "code",
      "metadata": {
        "id": "6bQpsoPuAWyr",
        "outputId": "566a4d33-561b-41b9-b7a9-b140d06a39f1",
        "colab": {
          "base_uri": "https://localhost:8080/",
          "height": 692
        }
      },
      "source": [
        "def plot_confusion_matrix(normalize):\n",
        "  classes = ['COVID','NORMAL','PNEUMONIA']\n",
        "  tick_marks = [0.5,1.5,2.5]\n",
        "  cn = confusion_matrix(test_actual,test_pred,normalize=normalize)\n",
        "  sns.heatmap(cn,cmap='plasma',annot=True)\n",
        "  plt.xticks(tick_marks, classes)\n",
        "  plt.yticks(tick_marks, classes)\n",
        "  plt.title('Confusion Matrix')\n",
        "  plt.ylabel('True label')\n",
        "  plt.xlabel('Predicted label')\n",
        "  plt.savefig('confusion_mat.png')\n",
        "  plt.show()\n",
        "  print(cn)\n",
        "\n",
        "print('Confusion Matrix without Normalization')\n",
        "plot_confusion_matrix(normalize=None)\n",
        "plot_confusion_matrix('true')"
      ],
      "execution_count": 26,
      "outputs": [
        {
          "output_type": "stream",
          "text": [
            "Confusion Matrix without Normalization\n"
          ],
          "name": "stdout"
        },
        {
          "output_type": "display_data",
          "data": {
            "image/png": "[encoded data removed]",
            "text/plain": [
              "<Figure size 432x288 with 2 Axes>"
            ]
          },
          "metadata": {
            "tags": [],
            "needs_background": "light"
          }
        },
        {
          "output_type": "stream",
          "text": [
            "[[ 94   4  18]\n",
            " [  0 290  27]\n",
            " [  0  50 805]]\n"
          ],
          "name": "stdout"
        },
        {
          "output_type": "display_data",
          "data": {
            "image/png": "[encoded data removed]",
            "text/plain": [
              "<Figure size 432x288 with 2 Axes>"
            ]
          },
          "metadata": {
            "tags": [],
            "needs_background": "light"
          }
        },
        {
          "output_type": "stream",
          "text": [
            "[[0.81034483 0.03448276 0.15517241]\n",
            " [0.         0.9148265  0.0851735 ]\n",
            " [0.         0.05847953 0.94152047]]\n"
          ],
          "name": "stdout"
        }
      ]
    },
    {
      "cell_type": "code",
      "metadata": {
        "id": "UaFhadxSTInV",
        "outputId": "573e3407-4709-4f80-9e38-f308c22e18f3",
        "colab": {
          "base_uri": "https://localhost:8080/"
        }
      },
      "source": [
        "from sklearn.metrics import classification_report\n",
        "print(classification_report(test_actual, test_pred))"
      ],
      "execution_count": 23,
      "outputs": [
        {
          "output_type": "stream",
          "text": [
            "              precision    recall  f1-score   support\n",
            "\n",
            "       Covid       1.00      0.81      0.90       116\n",
            "      Normal       0.84      0.91      0.88       317\n",
            "   Pneumonia       0.95      0.94      0.94       855\n",
            "\n",
            "    accuracy                           0.92      1288\n",
            "   macro avg       0.93      0.89      0.91      1288\n",
            "weighted avg       0.93      0.92      0.92      1288\n",
            "\n"
          ],
          "name": "stdout"
        }
      ]
    },
    {
      "cell_type": "code",
      "metadata": {
        "id": "Q5bO5VPwSvid",
        "outputId": "269b05b9-6c05-4f1f-f00a-dfc40a9159e6",
        "colab": {
          "base_uri": "https://localhost:8080/",
          "height": 350
        }
      },
      "source": [
        "\n",
        "plt.figure(figsize=(5,5))\n",
        "\n",
        "plt.plot(r.history['accuracy'])\n",
        "plt.plot(r.history['val_accuracy'])\n",
        "\n",
        "plt.title('Model Accuracy')\n",
        "plt.ylabel('Accuracy')\n",
        "plt.xlabel('Epoch')\n",
        "\n",
        "plt.legend(['Training', 'Testing'])\n",
        "#plt.savefig('vgg_chest_accuracy.png')\n",
        "plt.show()"
      ],
      "execution_count": 28,
      "outputs": [
        {
          "output_type": "display_data",
          "data": {
            "image/png": "[encoded data removed]",
            "text/plain": [
              "<Figure size 360x360 with 1 Axes>"
            ]
          },
          "metadata": {
            "tags": [],
            "needs_background": "light"
          }
        }
      ]
    },
    {
      "cell_type": "code",
      "metadata": {
        "id": "xjRUTW-sTTM5",
        "outputId": "7af2cd82-ea0a-4a20-c5b8-ae92c3a17a68",
        "colab": {
          "base_uri": "https://localhost:8080/",
          "height": 350
        }
      },
      "source": [
        "plt.figure(figsize=(5,5))\n",
        "\n",
        "plt.plot(r.history['loss'])\n",
        "plt.plot(r.history['val_loss'])\n",
        "\n",
        "plt.title('Model Loss')\n",
        "plt.ylabel('Loss')\n",
        "plt.xlabel('Epoch')\n",
        "\n",
        "plt.legend(['Training', 'Testing'])\n",
        "#plt.savefig('vgg_chest_loss.png')\n",
        "plt.show()"
      ],
      "execution_count": 29,
      "outputs": [
        {
          "output_type": "display_data",
          "data": {
            "image/png": "[encoded data removed]",
            "text/plain": [
              "<Figure size 360x360 with 1 Axes>"
            ]
          },
          "metadata": {
            "tags": [],
            "needs_background": "light"
          }
        }
      ]
    },
    {
      "cell_type": "code",
      "metadata": {
        "id": "AYNzJZ7naQWw"
      },
      "source": [
        ""
      ],
      "execution_count": 27,
      "outputs": []
    }
  ]
}