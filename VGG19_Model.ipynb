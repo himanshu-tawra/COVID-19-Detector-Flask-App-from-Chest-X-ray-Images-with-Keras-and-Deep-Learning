{
  "nbformat": 4,
  "nbformat_minor": 0,
  "metadata": {
    "colab": {
      "name": "VGG19 Model.ipynb",
      "provenance": [],
      "collapsed_sections": [],
      "authorship_tag": "ABX9TyNqrMuBCSwo5SVv9DIn5g1J",
      "include_colab_link": true
    },
    "kernelspec": {
      "name": "python3",
      "display_name": "Python 3"
    },
    "accelerator": "GPU"
  },
  "cells": [
    {
      "cell_type": "markdown",
      "metadata": {
        "id": "view-in-github",
        "colab_type": "text"
      },
      "source": [
        "<a href=\"https://colab.research.google.com/github/himanshu-tawra/COVID-19-Detector-Flask-App-from-Chest-X-ray-Images-with-Keras-and-Deep-Learning/blob/master/VGG19_Model.ipynb\" target=\"_parent\"><img src=\"https://colab.research.google.com/assets/colab-badge.svg\" alt=\"Open In Colab\"/></a>"
      ]
    },
    {
      "cell_type": "code",
      "metadata": {
        "id": "iozLHTPOB9IH",
        "outputId": "df7d4a34-e03a-48b3-c282-be5c632a88aa",
        "colab": {
          "base_uri": "https://localhost:8080/"
        }
      },
      "source": [
        "!wget https://www.dropbox.com/sh/c2uaggwlb2hosof/AABAu2Uv3u81izc4rWk9zxgna?dl=0"
      ],
      "execution_count": 1,
      "outputs": [
        {
          "output_type": "stream",
          "text": [
            "--2020-11-05 20:05:08--  https://www.dropbox.com/sh/c2uaggwlb2hosof/AABAu2Uv3u81izc4rWk9zxgna?dl=0\n",
            "Resolving www.dropbox.com (www.dropbox.com)... 162.125.3.1, 2620:100:6018:1::a27d:301\n",
            "Connecting to www.dropbox.com (www.dropbox.com)|162.125.3.1|:443... connected.\n",
            "HTTP request sent, awaiting response... 301 Moved Permanently\n",
            "Location: /sh/raw/c2uaggwlb2hosof/AABAu2Uv3u81izc4rWk9zxgna [following]\n",
            "--2020-11-05 20:05:08--  https://www.dropbox.com/sh/raw/c2uaggwlb2hosof/AABAu2Uv3u81izc4rWk9zxgna\n",
            "Reusing existing connection to www.dropbox.com:443.\n",
            "HTTP request sent, awaiting response... 302 Found\n",
            "Location: https://uc362a79cade5642e5b8ef570151.dl.dropboxusercontent.com/zip_download_get/AmDMV5WNPwqrl6NQYi2DoBy784MVkc98n0IONnZVHWyJPuVAveOHL9ZhSu9RczS5mXAgD2dzhi2JOOm-8o67827n3QiJKUTMXwy2Zeo-T_CwWw [following]\n",
            "--2020-11-05 20:05:09--  https://uc362a79cade5642e5b8ef570151.dl.dropboxusercontent.com/zip_download_get/AmDMV5WNPwqrl6NQYi2DoBy784MVkc98n0IONnZVHWyJPuVAveOHL9ZhSu9RczS5mXAgD2dzhi2JOOm-8o67827n3QiJKUTMXwy2Zeo-T_CwWw\n",
            "Resolving uc362a79cade5642e5b8ef570151.dl.dropboxusercontent.com (uc362a79cade5642e5b8ef570151.dl.dropboxusercontent.com)... 162.125.3.15, 2620:100:6018:15::a27d:30f\n",
            "Connecting to uc362a79cade5642e5b8ef570151.dl.dropboxusercontent.com (uc362a79cade5642e5b8ef570151.dl.dropboxusercontent.com)|162.125.3.15|:443... connected.\n",
            "HTTP request sent, awaiting response... 200 OK\n",
            "Length: 180547331 (172M) [application/zip]\n",
            "Saving to: ‘AABAu2Uv3u81izc4rWk9zxgna?dl=0’\n",
            "\n",
            "AABAu2Uv3u81izc4rWk 100%[===================>] 172.18M  4.76MB/s    in 26s     \n",
            "\n",
            "2020-11-05 20:05:36 (6.56 MB/s) - ‘AABAu2Uv3u81izc4rWk9zxgna?dl=0’ saved [180547331/180547331]\n",
            "\n"
          ],
          "name": "stdout"
        }
      ]
    },
    {
      "cell_type": "code",
      "metadata": {
        "id": "6EibVj0CCE5n",
        "outputId": "fb6dc375-3136-4219-a146-bbb441fb7283",
        "colab": {
          "base_uri": "https://localhost:8080/"
        }
      },
      "source": [
        "!unzip AABAu2Uv3u81izc4rWk9zxgna?dl=0"
      ],
      "execution_count": 2,
      "outputs": [
        {
          "output_type": "stream",
          "text": [
            "Archive:  AABAu2Uv3u81izc4rWk9zxgna?dl=0\n",
            "warning:  stripped absolute path spec from /\n",
            "mapname:  conversion of  failed\n",
            "   creating: Val/\n",
            "   creating: Test/\n",
            "   creating: Train/\n",
            "   creating: Val/Covid/\n",
            "   creating: Test/Covid/\n",
            "   creating: Val/Normal/\n",
            "   creating: Train/Covid/\n",
            "   creating: Test/Normal/\n",
            "   creating: Train/Normal/\n",
            " extracting: Train/Covid/AR-2.jpg    \n",
            " extracting: Train/Covid/AR-1.jpg    \n",
            " extracting: Test/Covid/paving.jpg   \n",
            " extracting: Val/Covid/d009d61f.jpg  \n",
            " extracting: Val/Covid/e1446fe8.jpg  \n",
            " extracting: Val/Covid/d9d6ca9a.jpg  \n",
            " extracting: Val/Covid/f6d980a0.jpg  \n",
            " extracting: Val/Covid/ec083e35.jpg  \n",
            " extracting: Test/Covid/f8335316.jpg  \n",
            " extracting: Test/Covid/f6575117.jpg  \n",
            " extracting: Test/Covid/f64132c8.jpg  \n",
            " extracting: Train/Covid/5782ae15.jpg  \n",
            " extracting: Train/Covid/bb0e626a.jpg  \n",
            " extracting: Train/Covid/82a78c13.jpg  \n",
            " extracting: Train/Covid/a361d7b7.jpg  \n",
            " extracting: Train/Covid/1052b0fe.jpg  \n",
            " extracting: Train/Covid/a2eba651.jpg  \n",
            " extracting: Train/Covid/bd10d5e2.jpg  \n",
            " extracting: Train/Covid/c601f50d.jpg  \n",
            " extracting: Train/Covid/2168a917.jpg  \n",
            " extracting: Train/Covid/5f619d7e.jpg  \n",
            " extracting: Train/Covid/80b5f00f.jpg  \n",
            " extracting: Train/Covid/90986ce4.jpg  \n",
            " extracting: Train/Covid/a8ac1969.jpg  \n",
            " extracting: Train/Covid/ac4f6e4e.jpg  \n",
            " extracting: Train/Covid/7afaaccc.jpg  \n",
            " extracting: Train/Covid/19abe1f3.jpg  \n",
            " extracting: Test/Covid/gr1_lrg-b.jpg  \n",
            " extracting: Train/Covid/441c9cdd.jpg  \n",
            " extracting: Train/Covid/4d98e1de.jpg  \n",
            " extracting: Train/Covid/2cd63b76.jpg  \n",
            " extracting: Train/Covid/0a7faa2a.jpg  \n",
            " extracting: Train/Covid/8da14fff.jpg  \n",
            " extracting: Train/Covid/3b46de94.jpg  \n",
            " extracting: Test/Covid/gr1_lrg-a.jpg  \n",
            " extracting: Train/Covid/48c4542c.jpg  \n",
            " extracting: Train/Covid/c3829ecb.jpg  \n",
            " extracting: Train/Covid/8fc103ca.jpg  \n",
            " extracting: Train/Covid/c0f74558.jpg  \n",
            " extracting: Train/Covid/b9673e89.jpg  \n",
            " extracting: Train/Covid/16708_4_1.jpg  \n",
            " extracting: Train/Covid/16663_1_1.jpg  \n",
            " extracting: Train/Covid/16660_2_1.jpg  \n",
            " extracting: Train/Covid/16953_4_1.jpg  \n",
            " extracting: Train/Covid/16708_5_1.jpg  \n",
            " extracting: Train/Covid/16745_5_1.png  \n",
            " extracting: Train/Covid/16660_4_1.jpg  \n",
            " extracting: Train/Covid/16953_5_1.jpg  \n",
            " extracting: Train/Covid/16708_1_1.jpg  \n",
            " extracting: Train/Covid/16672_1_1.jpg  \n",
            " extracting: Train/Covid/16660_1_1.jpg  \n",
            " extracting: Train/Covid/16660_3_1.jpg  \n",
            " extracting: Train/Covid/16747_1_1.jpg  \n",
            " extracting: Train/Covid/16664_1_1.jpg  \n",
            " extracting: Train/Covid/16660_5_1.jpg  \n",
            " extracting: Train/Covid/16865_1_1.jpg  \n",
            " extracting: Train/Covid/16953_3_1.jpg  \n",
            " extracting: Val/Covid/extubation-1.jpg  \n",
            " extracting: Val/Covid/extubation-8.jpg  \n",
            " extracting: Val/Covid/extubation-4.jpg  \n",
            " extracting: Train/Covid/16669_3_1.jpeg  \n",
            " extracting: Val/Covid/extubation-13.jpg  \n",
            " extracting: Val/Normal/IM-0351-0001.jpeg  \n",
            " extracting: Val/Normal/IM-0353-0001.jpeg  \n",
            " extracting: Val/Normal/IM-0349-0001.jpeg  \n",
            " extracting: Val/Normal/IM-0370-0001.jpeg  \n",
            " extracting: Val/Normal/IM-0359-0001.jpeg  \n",
            " extracting: Val/Normal/IM-0377-0001.jpeg  \n",
            " extracting: Val/Normal/IM-0365-0001.jpeg  \n",
            " extracting: Val/Normal/IM-0363-0001.jpeg  \n",
            " extracting: Val/Normal/IM-0371-0001.jpeg  \n",
            " extracting: Val/Normal/IM-0350-0001.jpeg  \n",
            " extracting: Val/Normal/IM-0372-0001.jpeg  \n",
            " extracting: Val/Normal/IM-0374-0001.jpeg  \n",
            " extracting: Val/Normal/IM-0354-0001.jpeg  \n",
            " extracting: Val/Normal/IM-0364-0001.jpeg  \n",
            " extracting: Val/Normal/IM-0355-0001.jpeg  \n",
            " extracting: Val/Normal/IM-0375-0001.jpeg  \n",
            " extracting: Val/Normal/IM-0367-0001.jpeg  \n",
            " extracting: Val/Normal/IM-0379-0001.jpeg  \n",
            " extracting: Val/Normal/IM-0382-0001.jpeg  \n",
            " extracting: Val/Normal/IM-0385-0001.jpeg  \n",
            " extracting: Val/Normal/IM-0383-0001.jpeg  \n",
            " extracting: Val/Normal/IM-0348-0001.jpeg  \n",
            " extracting: Val/Normal/IM-0381-0001.jpeg  \n",
            " extracting: Val/Normal/IM-0368-0001.jpeg  \n",
            " extracting: Val/Normal/IM-0387-0001.jpeg  \n",
            " extracting: Val/Normal/IM-0347-0001.jpeg  \n",
            " extracting: Val/Normal/IM-0362-0001.jpeg  \n",
            " extracting: Test/Covid/lancet-case2a.jpg  \n",
            " extracting: Val/Normal/IM-0384-0001.jpeg  \n",
            " extracting: Val/Normal/IM-0369-0001.jpeg  \n",
            " extracting: Val/Normal/IM-0356-0001.jpeg  \n",
            " extracting: Val/Normal/IM-0361-0001.jpeg  \n",
            " extracting: Val/Normal/IM-0386-0001.jpeg  \n",
            " extracting: Test/Covid/lancet-case2b.jpg  \n",
            " extracting: Test/Normal/IM-0303-0001.jpeg  \n",
            " extracting: Test/Normal/IM-0340-0001.jpeg  \n",
            " extracting: Test/Normal/IM-0315-0001.jpeg  \n",
            " extracting: Test/Normal/IM-0317-0001.jpeg  \n",
            " extracting: Test/Normal/IM-0339-0001.jpeg  \n",
            " extracting: Test/Covid/tpmd200203f2-b.png  \n",
            " extracting: Test/Normal/IM-0346-0001.jpeg  \n",
            " extracting: Test/Normal/IM-0332-0001.jpeg  \n",
            " extracting: Test/Normal/IM-0358-0001.jpeg  \n",
            " extracting: Test/Normal/IM-0329-0001.jpeg  \n",
            " extracting: Test/Normal/IM-0327-0001.jpeg  \n",
            " extracting: Test/Normal/IM-0331-0001.jpeg  \n",
            " extracting: Test/Normal/IM-0314-0001.jpeg  \n",
            " extracting: Test/Normal/IM-0308-0001.jpeg  \n",
            " extracting: Test/Normal/IM-0318-0001.jpeg  \n",
            " extracting: Test/Normal/IM-0335-0001.jpeg  \n",
            " extracting: Test/Normal/IM-0301-0001.jpeg  \n",
            " extracting: Test/Normal/IM-0307-0001.jpeg  \n",
            " extracting: Test/Normal/IM-0323-0001.jpeg  \n",
            " extracting: Test/Normal/IM-0305-0001.jpeg  \n",
            " extracting: Test/Normal/IM-0357-0001.jpeg  \n",
            " extracting: Test/Normal/IM-0345-0001.jpeg  \n",
            " extracting: Test/Normal/IM-0343-0001.jpeg  \n",
            " extracting: Test/Normal/IM-0337-0001.jpeg  \n",
            " extracting: Test/Normal/IM-0326-0001.jpeg  \n",
            " extracting: Test/Normal/IM-0341-0001.jpeg  \n",
            " extracting: Test/Normal/IM-0324-0001.jpeg  \n",
            " extracting: Test/Normal/IM-0333-0001.jpeg  \n",
            " extracting: Train/Covid/BMJ-37-163-g1.jpg  \n",
            " extracting: Test/Normal/IM-0302-0001.jpeg  \n",
            " extracting: Test/Normal/IM-0319-0001.jpeg  \n",
            " extracting: Test/Covid/tpmd200203f2-c.png  \n",
            " extracting: Test/Normal/IM-0316-0001.jpeg  \n",
            " extracting: Train/Covid/2-chest-filmc.jpg  \n",
            " extracting: Test/Normal/IM-0320-0001.jpeg  \n",
            " extracting: Test/Normal/IM-0330-0001.jpeg  \n",
            " extracting: Test/Normal/IM-0338-0001.jpeg  \n",
            " extracting: Test/Normal/IM-0306-0001.jpeg  \n",
            " extracting: Test/Normal/IM-0325-0001.jpeg  \n",
            " extracting: Train/Normal/IM-0257-0001.jpeg  \n",
            " extracting: Train/Normal/IM-0180-0001.jpeg  \n",
            " extracting: Train/Normal/IM-0164-0001.jpeg  \n",
            " extracting: Train/Normal/IM-0125-0001.jpeg  \n",
            " extracting: Train/Normal/IM-0162-0001.jpeg  \n",
            " extracting: Train/Normal/IM-0290-0001.jpeg  \n",
            " extracting: Train/Normal/IM-0272-0001.jpeg  \n",
            " extracting: Train/Normal/IM-0227-0001.jpeg  \n",
            " extracting: Train/Normal/IM-0299-0001.jpeg  \n",
            " extracting: Train/Normal/IM-0239-0001.jpeg  \n",
            " extracting: Train/Normal/IM-0289-0001.jpeg  \n",
            " extracting: Train/Normal/IM-0185-0001.jpeg  \n",
            " extracting: Train/Normal/IM-0141-0001.jpeg  \n",
            " extracting: Train/Normal/IM-0249-0001.jpeg  \n",
            " extracting: Train/Normal/IM-0241-0001.jpeg  \n",
            " extracting: Train/Normal/IM-0187-0001.jpeg  \n",
            " extracting: Train/Normal/IM-0177-0001.jpeg  \n",
            " extracting: Train/Normal/IM-0122-0001.jpeg  \n",
            " extracting: Train/Normal/IM-0133-0001.jpeg  \n",
            " extracting: Train/Normal/IM-0283-0001.jpeg  \n",
            " extracting: Train/Normal/IM-0234-0001.jpeg  \n",
            " extracting: Train/Normal/IM-0145-0001.jpeg  \n",
            " extracting: Train/Normal/IM-0158-0001.jpeg  \n",
            " extracting: Train/Normal/IM-0275-0001.jpeg  \n",
            " extracting: Train/Normal/IM-0236-0001.jpeg  \n",
            " extracting: Train/Normal/IM-0265-0001.jpeg  \n",
            " extracting: Train/Normal/IM-0248-0001.jpeg  \n",
            " extracting: Train/Normal/IM-0262-0001.jpeg  \n",
            " extracting: Train/Normal/IM-0115-0001.jpeg  \n",
            " extracting: Train/Normal/IM-0274-0001.jpeg  \n",
            " extracting: Train/Normal/IM-0172-0001.jpeg  \n",
            " extracting: Train/Normal/IM-0293-0001.jpeg  \n",
            " extracting: Train/Normal/IM-0256-0001.jpeg  \n",
            " extracting: Train/Normal/IM-0152-0001.jpeg  \n",
            " extracting: Train/Normal/IM-0228-0001.jpeg  \n",
            " extracting: Train/Normal/IM-0209-0001.jpeg  \n",
            " extracting: Train/Normal/IM-0135-0001.jpeg  \n",
            " extracting: Train/Normal/IM-0199-0001.jpeg  \n",
            " extracting: Train/Normal/IM-0217-0001.jpeg  \n",
            " extracting: Train/Normal/IM-0215-0001.jpeg  \n",
            " extracting: Train/Normal/IM-0195-0001.jpeg  \n",
            " extracting: Train/Normal/IM-0178-0001.jpeg  \n",
            " extracting: Train/Normal/IM-0216-0001.jpeg  \n",
            " extracting: Train/Normal/IM-0223-0001.jpeg  \n",
            " extracting: Train/Normal/IM-0270-0001.jpeg  \n",
            " extracting: Train/Normal/IM-0292-0001.jpeg  \n",
            " extracting: Train/Normal/IM-0313-0001.jpeg  \n",
            " extracting: Train/Normal/IM-0231-0001.jpeg  \n",
            " extracting: Train/Normal/IM-0309-0001.jpeg  \n",
            " extracting: Train/Normal/IM-0143-0001.jpeg  \n",
            " extracting: Train/Normal/IM-0311-0001.jpeg  \n",
            " extracting: Train/Normal/IM-0291-0001.jpeg  \n",
            " extracting: Train/Normal/IM-0230-0001.jpeg  \n",
            " extracting: Train/Normal/IM-0238-0001.jpeg  \n",
            " extracting: Train/Normal/IM-0225-0001.jpeg  \n",
            " extracting: Train/Normal/IM-0245-0001.jpeg  \n",
            " extracting: Train/Normal/IM-0189-0001.jpeg  \n",
            " extracting: Train/Normal/IM-0282-0001.jpeg  \n",
            " extracting: Train/Normal/IM-0312-0001.jpeg  \n",
            " extracting: Train/Normal/IM-0222-0001.jpeg  \n",
            " extracting: Train/Normal/IM-0224-0001.jpeg  \n",
            " extracting: Train/Normal/IM-0243-0001.jpeg  \n",
            " extracting: Train/Normal/IM-0294-0001.jpeg  \n",
            " extracting: Train/Normal/IM-0131-0001.jpeg  \n",
            " extracting: Train/Normal/IM-0147-0001.jpeg  \n",
            " extracting: Train/Normal/IM-0244-0001.jpeg  \n",
            " extracting: Train/Normal/IM-0242-0001.jpeg  \n",
            " extracting: Train/Normal/IM-0286-0001.jpeg  \n",
            " extracting: Train/Normal/IM-0264-0001.jpeg  \n",
            " extracting: Train/Normal/IM-0160-0001.jpeg  \n",
            " extracting: Train/Normal/IM-0211-0001.jpeg  \n",
            " extracting: Train/Normal/IM-0253-0001.jpeg  \n",
            " extracting: Train/Normal/IM-0117-0001.jpeg  \n",
            " extracting: Train/Normal/IM-0220-0001.jpeg  \n",
            " extracting: Train/Normal/IM-0168-0001.jpeg  \n",
            " extracting: Train/Normal/IM-0183-0001.jpeg  \n",
            " extracting: Train/Normal/IM-0237-0001.jpeg  \n",
            " extracting: Train/Normal/IM-0298-0001.jpeg  \n",
            " extracting: Train/Normal/IM-0191-0001.jpeg  \n",
            " extracting: Train/Normal/IM-0201-0001.jpeg  \n",
            " extracting: Train/Normal/IM-0129-0001.jpeg  \n",
            " extracting: Train/Normal/IM-0193-0001.jpeg  \n",
            " extracting: Train/Normal/IM-0276-0001.jpeg  \n",
            " extracting: Train/Normal/IM-0128-0001.jpeg  \n",
            " extracting: Train/Normal/IM-0166-0001.jpeg  \n",
            " extracting: Train/Normal/IM-0213-0001.jpeg  \n",
            " extracting: Train/Normal/IM-0226-0001.jpeg  \n",
            " extracting: Train/Normal/IM-0278-0001.jpeg  \n",
            " extracting: Train/Normal/IM-0268-0001.jpeg  \n",
            " extracting: Train/Normal/IM-0219-0001.jpeg  \n",
            " extracting: Train/Normal/IM-0156-0001.jpeg  \n",
            " extracting: Train/Normal/IM-0206-0001.jpeg  \n",
            " extracting: Train/Normal/IM-0300-0001.jpeg  \n",
            " extracting: Train/Normal/IM-0295-0001.jpeg  \n",
            " extracting: Train/Normal/IM-0235-0001.jpeg  \n",
            " extracting: Train/Normal/IM-0240-0001.jpeg  \n",
            " extracting: Train/Normal/IM-0255-0001.jpeg  \n",
            " extracting: Train/Normal/IM-0203-0001.jpeg  \n",
            " extracting: Train/Normal/IM-0288-0001.jpeg  \n",
            " extracting: Train/Normal/IM-0207-0001.jpeg  \n",
            " extracting: Train/Normal/IM-0280-0001.jpeg  \n",
            " extracting: Train/Normal/IM-0221-0001.jpeg  \n",
            " extracting: Train/Normal/IM-0266-0001.jpeg  \n",
            " extracting: Train/Normal/IM-0140-0001.jpeg  \n",
            " extracting: Train/Normal/IM-0279-0001.jpeg  \n",
            " extracting: Train/Normal/IM-0229-0001.jpeg  \n",
            " extracting: Train/Normal/IM-0218-0001.jpeg  \n",
            " extracting: Train/Normal/IM-0251-0001.jpeg  \n",
            " extracting: Train/Normal/IM-0210-0001.jpeg  \n",
            " extracting: Train/Normal/IM-0149-0001.jpeg  \n",
            " extracting: Train/Normal/IM-0119-0001.jpeg  \n",
            " extracting: Train/Normal/IM-0154-0001.jpeg  \n",
            " extracting: Train/Normal/IM-0297-0001.jpeg  \n",
            " extracting: Train/Normal/IM-0277-0001.jpeg  \n",
            " extracting: Train/Normal/IM-0250-0001.jpeg  \n",
            " extracting: Train/Normal/IM-0127-0001.jpeg  \n",
            " extracting: Train/Normal/IM-0269-0001.jpeg  \n",
            " extracting: Train/Normal/IM-0170-0001.jpeg  \n",
            " extracting: Train/Normal/IM-0182-0001.jpeg  \n",
            " extracting: Train/Normal/IM-0151-0001.jpeg  \n",
            " extracting: Train/Normal/IM-0176-0001.jpeg  \n",
            " extracting: Train/Normal/IM-0205-0001.jpeg  \n",
            " extracting: Train/Normal/IM-0273-0001.jpeg  \n",
            " extracting: Train/Normal/IM-0285-0001.jpeg  \n",
            " extracting: Train/Normal/IM-0214-0001.jpeg  \n",
            " extracting: Train/Covid/7-fatal-covid19.jpg  \n",
            " extracting: Test/Covid/nejmc2001573_f1a.jpeg  \n",
            " extracting: Test/Covid/nejmoa2001191_f4.jpeg  \n",
            " extracting: Test/Covid/nejmc2001573_f1b.jpeg  \n",
            " extracting: Train/Covid/ciaa199.pdf-001-b.png  \n",
            " extracting: Test/Covid/thnov10p5641g006-c.png  \n",
            " extracting: Train/Covid/ciaa199.pdf-001-a.png  \n",
            " extracting: Val/Covid/covid-19-pneumonia-8.jpg  \n",
            " extracting: Test/Covid/ryct.2020003.fig2-c.png  \n",
            " extracting: Test/Covid/ryct.2020003.fig2-a.png  \n",
            " extracting: Test/Covid/kjr-21-e25-g001-l-a.jpg  \n",
            " extracting: Test/Covid/ryct.2020003.fig2-b.png  \n",
            " extracting: Val/Covid/covid-19-pneumonia-20.jpg  \n",
            " extracting: Test/Covid/nejmoa2001191_f1-PA.jpeg  \n",
            " extracting: Test/Covid/nejmoa2001191_f3-PA.jpeg  \n",
            " extracting: Val/Covid/covid-19-pneumonia-28.png  \n",
            " extracting: Test/Covid/nejmoa2001191_f5-PA.jpeg  \n",
            " extracting: Val/Covid/covid-19-pneumonia-93.png  \n",
            " extracting: Val/Covid/covid-19-pneumonia-53.jpg  \n",
            " extracting: Val/Normal/NORMAL2-IM-0520-0001.jpeg  \n",
            " extracting: Train/Covid/covid-19-caso-82-1-8.png  \n",
            " extracting: Val/Normal/NORMAL2-IM-0521-0001.jpeg  \n",
            " extracting: Test/Covid/ryct.2020200034.fig2.jpeg  \n",
            " extracting: Val/Normal/NORMAL2-IM-0518-0001.jpeg  \n",
            " extracting: Train/Covid/covid-19-caso-94-1-14.png  \n",
            " extracting: Train/Covid/covid-19-caso-91-1-12.png  \n",
            " extracting: Train/Covid/all14238-fig-0001-m-b.jpg  \n",
            " extracting: Val/Covid/covid-19-pneumonia-35-1.jpg  \n",
            " extracting: Train/Covid/all14238-fig-0001-m-c.jpg  \n",
            " extracting: Train/Covid/covid-19-caso-95-3-14.png  \n",
            " extracting: Train/Covid/covid-19-caso-70-1-PA.jpg  \n",
            " extracting: Train/Covid/covid-19-caso-95-1-15.png  \n",
            " extracting: Val/Covid/covid-19-pneumonia-7-PA.jpg  \n",
            " extracting: Test/Covid/ryct.2020200028.fig1a.jpeg  \n",
            " extracting: Val/Covid/covid-19-pneumonia-mild.JPG  \n",
            " extracting: Val/Covid/covid-19-pneumonia-35-2.jpg  \n",
            " extracting: Val/Covid/covid-19-pneumonia-38-pa.jpg  \n",
            " extracting: Val/Covid/covid-19-pneumonia-14-PA.png  \n",
            " extracting: Test/Covid/radiol.2020200490.fig3.jpeg  \n",
            " extracting: Test/Covid/radiol.2020200274.fig3d.png  \n",
            " extracting: Val/Covid/covid-19-pneumonia-30-PA.jpg  \n",
            " extracting: Val/Covid/covid-19-pneumonia-15-PA.jpg  \n",
            " extracting: Train/Covid/41182_2020_203_Fig5_HTML.jpg  \n",
            " extracting: Train/Covid/41182_2020_203_Fig3_HTML.jpg  \n",
            " extracting: Train/Covid/12941_2020_358_Fig1_HTML.jpg  \n",
            " extracting: Train/Covid/41182_2020_203_Fig4_HTML.jpg  \n",
            " extracting: Test/Covid/ryct.2020200034.fig5-day7.jpeg  \n",
            " extracting: Test/Covid/ryct.2020200034.fig5-day0.jpeg  \n",
            " extracting: Test/Covid/ryct.2020200034.fig5-day4.jpeg  \n",
            " extracting: Train/Covid/40779_2020_233_Fig2_HTML-a.png  \n",
            " extracting: Val/Covid/covid-19-pneumonia-44-day-0.jpeg  \n",
            " extracting: Train/Covid/41379_2020_536_Fig2_HTML-c1.png  \n",
            " extracting: Val/Covid/covid-19-pneumonia-22-day1-pa.png  \n",
            " extracting: Val/Covid/covid-19-pneumonia-22-day2-pa.png  \n",
            " extracting: Test/Covid/nCoV-radiol.2020200269.fig1-day7.jpeg  \n",
            " extracting: Train/Covid/1-s2.0-S0140673620303706-fx1_lrg.jpg  \n",
            " extracting: Train/Covid/10.1016-slash-j.anl.2020.04.002-a.png  \n",
            " extracting: Train/Covid/1-s2.0-S2387020620301959-gr4_lrg-b.png  \n",
            " extracting: Train/Covid/10.1016-slash-j.crad.2020.04.002-a.png  \n",
            " extracting: Train/Covid/1-s2.0-S2387020620301959-gr4_lrg-c.png  \n",
            " extracting: Train/Covid/10.1016-slash-j.crad.2020.04.002-b.png  \n",
            " extracting: Train/Covid/1-s2.0-S2214250920300834-gr1_lrg-b.png  \n",
            " extracting: Train/Covid/1-s2.0-S2214250920300834-gr1_lrg-c.png  \n",
            " extracting: Train/Covid/41591_2020_819_Fig1_HTML.webp-day5.png  \n",
            " extracting: Train/Covid/41591_2020_819_Fig1_HTML.webp-day10.png  \n",
            " extracting: Val/Covid/covid-19-pneumonia-20-pa-on-admission.jpg  \n",
            " extracting: Val/Covid/E63574A7-4188-4C8D-8D17-9D67A18A1AFA.jpeg  \n",
            " extracting: Test/Covid/FE9F9A5D-2830-46F9-851B-1FF4534959BE.jpeg  \n",
            " extracting: Test/Covid/F4341CE7-73C9-45C6-99C8-8567A5484B63.jpeg  \n",
            " extracting: Train/Covid/23E99E2E-447C-46E5-8EB2-D35D12473C39.png  \n",
            " extracting: Test/Covid/yxppt-2020-02-19_00-51-27_287214-day8.jpg  \n",
            " extracting: Train/Covid/01E392EE-69F9-4E33-BFCE-E5C968654078.jpeg  \n",
            " extracting: Train/Covid/9C34AF49-E589-44D5-92D3-168B3B04E4A6.jpeg  \n",
            " extracting: Train/Covid/1-s2.0-S1684118220300608-main.pdf-001.jpg  \n",
            " extracting: Train/Covid/03BF7561-A9BA-4C3C-B8A0-D3E585F73F3C.jpeg  \n",
            " extracting: Train/Covid/1-s2.0-S1684118220300608-main.pdf-002.jpg  \n",
            " extracting: Train/Covid/353889E0-A1E8-4F9E-A0B8-F24F36BCFBFB.jpeg  \n",
            " extracting: Train/Covid/8FDE8DBA-CFBD-4B4C-B1A4-6F36A93B7E87.jpeg  \n",
            " extracting: Train/Covid/7C69C012-7479-493F-8722-ABC29C60A2DD.jpeg  \n",
            " extracting: Train/Covid/1312A392-67A3-4EBF-9319-810CF6DA5EF6.jpeg  \n",
            " extracting: Train/Covid/4e43e48d52c9e2d4c6c1fb9bc1544f_jumbo.jpeg  \n",
            " extracting: Train/Covid/6CB4EFC6-68FA-4CD5-940C-BEFA8DAFE9A7.jpeg  \n",
            " extracting: Train/Covid/2C26F453-AF3B-4517-BB9E-802CF2179543.jpeg  \n",
            " extracting: Train/Covid/9fdd3c3032296fd04d2cad5d9070d4_jumbo.jpeg  \n",
            " extracting: Train/Covid/93FE0BB1-022D-4F24-9727-987A07975FFB.jpeg  \n",
            " extracting: Train/Covid/1B734A89-A1BF-49A8-A1D3-66FAFA4FAC5D.jpeg  \n",
            " extracting: Train/Covid/58cb9263f16e94305c730685358e4e_jumbo.jpeg  \n",
            " extracting: Train/Covid/2edb88df42cab5e5fbc18b3965e0bd_jumbo.jpeg  \n",
            " extracting: Train/Covid/80446565-E090-4187-A031-9D3CEAA586C8.jpeg  \n",
            " extracting: Train/Covid/b0f1684d1ee90dc09deef015e29dae_jumbo.jpeg  \n",
            " extracting: Train/Covid/2966893D-5DDF-4B68-9E2B-4979D5956C8E.jpeg  \n",
            " extracting: Train/Covid/7AF6C1AF-D249-4BD2-8C26-449304105D03.jpeg  \n",
            " extracting: Train/Covid/53EC07C9-5CC6-4BE4-9B6F-D7B0D72AAA7E.jpeg  \n",
            " extracting: Train/Covid/14d81f378173b86cc53f21d2d67040_jumbo.jpeg  \n",
            " extracting: Train/Covid/CD50BA96-6982-4C80-AE7B-5F67ACDBFA56.jpeg  \n",
            " extracting: Train/Covid/6C94A287-C059-46A0-8600-AFB95F4727B7.jpeg  \n",
            " extracting: Train/Covid/1141cc2b8b9cc394becce5d978b5a7_jumbo.jpeg  \n",
            " extracting: Train/Covid/88de9d8c39e946abd495b37cd07d89e5-6531-0.jpg  \n",
            " extracting: Train/Covid/6b3bdbc31f65230b8cdcc3cef5f8ba8a-40ac-0.jpg  \n",
            " extracting: Train/Covid/88de9d8c39e946abd495b37cd07d89e5-2ee6-0.jpg  \n",
            " extracting: Train/Covid/ae6c954c0039de4b5edee53865ffee43-e6c8-0.jpg  \n",
            " extracting: Train/Covid/1-s2.0-S1684118220300682-main.pdf-002-a1.png  \n",
            " extracting: Test/Covid/figure1-5e71be566aa8714a04de3386-98-left.jpeg  \n",
            " extracting: Train/Covid/1-s2.0-S1684118220300682-main.pdf-002-a2.png  \n",
            " extracting: Train/Covid/1-s2.0-S1684118220300682-main.pdf-003-b1.png  \n",
            " extracting: Train/Covid/1-s2.0-S1684118220300682-main.pdf-003-b2.png  \n",
            " extracting: Test/Covid/figure1-5e75d0940b71e1b702629659-98-right.jpeg  \n",
            " extracting: Val/Covid/covid-19-pneumonia-rapidly-progressive-3-days.jpg  \n",
            " extracting: Val/Covid/covid-19-pneumonia-rapidly-progressive-12-hours.jpg  \n",
            " extracting: Val/Covid/covid-19-pneumonia-rapidly-progressive-admission.jpg  \n",
            " extracting: Val/Covid/covid-19-pneumonia-evolution-over-a-week-1-day0-PA.jpg  \n",
            " extracting: Test/Covid/fff49165-b22d-4bb4-b9d1-d5d62c52436c.annot.original.png  \n",
            " extracting: Train/Covid/article_river_e4d185c06e3511eaa2321d8ab357a1de-c1mn.png  \n",
            " extracting: Train/Covid/6b44464d-73a7-4cf3-bbb6-ffe7168300e3.annot.original.jpeg  \n",
            " extracting: Train/Covid/1.CXRCTThoraximagesofCOVID-19fromSingapore.pdf-002-fig3a.png  \n",
            " extracting: Train/Covid/1.CXRCTThoraximagesofCOVID-19fromSingapore.pdf-003-fig4a.png  \n",
            " extracting: Train/Covid/1.CXRCTThoraximagesofCOVID-19fromSingapore.pdf-000-fig1a.png  \n",
            " extracting: Train/Covid/1.CXRCTThoraximagesofCOVID-19fromSingapore.pdf-001-fig2a.png  \n",
            " extracting: Train/Covid/1.CXRCTThoraximagesofCOVID-19fromSingapore.pdf-002-fig3b.png  \n",
            " extracting: Train/Covid/1.CXRCTThoraximagesofCOVID-19fromSingapore.pdf-003-fig4b.png  \n",
            " extracting: Train/Covid/1.CXRCTThoraximagesofCOVID-19fromSingapore.pdf-000-fig1b.png  \n",
            " extracting: Train/Covid/1.CXRCTThoraximagesofCOVID-19fromSingapore.pdf-001-fig2b.png  \n",
            " extracting: Train/Covid/covid-19-infection-exclusive-gastrointestinal-symptoms-pa.png  \n",
            " extracting: Train/Covid/auntminnie-a-2020_01_28_23_51_6665_2020_01_28_Vietnam_coronavirus.jpeg  \n",
            " extracting: Train/Covid/auntminnie-d-2020_01_28_23_51_6665_2020_01_28_Vietnam_coronavirus.jpeg  \n",
            " extracting: Train/Covid/auntminnie-c-2020_01_28_23_51_6665_2020_01_28_Vietnam_coronavirus.jpeg  \n",
            " extracting: Train/Covid/auntminnie-b-2020_01_28_23_51_6665_2020_01_28_Vietnam_coronavirus.jpeg  \n",
            " extracting: Val/Covid/covid-19-rapidly-progressive-acute-respiratory-distress-syndrome-ards-day-3.jpg  \n",
            " extracting: Val/Covid/covid-19-rapidly-progressive-acute-respiratory-distress-syndrome-ards-day-2.jpg  \n",
            " extracting: Val/Covid/covid-19-rapidly-progressive-acute-respiratory-distress-syndrome-ards-day-1.jpg  \n",
            " extracting: Val/Covid/covid-19-rapidly-progressive-acute-respiratory-distress-syndrome-ards-admission.jpg  \n",
            "\n",
            "1 archive had fatal errors.\n"
          ],
          "name": "stdout"
        }
      ]
    },
    {
      "cell_type": "code",
      "metadata": {
        "id": "ijS-Zq2zCXVk"
      },
      "source": [
        "import numpy as np\n",
        "import matplotlib.pyplot as plt\n",
        "from keras.layers import *\n",
        "from keras.models import *\n",
        "from keras.preprocessing import image\n",
        "from glob import glob\n",
        "from keras.preprocessing.image import ImageDataGenerator\n",
        "import os\n",
        "from keras.applications.vgg19 import VGG19\n",
        "import keras"
      ],
      "execution_count": 38,
      "outputs": []
    },
    {
      "cell_type": "code",
      "metadata": {
        "id": "OrSvFZpxCiY3"
      },
      "source": [
        "IMAGE_SIZE = [224,224]"
      ],
      "execution_count": 39,
      "outputs": []
    },
    {
      "cell_type": "code",
      "metadata": {
        "id": "tf0njteWClNx"
      },
      "source": [
        "vgg = VGG19(input_shape= IMAGE_SIZE + [3] , weights='imagenet',include_top=False)"
      ],
      "execution_count": 40,
      "outputs": []
    },
    {
      "cell_type": "code",
      "metadata": {
        "id": "2rbkS6VICzDX"
      },
      "source": [
        "for layer in vgg.layers:\n",
        "  layer.trainable = False"
      ],
      "execution_count": 41,
      "outputs": []
    },
    {
      "cell_type": "code",
      "metadata": {
        "id": "XrT45hqKC-aK"
      },
      "source": [
        "vgg_output = vgg.output"
      ],
      "execution_count": 42,
      "outputs": []
    },
    {
      "cell_type": "code",
      "metadata": {
        "id": "uohlgsLNDCGP"
      },
      "source": [
        "flatten = Flatten()(vgg_output)\n",
        "dense_layer1 = Dense(activation= 'relu',units=256)(flatten)\n",
        "dense_layer2 = Dense(activation = 'relu',units = 128)(dense_layer1)\n",
        "output_layer = Dense(2,activation='softmax')(dense_layer2)"
      ],
      "execution_count": 43,
      "outputs": []
    },
    {
      "cell_type": "code",
      "metadata": {
        "id": "oeKGHP5sDEsl"
      },
      "source": [
        "model = Model(inputs = vgg.input,outputs = output_layer)"
      ],
      "execution_count": 44,
      "outputs": []
    },
    {
      "cell_type": "code",
      "metadata": {
        "id": "VmddCbIsDL-0",
        "outputId": "f255dff5-a3b3-44e5-8494-dc37f09b74fd",
        "colab": {
          "base_uri": "https://localhost:8080/"
        }
      },
      "source": [
        "model.summary()"
      ],
      "execution_count": 45,
      "outputs": [
        {
          "output_type": "stream",
          "text": [
            "Model: \"functional_3\"\n",
            "_________________________________________________________________\n",
            "Layer (type)                 Output Shape              Param #   \n",
            "=================================================================\n",
            "input_2 (InputLayer)         [(None, 224, 224, 3)]     0         \n",
            "_________________________________________________________________\n",
            "block1_conv1 (Conv2D)        (None, 224, 224, 64)      1792      \n",
            "_________________________________________________________________\n",
            "block1_conv2 (Conv2D)        (None, 224, 224, 64)      36928     \n",
            "_________________________________________________________________\n",
            "block1_pool (MaxPooling2D)   (None, 112, 112, 64)      0         \n",
            "_________________________________________________________________\n",
            "block2_conv1 (Conv2D)        (None, 112, 112, 128)     73856     \n",
            "_________________________________________________________________\n",
            "block2_conv2 (Conv2D)        (None, 112, 112, 128)     147584    \n",
            "_________________________________________________________________\n",
            "block2_pool (MaxPooling2D)   (None, 56, 56, 128)       0         \n",
            "_________________________________________________________________\n",
            "block3_conv1 (Conv2D)        (None, 56, 56, 256)       295168    \n",
            "_________________________________________________________________\n",
            "block3_conv2 (Conv2D)        (None, 56, 56, 256)       590080    \n",
            "_________________________________________________________________\n",
            "block3_conv3 (Conv2D)        (None, 56, 56, 256)       590080    \n",
            "_________________________________________________________________\n",
            "block3_conv4 (Conv2D)        (None, 56, 56, 256)       590080    \n",
            "_________________________________________________________________\n",
            "block3_pool (MaxPooling2D)   (None, 28, 28, 256)       0         \n",
            "_________________________________________________________________\n",
            "block4_conv1 (Conv2D)        (None, 28, 28, 512)       1180160   \n",
            "_________________________________________________________________\n",
            "block4_conv2 (Conv2D)        (None, 28, 28, 512)       2359808   \n",
            "_________________________________________________________________\n",
            "block4_conv3 (Conv2D)        (None, 28, 28, 512)       2359808   \n",
            "_________________________________________________________________\n",
            "block4_conv4 (Conv2D)        (None, 28, 28, 512)       2359808   \n",
            "_________________________________________________________________\n",
            "block4_pool (MaxPooling2D)   (None, 14, 14, 512)       0         \n",
            "_________________________________________________________________\n",
            "block5_conv1 (Conv2D)        (None, 14, 14, 512)       2359808   \n",
            "_________________________________________________________________\n",
            "block5_conv2 (Conv2D)        (None, 14, 14, 512)       2359808   \n",
            "_________________________________________________________________\n",
            "block5_conv3 (Conv2D)        (None, 14, 14, 512)       2359808   \n",
            "_________________________________________________________________\n",
            "block5_conv4 (Conv2D)        (None, 14, 14, 512)       2359808   \n",
            "_________________________________________________________________\n",
            "block5_pool (MaxPooling2D)   (None, 7, 7, 512)         0         \n",
            "_________________________________________________________________\n",
            "flatten_1 (Flatten)          (None, 25088)             0         \n",
            "_________________________________________________________________\n",
            "dense_3 (Dense)              (None, 256)               6422784   \n",
            "_________________________________________________________________\n",
            "dense_4 (Dense)              (None, 128)               32896     \n",
            "_________________________________________________________________\n",
            "dense_5 (Dense)              (None, 2)                 258       \n",
            "=================================================================\n",
            "Total params: 26,480,322\n",
            "Trainable params: 6,455,938\n",
            "Non-trainable params: 20,024,384\n",
            "_________________________________________________________________\n"
          ],
          "name": "stdout"
        }
      ]
    },
    {
      "cell_type": "code",
      "metadata": {
        "id": "y6htIjeODN5U"
      },
      "source": [
        "model.compile(\n",
        "    optimizer=keras.optimizers.Adam(1e-6),  # Low learning rate\n",
        "    loss = 'categorical_crossentropy',\n",
        "    metrics = ['accuracy']\n",
        ")"
      ],
      "execution_count": 46,
      "outputs": []
    },
    {
      "cell_type": "code",
      "metadata": {
        "id": "lfcPhGKODc3_"
      },
      "source": [
        "training_data_gen = ImageDataGenerator(\n",
        "    rescale = 1./255.,\n",
        "    zoom_range = 0.2,\n",
        "    shear_range = 0.2,\n",
        "    horizontal_flip = True\n",
        ")"
      ],
      "execution_count": 47,
      "outputs": []
    },
    {
      "cell_type": "code",
      "metadata": {
        "id": "-E5HA67XDeVS"
      },
      "source": [
        "val_data_gen = ImageDataGenerator(\n",
        "    rescale = 1./255.\n",
        ")"
      ],
      "execution_count": 48,
      "outputs": []
    },
    {
      "cell_type": "code",
      "metadata": {
        "id": "oyj3blVrDfeo",
        "outputId": "d50d565f-ac92-4f74-9a8c-63c1c4410b75",
        "colab": {
          "base_uri": "https://localhost:8080/"
        }
      },
      "source": [
        "training_set = training_data_gen.flow_from_directory(\n",
        "    'Train/',\n",
        "    target_size = (224,224),\n",
        "    class_mode = 'categorical',\n",
        "    batch_size = 32\n",
        ")"
      ],
      "execution_count": 49,
      "outputs": [
        {
          "output_type": "stream",
          "text": [
            "Found 251 images belonging to 2 classes.\n"
          ],
          "name": "stdout"
        }
      ]
    },
    {
      "cell_type": "code",
      "metadata": {
        "id": "korAJl2JDmsZ",
        "outputId": "69ea4210-72d7-4e5a-d845-1f862f70c9fa",
        "colab": {
          "base_uri": "https://localhost:8080/"
        }
      },
      "source": [
        "val_set = val_data_gen.flow_from_directory(\n",
        "    'Val/',\n",
        "    target_size = (224,224),\n",
        "    class_mode = 'categorical',\n",
        "    batch_size = 32\n",
        ")"
      ],
      "execution_count": 50,
      "outputs": [
        {
          "output_type": "stream",
          "text": [
            "Found 70 images belonging to 2 classes.\n"
          ],
          "name": "stdout"
        }
      ]
    },
    {
      "cell_type": "code",
      "metadata": {
        "id": "g2OYFeEhDoUa",
        "outputId": "b36af366-0168-4a2f-9719-a5f788e935fd",
        "colab": {
          "base_uri": "https://localhost:8080/"
        }
      },
      "source": [
        "r = model.fit(\n",
        "    training_set,\n",
        "    epochs = 100,\n",
        "    validation_data = val_set,\n",
        "    validation_steps = len(val_set),\n",
        "    steps_per_epoch = len(training_set)\n",
        "    \n",
        ")"
      ],
      "execution_count": 51,
      "outputs": [
        {
          "output_type": "stream",
          "text": [
            "Epoch 1/100\n",
            "8/8 [==============================] - 9s 1s/step - loss: 0.7361 - accuracy: 0.4980 - val_loss: 0.7257 - val_accuracy: 0.4571\n",
            "Epoch 2/100\n",
            "8/8 [==============================] - 8s 999ms/step - loss: 0.6803 - accuracy: 0.5299 - val_loss: 0.6874 - val_accuracy: 0.5143\n",
            "Epoch 3/100\n",
            "8/8 [==============================] - 8s 992ms/step - loss: 0.6551 - accuracy: 0.5936 - val_loss: 0.6536 - val_accuracy: 0.6143\n",
            "Epoch 4/100\n",
            "8/8 [==============================] - 8s 992ms/step - loss: 0.6227 - accuracy: 0.7570 - val_loss: 0.6222 - val_accuracy: 0.8000\n",
            "Epoch 5/100\n",
            "8/8 [==============================] - 8s 977ms/step - loss: 0.5936 - accuracy: 0.8327 - val_loss: 0.5925 - val_accuracy: 0.8429\n",
            "Epoch 6/100\n",
            "8/8 [==============================] - 8s 986ms/step - loss: 0.5748 - accuracy: 0.8805 - val_loss: 0.5641 - val_accuracy: 0.8714\n",
            "Epoch 7/100\n",
            "8/8 [==============================] - 8s 988ms/step - loss: 0.5530 - accuracy: 0.8924 - val_loss: 0.5372 - val_accuracy: 0.9143\n",
            "Epoch 8/100\n",
            "8/8 [==============================] - 8s 976ms/step - loss: 0.5213 - accuracy: 0.9124 - val_loss: 0.5118 - val_accuracy: 0.9571\n",
            "Epoch 9/100\n",
            "8/8 [==============================] - 8s 984ms/step - loss: 0.4970 - accuracy: 0.9163 - val_loss: 0.4869 - val_accuracy: 0.9571\n",
            "Epoch 10/100\n",
            "8/8 [==============================] - 8s 1000ms/step - loss: 0.4786 - accuracy: 0.9363 - val_loss: 0.4632 - val_accuracy: 0.9571\n",
            "Epoch 11/100\n",
            "8/8 [==============================] - 8s 1s/step - loss: 0.4576 - accuracy: 0.9482 - val_loss: 0.4405 - val_accuracy: 0.9571\n",
            "Epoch 12/100\n",
            "8/8 [==============================] - 8s 995ms/step - loss: 0.4473 - accuracy: 0.9482 - val_loss: 0.4182 - val_accuracy: 0.9714\n",
            "Epoch 13/100\n",
            "8/8 [==============================] - 8s 998ms/step - loss: 0.4225 - accuracy: 0.9402 - val_loss: 0.3972 - val_accuracy: 0.9857\n",
            "Epoch 14/100\n",
            "8/8 [==============================] - 8s 992ms/step - loss: 0.4038 - accuracy: 0.9641 - val_loss: 0.3771 - val_accuracy: 0.9857\n",
            "Epoch 15/100\n",
            "8/8 [==============================] - 8s 973ms/step - loss: 0.3803 - accuracy: 0.9801 - val_loss: 0.3595 - val_accuracy: 0.9857\n",
            "Epoch 16/100\n",
            "8/8 [==============================] - 8s 1s/step - loss: 0.3774 - accuracy: 0.9681 - val_loss: 0.3417 - val_accuracy: 1.0000\n",
            "Epoch 17/100\n",
            "8/8 [==============================] - 8s 973ms/step - loss: 0.3502 - accuracy: 0.9761 - val_loss: 0.3257 - val_accuracy: 1.0000\n",
            "Epoch 18/100\n",
            "8/8 [==============================] - 8s 989ms/step - loss: 0.3405 - accuracy: 0.9641 - val_loss: 0.3122 - val_accuracy: 1.0000\n",
            "Epoch 19/100\n",
            "8/8 [==============================] - 8s 998ms/step - loss: 0.3264 - accuracy: 0.9841 - val_loss: 0.3002 - val_accuracy: 1.0000\n",
            "Epoch 20/100\n",
            "8/8 [==============================] - 8s 994ms/step - loss: 0.3237 - accuracy: 0.9761 - val_loss: 0.2878 - val_accuracy: 1.0000\n",
            "Epoch 21/100\n",
            "8/8 [==============================] - 8s 981ms/step - loss: 0.3076 - accuracy: 0.9841 - val_loss: 0.2759 - val_accuracy: 1.0000\n",
            "Epoch 22/100\n",
            "8/8 [==============================] - 8s 1s/step - loss: 0.2940 - accuracy: 0.9721 - val_loss: 0.2636 - val_accuracy: 1.0000\n",
            "Epoch 23/100\n",
            "8/8 [==============================] - 8s 992ms/step - loss: 0.2899 - accuracy: 0.9801 - val_loss: 0.2534 - val_accuracy: 1.0000\n",
            "Epoch 24/100\n",
            "8/8 [==============================] - 8s 986ms/step - loss: 0.2690 - accuracy: 0.9841 - val_loss: 0.2444 - val_accuracy: 1.0000\n",
            "Epoch 25/100\n",
            "8/8 [==============================] - 8s 993ms/step - loss: 0.2667 - accuracy: 1.0000 - val_loss: 0.2351 - val_accuracy: 1.0000\n",
            "Epoch 26/100\n",
            "8/8 [==============================] - 8s 995ms/step - loss: 0.2534 - accuracy: 0.9920 - val_loss: 0.2260 - val_accuracy: 1.0000\n",
            "Epoch 27/100\n",
            "8/8 [==============================] - 8s 983ms/step - loss: 0.2467 - accuracy: 0.9841 - val_loss: 0.2170 - val_accuracy: 1.0000\n",
            "Epoch 28/100\n",
            "8/8 [==============================] - 8s 994ms/step - loss: 0.2320 - accuracy: 0.9960 - val_loss: 0.2099 - val_accuracy: 1.0000\n",
            "Epoch 29/100\n",
            "8/8 [==============================] - 8s 984ms/step - loss: 0.2295 - accuracy: 0.9960 - val_loss: 0.2010 - val_accuracy: 1.0000\n",
            "Epoch 30/100\n",
            "8/8 [==============================] - 8s 980ms/step - loss: 0.2226 - accuracy: 0.9880 - val_loss: 0.1953 - val_accuracy: 1.0000\n",
            "Epoch 31/100\n",
            "8/8 [==============================] - 8s 992ms/step - loss: 0.2140 - accuracy: 0.9920 - val_loss: 0.1874 - val_accuracy: 1.0000\n",
            "Epoch 32/100\n",
            "8/8 [==============================] - 8s 1000ms/step - loss: 0.2015 - accuracy: 1.0000 - val_loss: 0.1806 - val_accuracy: 1.0000\n",
            "Epoch 33/100\n",
            "8/8 [==============================] - 8s 993ms/step - loss: 0.2022 - accuracy: 1.0000 - val_loss: 0.1735 - val_accuracy: 1.0000\n",
            "Epoch 34/100\n",
            "8/8 [==============================] - 8s 977ms/step - loss: 0.1910 - accuracy: 0.9960 - val_loss: 0.1646 - val_accuracy: 1.0000\n",
            "Epoch 35/100\n",
            "8/8 [==============================] - 8s 993ms/step - loss: 0.1841 - accuracy: 0.9920 - val_loss: 0.1585 - val_accuracy: 1.0000\n",
            "Epoch 36/100\n",
            "8/8 [==============================] - 8s 984ms/step - loss: 0.1778 - accuracy: 1.0000 - val_loss: 0.1528 - val_accuracy: 1.0000\n",
            "Epoch 37/100\n",
            "8/8 [==============================] - 8s 985ms/step - loss: 0.1679 - accuracy: 0.9960 - val_loss: 0.1472 - val_accuracy: 1.0000\n",
            "Epoch 38/100\n",
            "8/8 [==============================] - 8s 993ms/step - loss: 0.1708 - accuracy: 0.9880 - val_loss: 0.1428 - val_accuracy: 1.0000\n",
            "Epoch 39/100\n",
            "8/8 [==============================] - 8s 986ms/step - loss: 0.1588 - accuracy: 0.9960 - val_loss: 0.1386 - val_accuracy: 1.0000\n",
            "Epoch 40/100\n",
            "8/8 [==============================] - 8s 991ms/step - loss: 0.1564 - accuracy: 0.9880 - val_loss: 0.1349 - val_accuracy: 1.0000\n",
            "Epoch 41/100\n",
            "8/8 [==============================] - 8s 985ms/step - loss: 0.1590 - accuracy: 0.9960 - val_loss: 0.1309 - val_accuracy: 1.0000\n",
            "Epoch 42/100\n",
            "8/8 [==============================] - 8s 1s/step - loss: 0.1489 - accuracy: 0.9960 - val_loss: 0.1276 - val_accuracy: 1.0000\n",
            "Epoch 43/100\n",
            "8/8 [==============================] - 8s 988ms/step - loss: 0.1445 - accuracy: 0.9960 - val_loss: 0.1239 - val_accuracy: 1.0000\n",
            "Epoch 44/100\n",
            "8/8 [==============================] - 8s 982ms/step - loss: 0.1540 - accuracy: 0.9841 - val_loss: 0.1215 - val_accuracy: 1.0000\n",
            "Epoch 45/100\n",
            "8/8 [==============================] - 8s 979ms/step - loss: 0.1388 - accuracy: 0.9920 - val_loss: 0.1171 - val_accuracy: 1.0000\n",
            "Epoch 46/100\n",
            "8/8 [==============================] - 8s 1s/step - loss: 0.1349 - accuracy: 1.0000 - val_loss: 0.1129 - val_accuracy: 1.0000\n",
            "Epoch 47/100\n",
            "8/8 [==============================] - 8s 992ms/step - loss: 0.1357 - accuracy: 0.9920 - val_loss: 0.1096 - val_accuracy: 1.0000\n",
            "Epoch 48/100\n",
            "8/8 [==============================] - 8s 979ms/step - loss: 0.1388 - accuracy: 0.9841 - val_loss: 0.1066 - val_accuracy: 1.0000\n",
            "Epoch 49/100\n",
            "8/8 [==============================] - 8s 975ms/step - loss: 0.1257 - accuracy: 0.9920 - val_loss: 0.1051 - val_accuracy: 1.0000\n",
            "Epoch 50/100\n",
            "8/8 [==============================] - 8s 991ms/step - loss: 0.1281 - accuracy: 0.9960 - val_loss: 0.1048 - val_accuracy: 1.0000\n",
            "Epoch 51/100\n",
            "8/8 [==============================] - 8s 981ms/step - loss: 0.1184 - accuracy: 0.9920 - val_loss: 0.1019 - val_accuracy: 1.0000\n",
            "Epoch 52/100\n",
            "8/8 [==============================] - 8s 987ms/step - loss: 0.1228 - accuracy: 0.9920 - val_loss: 0.0971 - val_accuracy: 1.0000\n",
            "Epoch 53/100\n",
            "8/8 [==============================] - 8s 987ms/step - loss: 0.1258 - accuracy: 0.9920 - val_loss: 0.0935 - val_accuracy: 1.0000\n",
            "Epoch 54/100\n",
            "8/8 [==============================] - 8s 985ms/step - loss: 0.1168 - accuracy: 1.0000 - val_loss: 0.0915 - val_accuracy: 1.0000\n",
            "Epoch 55/100\n",
            "8/8 [==============================] - 8s 977ms/step - loss: 0.1194 - accuracy: 0.9880 - val_loss: 0.0908 - val_accuracy: 1.0000\n",
            "Epoch 56/100\n",
            "8/8 [==============================] - 8s 992ms/step - loss: 0.1071 - accuracy: 1.0000 - val_loss: 0.0900 - val_accuracy: 1.0000\n",
            "Epoch 57/100\n",
            "8/8 [==============================] - 8s 999ms/step - loss: 0.0987 - accuracy: 1.0000 - val_loss: 0.0871 - val_accuracy: 1.0000\n",
            "Epoch 58/100\n",
            "8/8 [==============================] - 8s 1s/step - loss: 0.1123 - accuracy: 0.9960 - val_loss: 0.0843 - val_accuracy: 1.0000\n",
            "Epoch 59/100\n",
            "8/8 [==============================] - 8s 979ms/step - loss: 0.1090 - accuracy: 0.9880 - val_loss: 0.0838 - val_accuracy: 1.0000\n",
            "Epoch 60/100\n",
            "8/8 [==============================] - 8s 993ms/step - loss: 0.1031 - accuracy: 0.9960 - val_loss: 0.0817 - val_accuracy: 1.0000\n",
            "Epoch 61/100\n",
            "8/8 [==============================] - 8s 964ms/step - loss: 0.0950 - accuracy: 1.0000 - val_loss: 0.0796 - val_accuracy: 1.0000\n",
            "Epoch 62/100\n",
            "8/8 [==============================] - 8s 1s/step - loss: 0.1031 - accuracy: 0.9960 - val_loss: 0.0771 - val_accuracy: 1.0000\n",
            "Epoch 63/100\n",
            "8/8 [==============================] - 8s 1s/step - loss: 0.0937 - accuracy: 1.0000 - val_loss: 0.0767 - val_accuracy: 1.0000\n",
            "Epoch 64/100\n",
            "8/8 [==============================] - 8s 985ms/step - loss: 0.0980 - accuracy: 0.9960 - val_loss: 0.0759 - val_accuracy: 1.0000\n",
            "Epoch 65/100\n",
            "8/8 [==============================] - 8s 997ms/step - loss: 0.0940 - accuracy: 0.9960 - val_loss: 0.0757 - val_accuracy: 1.0000\n",
            "Epoch 66/100\n",
            "8/8 [==============================] - 8s 997ms/step - loss: 0.0904 - accuracy: 0.9960 - val_loss: 0.0731 - val_accuracy: 1.0000\n",
            "Epoch 67/100\n",
            "8/8 [==============================] - 8s 995ms/step - loss: 0.0902 - accuracy: 0.9960 - val_loss: 0.0721 - val_accuracy: 1.0000\n",
            "Epoch 68/100\n",
            "8/8 [==============================] - 8s 985ms/step - loss: 0.0814 - accuracy: 1.0000 - val_loss: 0.0710 - val_accuracy: 1.0000\n",
            "Epoch 69/100\n",
            "8/8 [==============================] - 8s 998ms/step - loss: 0.0878 - accuracy: 0.9960 - val_loss: 0.0703 - val_accuracy: 1.0000\n",
            "Epoch 70/100\n",
            "8/8 [==============================] - 8s 1s/step - loss: 0.0872 - accuracy: 0.9920 - val_loss: 0.0688 - val_accuracy: 1.0000\n",
            "Epoch 71/100\n",
            "8/8 [==============================] - 8s 978ms/step - loss: 0.0837 - accuracy: 0.9960 - val_loss: 0.0675 - val_accuracy: 1.0000\n",
            "Epoch 72/100\n",
            "8/8 [==============================] - 8s 991ms/step - loss: 0.0851 - accuracy: 0.9960 - val_loss: 0.0650 - val_accuracy: 1.0000\n",
            "Epoch 73/100\n",
            "8/8 [==============================] - 8s 959ms/step - loss: 0.0852 - accuracy: 1.0000 - val_loss: 0.0641 - val_accuracy: 1.0000\n",
            "Epoch 74/100\n",
            "8/8 [==============================] - 8s 986ms/step - loss: 0.0757 - accuracy: 1.0000 - val_loss: 0.0637 - val_accuracy: 1.0000\n",
            "Epoch 75/100\n",
            "8/8 [==============================] - 8s 987ms/step - loss: 0.0806 - accuracy: 1.0000 - val_loss: 0.0621 - val_accuracy: 1.0000\n",
            "Epoch 76/100\n",
            "8/8 [==============================] - 8s 993ms/step - loss: 0.0746 - accuracy: 0.9960 - val_loss: 0.0609 - val_accuracy: 1.0000\n",
            "Epoch 77/100\n",
            "8/8 [==============================] - 8s 982ms/step - loss: 0.0759 - accuracy: 0.9960 - val_loss: 0.0598 - val_accuracy: 1.0000\n",
            "Epoch 78/100\n",
            "8/8 [==============================] - 8s 983ms/step - loss: 0.0716 - accuracy: 1.0000 - val_loss: 0.0586 - val_accuracy: 1.0000\n",
            "Epoch 79/100\n",
            "8/8 [==============================] - 8s 968ms/step - loss: 0.0731 - accuracy: 1.0000 - val_loss: 0.0574 - val_accuracy: 1.0000\n",
            "Epoch 80/100\n",
            "8/8 [==============================] - 8s 989ms/step - loss: 0.0743 - accuracy: 0.9960 - val_loss: 0.0563 - val_accuracy: 1.0000\n",
            "Epoch 81/100\n",
            "8/8 [==============================] - 8s 973ms/step - loss: 0.0719 - accuracy: 0.9920 - val_loss: 0.0555 - val_accuracy: 1.0000\n",
            "Epoch 82/100\n",
            "8/8 [==============================] - 8s 993ms/step - loss: 0.0705 - accuracy: 1.0000 - val_loss: 0.0546 - val_accuracy: 1.0000\n",
            "Epoch 83/100\n",
            "8/8 [==============================] - 8s 1s/step - loss: 0.0714 - accuracy: 0.9960 - val_loss: 0.0536 - val_accuracy: 1.0000\n",
            "Epoch 84/100\n",
            "8/8 [==============================] - 8s 996ms/step - loss: 0.0678 - accuracy: 1.0000 - val_loss: 0.0531 - val_accuracy: 1.0000\n",
            "Epoch 85/100\n",
            "8/8 [==============================] - 8s 977ms/step - loss: 0.0668 - accuracy: 1.0000 - val_loss: 0.0530 - val_accuracy: 1.0000\n",
            "Epoch 86/100\n",
            "8/8 [==============================] - 8s 984ms/step - loss: 0.0636 - accuracy: 1.0000 - val_loss: 0.0528 - val_accuracy: 1.0000\n",
            "Epoch 87/100\n",
            "8/8 [==============================] - 8s 995ms/step - loss: 0.0662 - accuracy: 0.9960 - val_loss: 0.0509 - val_accuracy: 1.0000\n",
            "Epoch 88/100\n",
            "8/8 [==============================] - 8s 972ms/step - loss: 0.0634 - accuracy: 0.9960 - val_loss: 0.0505 - val_accuracy: 1.0000\n",
            "Epoch 89/100\n",
            "8/8 [==============================] - 8s 978ms/step - loss: 0.0635 - accuracy: 1.0000 - val_loss: 0.0501 - val_accuracy: 1.0000\n",
            "Epoch 90/100\n",
            "8/8 [==============================] - 8s 992ms/step - loss: 0.0635 - accuracy: 1.0000 - val_loss: 0.0494 - val_accuracy: 1.0000\n",
            "Epoch 91/100\n",
            "8/8 [==============================] - 8s 983ms/step - loss: 0.0646 - accuracy: 1.0000 - val_loss: 0.0479 - val_accuracy: 1.0000\n",
            "Epoch 92/100\n",
            "8/8 [==============================] - 8s 998ms/step - loss: 0.0561 - accuracy: 1.0000 - val_loss: 0.0474 - val_accuracy: 1.0000\n",
            "Epoch 93/100\n",
            "8/8 [==============================] - 8s 1s/step - loss: 0.0596 - accuracy: 0.9960 - val_loss: 0.0463 - val_accuracy: 1.0000\n",
            "Epoch 94/100\n",
            "8/8 [==============================] - 8s 977ms/step - loss: 0.0571 - accuracy: 1.0000 - val_loss: 0.0449 - val_accuracy: 1.0000\n",
            "Epoch 95/100\n",
            "8/8 [==============================] - 8s 975ms/step - loss: 0.0588 - accuracy: 0.9960 - val_loss: 0.0432 - val_accuracy: 1.0000\n",
            "Epoch 96/100\n",
            "8/8 [==============================] - 8s 988ms/step - loss: 0.0537 - accuracy: 0.9960 - val_loss: 0.0436 - val_accuracy: 1.0000\n",
            "Epoch 97/100\n",
            "8/8 [==============================] - 8s 981ms/step - loss: 0.0550 - accuracy: 1.0000 - val_loss: 0.0438 - val_accuracy: 1.0000\n",
            "Epoch 98/100\n",
            "8/8 [==============================] - 8s 967ms/step - loss: 0.0607 - accuracy: 0.9920 - val_loss: 0.0432 - val_accuracy: 1.0000\n",
            "Epoch 99/100\n",
            "8/8 [==============================] - 8s 997ms/step - loss: 0.0569 - accuracy: 0.9960 - val_loss: 0.0435 - val_accuracy: 1.0000\n",
            "Epoch 100/100\n",
            "8/8 [==============================] - 8s 982ms/step - loss: 0.0559 - accuracy: 1.0000 - val_loss: 0.0422 - val_accuracy: 1.0000\n"
          ],
          "name": "stdout"
        }
      ]
    },
    {
      "cell_type": "code",
      "metadata": {
        "id": "srU-ApXkDpzq"
      },
      "source": [
        "test_pred = []\n",
        "test_actual = []\n",
        "label_dict = {\n",
        "    0 : \"Covid\",\n",
        "    1 : \"Normal\"\n",
        "}\n",
        "rescaled_images = []"
      ],
      "execution_count": 52,
      "outputs": []
    },
    {
      "cell_type": "code",
      "metadata": {
        "id": "CBvZvIAl0NYS"
      },
      "source": [
        "def image_preprocessing(path):\n",
        "  for filename in os.listdir(path):\n",
        "\n",
        "    if path == 'Test/Covid':\n",
        "      filepath = os.path.join(path,filename)\n",
        "      test_image = image.load_img(filepath,target_size=(224,224))\n",
        "      image_array = image.img_to_array(test_image)\n",
        "      image_array = np.expand_dims(image_array,axis = 0)\n",
        "      rescaled_image = image_array/255. \n",
        "      predicted_image = model.predict(rescaled_image)\n",
        "      predicted_image = label_dict[predicted_image.argmax()]\n",
        "      test_pred.append(predicted_image)\n",
        "      test_actual.append('Covid')\n",
        "\n",
        "    elif path == 'Test/Normal':\n",
        "      filepath = os.path.join(path,filename)\n",
        "      test_image = image.load_img(filepath,target_size=(224,224))\n",
        "      image_array = image.img_to_array(test_image)\n",
        "      image_array = np.expand_dims(image_array,axis = 0)\n",
        "      rescaled_image = image_array/255. \n",
        "      predicted_image = model.predict(rescaled_image)\n",
        "      predicted_image = label_dict[predicted_image.argmax()]\n",
        "      test_pred.append(predicted_image)\n",
        "      test_actual.append('Normal')\n",
        "\n",
        "\n"
      ],
      "execution_count": 53,
      "outputs": []
    },
    {
      "cell_type": "code",
      "metadata": {
        "id": "-fTX9TIi6Yu4"
      },
      "source": [
        "covid_path = 'Test/Covid'\n",
        "normal_path = 'Test/Normal'"
      ],
      "execution_count": 54,
      "outputs": []
    },
    {
      "cell_type": "code",
      "metadata": {
        "id": "MLJxp4_LH69n"
      },
      "source": [
        ""
      ],
      "execution_count": null,
      "outputs": []
    },
    {
      "cell_type": "code",
      "metadata": {
        "id": "7GqHE8Dw76x8"
      },
      "source": [
        "image_preprocessing(covid_path)\n",
        "image_preprocessing(normal_path)\n"
      ],
      "execution_count": 55,
      "outputs": []
    },
    {
      "cell_type": "code",
      "metadata": {
        "id": "S_B7ox529hgX"
      },
      "source": [
        "from sklearn.metrics import confusion_matrix"
      ],
      "execution_count": 56,
      "outputs": []
    },
    {
      "cell_type": "code",
      "metadata": {
        "id": "18J-VXaaFggA"
      },
      "source": [
        "cm = confusion_matrix(test_pred,test_actual)"
      ],
      "execution_count": 57,
      "outputs": []
    },
    {
      "cell_type": "code",
      "metadata": {
        "id": "yxgwXF1iGCRV",
        "outputId": "b4ab01e9-a08b-498b-9bc7-0a687ebb7a87",
        "colab": {
          "base_uri": "https://localhost:8080/"
        }
      },
      "source": [
        "print(cm)"
      ],
      "execution_count": 58,
      "outputs": [
        {
          "output_type": "stream",
          "text": [
            "[[35  0]\n",
            " [ 0 35]]\n"
          ],
          "name": "stdout"
        }
      ]
    },
    {
      "cell_type": "code",
      "metadata": {
        "id": "AKugTFj0GNoS"
      },
      "source": [
        "import seaborn as sns\n"
      ],
      "execution_count": 59,
      "outputs": []
    },
    {
      "cell_type": "code",
      "metadata": {
        "id": "UIzcLj0kGZTX",
        "outputId": "03bd848c-f208-496a-eac9-a3745d8b3bb2",
        "colab": {
          "base_uri": "https://localhost:8080/",
          "height": 286
        }
      },
      "source": [
        "sns.heatmap(cm,cmap = 'plasma',annot = True)"
      ],
      "execution_count": 60,
      "outputs": [
        {
          "output_type": "execute_result",
          "data": {
            "text/plain": [
              "<matplotlib.axes._subplots.AxesSubplot at 0x7f042d9ea7f0>"
            ]
          },
          "metadata": {
            "tags": []
          },
          "execution_count": 60
        },
        {
          "output_type": "display_data",
          "data": {
            "image/png": "[encoded data removed]",
            "text/plain": [
              "<Figure size 432x288 with 2 Axes>"
            ]
          },
          "metadata": {
            "tags": [],
            "needs_background": "light"
          }
        }
      ]
    },
    {
      "cell_type": "code",
      "metadata": {
        "id": "0LC9u-KwG700"
      },
      "source": [
        "from sklearn.metrics import precision_recall_fscore_support\n"
      ],
      "execution_count": 61,
      "outputs": []
    },
    {
      "cell_type": "code",
      "metadata": {
        "id": "bwu5OFrLHIbH"
      },
      "source": [
        "prf = precision_recall_fscore_support(test_actual,test_pred,labels = ['Covid','Normal'])"
      ],
      "execution_count": 62,
      "outputs": []
    },
    {
      "cell_type": "code",
      "metadata": {
        "id": "Wt76Q3KkHTu8",
        "outputId": "e237210a-5fb0-4ae9-846a-e3bbabb0e7e2",
        "colab": {
          "base_uri": "https://localhost:8080/"
        }
      },
      "source": [
        "print(prf)"
      ],
      "execution_count": 63,
      "outputs": [
        {
          "output_type": "stream",
          "text": [
            "(array([1., 1.]), array([1., 1.]), array([1., 1.]), array([35, 35]))\n"
          ],
          "name": "stdout"
        }
      ]
    },
    {
      "cell_type": "code",
      "metadata": {
        "id": "WWqgpl3WHY2A",
        "outputId": "4e91763e-f32e-480d-8d85-13627f94a8dd",
        "colab": {
          "base_uri": "https://localhost:8080/",
          "height": 265
        }
      },
      "source": [
        "plt.plot(r.history['loss'],label = 'train loss')\n",
        "plt.plot(r.history['val_loss'],label = 'val loss')\n",
        "plt.legend()\n",
        "plt.show()"
      ],
      "execution_count": 64,
      "outputs": [
        {
          "output_type": "display_data",
          "data": {
            "image/png": "[encoded data removed]",
            "text/plain": [
              "<Figure size 432x288 with 1 Axes>"
            ]
          },
          "metadata": {
            "tags": [],
            "needs_background": "light"
          }
        }
      ]
    },
    {
      "cell_type": "code",
      "metadata": {
        "id": "n6yAFeS3-W4-",
        "outputId": "c1e5470a-e859-46fd-8b6f-54e022c828a5",
        "colab": {
          "base_uri": "https://localhost:8080/",
          "height": 265
        }
      },
      "source": [
        "plt.plot(r.history['accuracy'],label = 'training accuracy')\n",
        "plt.plot(r.history['val_accuracy'],label = 'val accuracy')\n",
        "plt.legend()\n",
        "plt.show()"
      ],
      "execution_count": 65,
      "outputs": [
        {
          "output_type": "display_data",
          "data": {
            "image/png": "[encoded data removed]",
            "text/plain": [
              "<Figure size 432x288 with 1 Axes>"
            ]
          },
          "metadata": {
            "tags": [],
            "needs_background": "light"
          }
        }
      ]
    },
    {
      "cell_type": "code",
      "metadata": {
        "id": "kfganSZGAQSE"
      },
      "source": [
        "model.save('vgg19_model.h5')"
      ],
      "execution_count": 66,
      "outputs": []
    },
    {
      "cell_type": "code",
      "metadata": {
        "id": "6bQpsoPuAWyr"
      },
      "source": [
        ""
      ],
      "execution_count": null,
      "outputs": []
    }
  ]
}