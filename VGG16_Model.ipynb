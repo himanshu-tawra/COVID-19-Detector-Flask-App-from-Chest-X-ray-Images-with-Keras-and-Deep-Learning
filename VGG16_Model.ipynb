{
  "nbformat": 4,
  "nbformat_minor": 0,
  "metadata": {
    "colab": {
      "name": "VGG16 Model.ipynb",
      "provenance": [],
      "authorship_tag": "ABX9TyOWXAqV/KlsylMvZn53lIAP",
      "include_colab_link": true
    },
    "kernelspec": {
      "name": "python3",
      "display_name": "Python 3"
    },
    "accelerator": "GPU"
  },
  "cells": [
    {
      "cell_type": "markdown",
      "metadata": {
        "id": "view-in-github",
        "colab_type": "text"
      },
      "source": [
        "<a href=\"https://colab.research.google.com/github/himanshu-tawra/COVID-19-Detector-Flask-App-from-Chest-X-ray-Images-with-Keras-and-Deep-Learning/blob/master/VGG16_Model.ipynb\" target=\"_parent\"><img src=\"https://colab.research.google.com/assets/colab-badge.svg\" alt=\"Open In Colab\"/></a>"
      ]
    },
    {
      "cell_type": "code",
      "metadata": {
        "id": "iozLHTPOB9IH",
        "outputId": "35b77156-ff79-42a1-9879-24b0e278b4b7",
        "colab": {
          "base_uri": "https://localhost:8080/"
        }
      },
      "source": [
        "!wget https://www.dropbox.com/sh/c2uaggwlb2hosof/AABAu2Uv3u81izc4rWk9zxgna?dl=0"
      ],
      "execution_count": 2,
      "outputs": [
        {
          "output_type": "stream",
          "text": [
            "--2020-11-04 16:25:53--  https://www.dropbox.com/sh/c2uaggwlb2hosof/AABAu2Uv3u81izc4rWk9zxgna?dl=0\n",
            "Resolving www.dropbox.com (www.dropbox.com)... 162.125.6.1, 2620:100:601a:1::a27d:701\n",
            "Connecting to www.dropbox.com (www.dropbox.com)|162.125.6.1|:443... connected.\n",
            "HTTP request sent, awaiting response... 301 Moved Permanently\n",
            "Location: /sh/raw/c2uaggwlb2hosof/AABAu2Uv3u81izc4rWk9zxgna [following]\n",
            "--2020-11-04 16:25:53--  https://www.dropbox.com/sh/raw/c2uaggwlb2hosof/AABAu2Uv3u81izc4rWk9zxgna\n",
            "Reusing existing connection to www.dropbox.com:443.\n",
            "HTTP request sent, awaiting response... 302 Found\n",
            "Location: https://uc48f5e9d5f4872c5bcaf34b9f03.dl.dropboxusercontent.com/zip_download_get/Al-HGXg16RXuoDHjoYBg7L71hPFiD2LPCG0IPLFVXqeC3T71WLgtcsrR4dZ_f_0IxU44MoB5k3S4oVhvNyY6JJFJeYp1ifLMiegeRRnsRN1EOQ [following]\n",
            "--2020-11-04 16:25:54--  https://uc48f5e9d5f4872c5bcaf34b9f03.dl.dropboxusercontent.com/zip_download_get/Al-HGXg16RXuoDHjoYBg7L71hPFiD2LPCG0IPLFVXqeC3T71WLgtcsrR4dZ_f_0IxU44MoB5k3S4oVhvNyY6JJFJeYp1ifLMiegeRRnsRN1EOQ\n",
            "Resolving uc48f5e9d5f4872c5bcaf34b9f03.dl.dropboxusercontent.com (uc48f5e9d5f4872c5bcaf34b9f03.dl.dropboxusercontent.com)... 162.125.4.15, 2620:100:601c:15::a27d:60f\n",
            "Connecting to uc48f5e9d5f4872c5bcaf34b9f03.dl.dropboxusercontent.com (uc48f5e9d5f4872c5bcaf34b9f03.dl.dropboxusercontent.com)|162.125.4.15|:443... connected.\n",
            "HTTP request sent, awaiting response... 200 OK\n",
            "Length: 180547331 (172M) [application/zip]\n",
            "Saving to: ‘AABAu2Uv3u81izc4rWk9zxgna?dl=0’\n",
            "\n",
            "AABAu2Uv3u81izc4rWk 100%[===================>] 172.18M  4.77MB/s    in 26s     \n",
            "\n",
            "2020-11-04 16:26:20 (6.64 MB/s) - ‘AABAu2Uv3u81izc4rWk9zxgna?dl=0’ saved [180547331/180547331]\n",
            "\n"
          ],
          "name": "stdout"
        }
      ]
    },
    {
      "cell_type": "code",
      "metadata": {
        "id": "6EibVj0CCE5n",
        "outputId": "47752520-ffac-44e2-c6ff-c5ebbb298af1",
        "colab": {
          "base_uri": "https://localhost:8080/"
        }
      },
      "source": [
        "!unzip AABAu2Uv3u81izc4rWk9zxgna?dl=0"
      ],
      "execution_count": 3,
      "outputs": [
        {
          "output_type": "stream",
          "text": [
            "Archive:  AABAu2Uv3u81izc4rWk9zxgna?dl=0\n",
            "warning:  stripped absolute path spec from /\n",
            "mapname:  conversion of  failed\n",
            "   creating: Val/\n",
            "   creating: Test/\n",
            "   creating: Train/\n",
            "   creating: Val/Covid/\n",
            "   creating: Test/Covid/\n",
            "   creating: Val/Normal/\n",
            "   creating: Train/Covid/\n",
            "   creating: Test/Normal/\n",
            "   creating: Train/Normal/\n",
            " extracting: Train/Covid/AR-2.jpg    \n",
            " extracting: Train/Covid/AR-1.jpg    \n",
            " extracting: Test/Covid/paving.jpg   \n",
            " extracting: Val/Covid/d009d61f.jpg  \n",
            " extracting: Val/Covid/e1446fe8.jpg  \n",
            " extracting: Val/Covid/d9d6ca9a.jpg  \n",
            " extracting: Val/Covid/f6d980a0.jpg  \n",
            " extracting: Val/Covid/ec083e35.jpg  \n",
            " extracting: Test/Covid/f8335316.jpg  \n",
            " extracting: Test/Covid/f6575117.jpg  \n",
            " extracting: Test/Covid/f64132c8.jpg  \n",
            " extracting: Train/Covid/5782ae15.jpg  \n",
            " extracting: Train/Covid/bb0e626a.jpg  \n",
            " extracting: Train/Covid/82a78c13.jpg  \n",
            " extracting: Train/Covid/a361d7b7.jpg  \n",
            " extracting: Train/Covid/1052b0fe.jpg  \n",
            " extracting: Train/Covid/a2eba651.jpg  \n",
            " extracting: Train/Covid/bd10d5e2.jpg  \n",
            " extracting: Train/Covid/c601f50d.jpg  \n",
            " extracting: Train/Covid/2168a917.jpg  \n",
            " extracting: Train/Covid/5f619d7e.jpg  \n",
            " extracting: Train/Covid/80b5f00f.jpg  \n",
            " extracting: Train/Covid/90986ce4.jpg  \n",
            " extracting: Train/Covid/a8ac1969.jpg  \n",
            " extracting: Train/Covid/ac4f6e4e.jpg  \n",
            " extracting: Train/Covid/7afaaccc.jpg  \n",
            " extracting: Train/Covid/19abe1f3.jpg  \n",
            " extracting: Test/Covid/gr1_lrg-b.jpg  \n",
            " extracting: Train/Covid/441c9cdd.jpg  \n",
            " extracting: Train/Covid/4d98e1de.jpg  \n",
            " extracting: Train/Covid/2cd63b76.jpg  \n",
            " extracting: Train/Covid/0a7faa2a.jpg  \n",
            " extracting: Train/Covid/8da14fff.jpg  \n",
            " extracting: Train/Covid/3b46de94.jpg  \n",
            " extracting: Test/Covid/gr1_lrg-a.jpg  \n",
            " extracting: Train/Covid/48c4542c.jpg  \n",
            " extracting: Train/Covid/c3829ecb.jpg  \n",
            " extracting: Train/Covid/8fc103ca.jpg  \n",
            " extracting: Train/Covid/c0f74558.jpg  \n",
            " extracting: Train/Covid/b9673e89.jpg  \n",
            " extracting: Train/Covid/16708_4_1.jpg  \n",
            " extracting: Train/Covid/16663_1_1.jpg  \n",
            " extracting: Train/Covid/16660_2_1.jpg  \n",
            " extracting: Train/Covid/16953_4_1.jpg  \n",
            " extracting: Train/Covid/16708_5_1.jpg  \n",
            " extracting: Train/Covid/16745_5_1.png  \n",
            " extracting: Train/Covid/16660_4_1.jpg  \n",
            " extracting: Train/Covid/16953_5_1.jpg  \n",
            " extracting: Train/Covid/16708_1_1.jpg  \n",
            " extracting: Train/Covid/16672_1_1.jpg  \n",
            " extracting: Train/Covid/16660_1_1.jpg  \n",
            " extracting: Train/Covid/16660_3_1.jpg  \n",
            " extracting: Train/Covid/16747_1_1.jpg  \n",
            " extracting: Train/Covid/16664_1_1.jpg  \n",
            " extracting: Train/Covid/16660_5_1.jpg  \n",
            " extracting: Train/Covid/16865_1_1.jpg  \n",
            " extracting: Train/Covid/16953_3_1.jpg  \n",
            " extracting: Val/Covid/extubation-1.jpg  \n",
            " extracting: Val/Covid/extubation-8.jpg  \n",
            " extracting: Val/Covid/extubation-4.jpg  \n",
            " extracting: Train/Covid/16669_3_1.jpeg  \n",
            " extracting: Val/Covid/extubation-13.jpg  \n",
            " extracting: Val/Normal/IM-0351-0001.jpeg  \n",
            " extracting: Val/Normal/IM-0353-0001.jpeg  \n",
            " extracting: Val/Normal/IM-0349-0001.jpeg  \n",
            " extracting: Val/Normal/IM-0370-0001.jpeg  \n",
            " extracting: Val/Normal/IM-0359-0001.jpeg  \n",
            " extracting: Val/Normal/IM-0377-0001.jpeg  \n",
            " extracting: Val/Normal/IM-0365-0001.jpeg  \n",
            " extracting: Val/Normal/IM-0363-0001.jpeg  \n",
            " extracting: Val/Normal/IM-0371-0001.jpeg  \n",
            " extracting: Val/Normal/IM-0350-0001.jpeg  \n",
            " extracting: Val/Normal/IM-0372-0001.jpeg  \n",
            " extracting: Val/Normal/IM-0374-0001.jpeg  \n",
            " extracting: Val/Normal/IM-0354-0001.jpeg  \n",
            " extracting: Val/Normal/IM-0364-0001.jpeg  \n",
            " extracting: Val/Normal/IM-0355-0001.jpeg  \n",
            " extracting: Val/Normal/IM-0375-0001.jpeg  \n",
            " extracting: Val/Normal/IM-0367-0001.jpeg  \n",
            " extracting: Val/Normal/IM-0379-0001.jpeg  \n",
            " extracting: Val/Normal/IM-0382-0001.jpeg  \n",
            " extracting: Val/Normal/IM-0385-0001.jpeg  \n",
            " extracting: Val/Normal/IM-0383-0001.jpeg  \n",
            " extracting: Val/Normal/IM-0348-0001.jpeg  \n",
            " extracting: Val/Normal/IM-0381-0001.jpeg  \n",
            " extracting: Val/Normal/IM-0368-0001.jpeg  \n",
            " extracting: Val/Normal/IM-0387-0001.jpeg  \n",
            " extracting: Val/Normal/IM-0347-0001.jpeg  \n",
            " extracting: Val/Normal/IM-0362-0001.jpeg  \n",
            " extracting: Test/Covid/lancet-case2a.jpg  \n",
            " extracting: Val/Normal/IM-0384-0001.jpeg  \n",
            " extracting: Val/Normal/IM-0369-0001.jpeg  \n",
            " extracting: Val/Normal/IM-0356-0001.jpeg  \n",
            " extracting: Val/Normal/IM-0361-0001.jpeg  \n",
            " extracting: Val/Normal/IM-0386-0001.jpeg  \n",
            " extracting: Test/Covid/lancet-case2b.jpg  \n",
            " extracting: Test/Normal/IM-0303-0001.jpeg  \n",
            " extracting: Test/Normal/IM-0340-0001.jpeg  \n",
            " extracting: Test/Normal/IM-0315-0001.jpeg  \n",
            " extracting: Test/Normal/IM-0317-0001.jpeg  \n",
            " extracting: Test/Normal/IM-0339-0001.jpeg  \n",
            " extracting: Test/Covid/tpmd200203f2-b.png  \n",
            " extracting: Test/Normal/IM-0346-0001.jpeg  \n",
            " extracting: Test/Normal/IM-0332-0001.jpeg  \n",
            " extracting: Test/Normal/IM-0358-0001.jpeg  \n",
            " extracting: Test/Normal/IM-0329-0001.jpeg  \n",
            " extracting: Test/Normal/IM-0327-0001.jpeg  \n",
            " extracting: Test/Normal/IM-0331-0001.jpeg  \n",
            " extracting: Test/Normal/IM-0314-0001.jpeg  \n",
            " extracting: Test/Normal/IM-0308-0001.jpeg  \n",
            " extracting: Test/Normal/IM-0318-0001.jpeg  \n",
            " extracting: Test/Normal/IM-0335-0001.jpeg  \n",
            " extracting: Test/Normal/IM-0301-0001.jpeg  \n",
            " extracting: Test/Normal/IM-0307-0001.jpeg  \n",
            " extracting: Test/Normal/IM-0323-0001.jpeg  \n",
            " extracting: Test/Normal/IM-0305-0001.jpeg  \n",
            " extracting: Test/Normal/IM-0357-0001.jpeg  \n",
            " extracting: Test/Normal/IM-0345-0001.jpeg  \n",
            " extracting: Test/Normal/IM-0343-0001.jpeg  \n",
            " extracting: Test/Normal/IM-0337-0001.jpeg  \n",
            " extracting: Test/Normal/IM-0326-0001.jpeg  \n",
            " extracting: Test/Normal/IM-0341-0001.jpeg  \n",
            " extracting: Test/Normal/IM-0324-0001.jpeg  \n",
            " extracting: Test/Normal/IM-0333-0001.jpeg  \n",
            " extracting: Train/Covid/BMJ-37-163-g1.jpg  \n",
            " extracting: Test/Normal/IM-0302-0001.jpeg  \n",
            " extracting: Test/Normal/IM-0319-0001.jpeg  \n",
            " extracting: Test/Covid/tpmd200203f2-c.png  \n",
            " extracting: Test/Normal/IM-0316-0001.jpeg  \n",
            " extracting: Train/Covid/2-chest-filmc.jpg  \n",
            " extracting: Test/Normal/IM-0320-0001.jpeg  \n",
            " extracting: Test/Normal/IM-0330-0001.jpeg  \n",
            " extracting: Test/Normal/IM-0338-0001.jpeg  \n",
            " extracting: Test/Normal/IM-0306-0001.jpeg  \n",
            " extracting: Test/Normal/IM-0325-0001.jpeg  \n",
            " extracting: Train/Normal/IM-0257-0001.jpeg  \n",
            " extracting: Train/Normal/IM-0180-0001.jpeg  \n",
            " extracting: Train/Normal/IM-0164-0001.jpeg  \n",
            " extracting: Train/Normal/IM-0125-0001.jpeg  \n",
            " extracting: Train/Normal/IM-0162-0001.jpeg  \n",
            " extracting: Train/Normal/IM-0290-0001.jpeg  \n",
            " extracting: Train/Normal/IM-0272-0001.jpeg  \n",
            " extracting: Train/Normal/IM-0227-0001.jpeg  \n",
            " extracting: Train/Normal/IM-0299-0001.jpeg  \n",
            " extracting: Train/Normal/IM-0239-0001.jpeg  \n",
            " extracting: Train/Normal/IM-0289-0001.jpeg  \n",
            " extracting: Train/Normal/IM-0185-0001.jpeg  \n",
            " extracting: Train/Normal/IM-0141-0001.jpeg  \n",
            " extracting: Train/Normal/IM-0249-0001.jpeg  \n",
            " extracting: Train/Normal/IM-0241-0001.jpeg  \n",
            " extracting: Train/Normal/IM-0187-0001.jpeg  \n",
            " extracting: Train/Normal/IM-0177-0001.jpeg  \n",
            " extracting: Train/Normal/IM-0122-0001.jpeg  \n",
            " extracting: Train/Normal/IM-0133-0001.jpeg  \n",
            " extracting: Train/Normal/IM-0283-0001.jpeg  \n",
            " extracting: Train/Normal/IM-0234-0001.jpeg  \n",
            " extracting: Train/Normal/IM-0145-0001.jpeg  \n",
            " extracting: Train/Normal/IM-0158-0001.jpeg  \n",
            " extracting: Train/Normal/IM-0275-0001.jpeg  \n",
            " extracting: Train/Normal/IM-0236-0001.jpeg  \n",
            " extracting: Train/Normal/IM-0265-0001.jpeg  \n",
            " extracting: Train/Normal/IM-0248-0001.jpeg  \n",
            " extracting: Train/Normal/IM-0262-0001.jpeg  \n",
            " extracting: Train/Normal/IM-0115-0001.jpeg  \n",
            " extracting: Train/Normal/IM-0274-0001.jpeg  \n",
            " extracting: Train/Normal/IM-0172-0001.jpeg  \n",
            " extracting: Train/Normal/IM-0293-0001.jpeg  \n",
            " extracting: Train/Normal/IM-0256-0001.jpeg  \n",
            " extracting: Train/Normal/IM-0152-0001.jpeg  \n",
            " extracting: Train/Normal/IM-0228-0001.jpeg  \n",
            " extracting: Train/Normal/IM-0209-0001.jpeg  \n",
            " extracting: Train/Normal/IM-0135-0001.jpeg  \n",
            " extracting: Train/Normal/IM-0199-0001.jpeg  \n",
            " extracting: Train/Normal/IM-0217-0001.jpeg  \n",
            " extracting: Train/Normal/IM-0215-0001.jpeg  \n",
            " extracting: Train/Normal/IM-0195-0001.jpeg  \n",
            " extracting: Train/Normal/IM-0178-0001.jpeg  \n",
            " extracting: Train/Normal/IM-0216-0001.jpeg  \n",
            " extracting: Train/Normal/IM-0223-0001.jpeg  \n",
            " extracting: Train/Normal/IM-0270-0001.jpeg  \n",
            " extracting: Train/Normal/IM-0292-0001.jpeg  \n",
            " extracting: Train/Normal/IM-0313-0001.jpeg  \n",
            " extracting: Train/Normal/IM-0231-0001.jpeg  \n",
            " extracting: Train/Normal/IM-0309-0001.jpeg  \n",
            " extracting: Train/Normal/IM-0143-0001.jpeg  \n",
            " extracting: Train/Normal/IM-0311-0001.jpeg  \n",
            " extracting: Train/Normal/IM-0291-0001.jpeg  \n",
            " extracting: Train/Normal/IM-0230-0001.jpeg  \n",
            " extracting: Train/Normal/IM-0238-0001.jpeg  \n",
            " extracting: Train/Normal/IM-0225-0001.jpeg  \n",
            " extracting: Train/Normal/IM-0245-0001.jpeg  \n",
            " extracting: Train/Normal/IM-0189-0001.jpeg  \n",
            " extracting: Train/Normal/IM-0282-0001.jpeg  \n",
            " extracting: Train/Normal/IM-0312-0001.jpeg  \n",
            " extracting: Train/Normal/IM-0222-0001.jpeg  \n",
            " extracting: Train/Normal/IM-0224-0001.jpeg  \n",
            " extracting: Train/Normal/IM-0243-0001.jpeg  \n",
            " extracting: Train/Normal/IM-0294-0001.jpeg  \n",
            " extracting: Train/Normal/IM-0131-0001.jpeg  \n",
            " extracting: Train/Normal/IM-0147-0001.jpeg  \n",
            " extracting: Train/Normal/IM-0244-0001.jpeg  \n",
            " extracting: Train/Normal/IM-0242-0001.jpeg  \n",
            " extracting: Train/Normal/IM-0286-0001.jpeg  \n",
            " extracting: Train/Normal/IM-0264-0001.jpeg  \n",
            " extracting: Train/Normal/IM-0160-0001.jpeg  \n",
            " extracting: Train/Normal/IM-0211-0001.jpeg  \n",
            " extracting: Train/Normal/IM-0253-0001.jpeg  \n",
            " extracting: Train/Normal/IM-0117-0001.jpeg  \n",
            " extracting: Train/Normal/IM-0220-0001.jpeg  \n",
            " extracting: Train/Normal/IM-0168-0001.jpeg  \n",
            " extracting: Train/Normal/IM-0183-0001.jpeg  \n",
            " extracting: Train/Normal/IM-0237-0001.jpeg  \n",
            " extracting: Train/Normal/IM-0298-0001.jpeg  \n",
            " extracting: Train/Normal/IM-0191-0001.jpeg  \n",
            " extracting: Train/Normal/IM-0201-0001.jpeg  \n",
            " extracting: Train/Normal/IM-0129-0001.jpeg  \n",
            " extracting: Train/Normal/IM-0193-0001.jpeg  \n",
            " extracting: Train/Normal/IM-0276-0001.jpeg  \n",
            " extracting: Train/Normal/IM-0128-0001.jpeg  \n",
            " extracting: Train/Normal/IM-0166-0001.jpeg  \n",
            " extracting: Train/Normal/IM-0213-0001.jpeg  \n",
            " extracting: Train/Normal/IM-0226-0001.jpeg  \n",
            " extracting: Train/Normal/IM-0278-0001.jpeg  \n",
            " extracting: Train/Normal/IM-0268-0001.jpeg  \n",
            " extracting: Train/Normal/IM-0219-0001.jpeg  \n",
            " extracting: Train/Normal/IM-0156-0001.jpeg  \n",
            " extracting: Train/Normal/IM-0206-0001.jpeg  \n",
            " extracting: Train/Normal/IM-0300-0001.jpeg  \n",
            " extracting: Train/Normal/IM-0295-0001.jpeg  \n",
            " extracting: Train/Normal/IM-0235-0001.jpeg  \n",
            " extracting: Train/Normal/IM-0240-0001.jpeg  \n",
            " extracting: Train/Normal/IM-0255-0001.jpeg  \n",
            " extracting: Train/Normal/IM-0203-0001.jpeg  \n",
            " extracting: Train/Normal/IM-0288-0001.jpeg  \n",
            " extracting: Train/Normal/IM-0207-0001.jpeg  \n",
            " extracting: Train/Normal/IM-0280-0001.jpeg  \n",
            " extracting: Train/Normal/IM-0221-0001.jpeg  \n",
            " extracting: Train/Normal/IM-0266-0001.jpeg  \n",
            " extracting: Train/Normal/IM-0140-0001.jpeg  \n",
            " extracting: Train/Normal/IM-0279-0001.jpeg  \n",
            " extracting: Train/Normal/IM-0229-0001.jpeg  \n",
            " extracting: Train/Normal/IM-0218-0001.jpeg  \n",
            " extracting: Train/Normal/IM-0251-0001.jpeg  \n",
            " extracting: Train/Normal/IM-0210-0001.jpeg  \n",
            " extracting: Train/Normal/IM-0149-0001.jpeg  \n",
            " extracting: Train/Normal/IM-0119-0001.jpeg  \n",
            " extracting: Train/Normal/IM-0154-0001.jpeg  \n",
            " extracting: Train/Normal/IM-0297-0001.jpeg  \n",
            " extracting: Train/Normal/IM-0277-0001.jpeg  \n",
            " extracting: Train/Normal/IM-0250-0001.jpeg  \n",
            " extracting: Train/Normal/IM-0127-0001.jpeg  \n",
            " extracting: Train/Normal/IM-0269-0001.jpeg  \n",
            " extracting: Train/Normal/IM-0170-0001.jpeg  \n",
            " extracting: Train/Normal/IM-0182-0001.jpeg  \n",
            " extracting: Train/Normal/IM-0151-0001.jpeg  \n",
            " extracting: Train/Normal/IM-0176-0001.jpeg  \n",
            " extracting: Train/Normal/IM-0205-0001.jpeg  \n",
            " extracting: Train/Normal/IM-0273-0001.jpeg  \n",
            " extracting: Train/Normal/IM-0285-0001.jpeg  \n",
            " extracting: Train/Normal/IM-0214-0001.jpeg  \n",
            " extracting: Train/Covid/7-fatal-covid19.jpg  \n",
            " extracting: Test/Covid/nejmc2001573_f1a.jpeg  \n",
            " extracting: Test/Covid/nejmoa2001191_f4.jpeg  \n",
            " extracting: Test/Covid/nejmc2001573_f1b.jpeg  \n",
            " extracting: Train/Covid/ciaa199.pdf-001-b.png  \n",
            " extracting: Test/Covid/thnov10p5641g006-c.png  \n",
            " extracting: Train/Covid/ciaa199.pdf-001-a.png  \n",
            " extracting: Val/Covid/covid-19-pneumonia-8.jpg  \n",
            " extracting: Test/Covid/ryct.2020003.fig2-c.png  \n",
            " extracting: Test/Covid/ryct.2020003.fig2-a.png  \n",
            " extracting: Test/Covid/kjr-21-e25-g001-l-a.jpg  \n",
            " extracting: Test/Covid/ryct.2020003.fig2-b.png  \n",
            " extracting: Val/Covid/covid-19-pneumonia-20.jpg  \n",
            " extracting: Test/Covid/nejmoa2001191_f1-PA.jpeg  \n",
            " extracting: Test/Covid/nejmoa2001191_f3-PA.jpeg  \n",
            " extracting: Val/Covid/covid-19-pneumonia-28.png  \n",
            " extracting: Test/Covid/nejmoa2001191_f5-PA.jpeg  \n",
            " extracting: Val/Covid/covid-19-pneumonia-93.png  \n",
            " extracting: Val/Covid/covid-19-pneumonia-53.jpg  \n",
            " extracting: Val/Normal/NORMAL2-IM-0520-0001.jpeg  \n",
            " extracting: Train/Covid/covid-19-caso-82-1-8.png  \n",
            " extracting: Val/Normal/NORMAL2-IM-0521-0001.jpeg  \n",
            " extracting: Test/Covid/ryct.2020200034.fig2.jpeg  \n",
            " extracting: Val/Normal/NORMAL2-IM-0518-0001.jpeg  \n",
            " extracting: Train/Covid/covid-19-caso-94-1-14.png  \n",
            " extracting: Train/Covid/covid-19-caso-91-1-12.png  \n",
            " extracting: Train/Covid/all14238-fig-0001-m-b.jpg  \n",
            " extracting: Val/Covid/covid-19-pneumonia-35-1.jpg  \n",
            " extracting: Train/Covid/all14238-fig-0001-m-c.jpg  \n",
            " extracting: Train/Covid/covid-19-caso-95-3-14.png  \n",
            " extracting: Train/Covid/covid-19-caso-70-1-PA.jpg  \n",
            " extracting: Train/Covid/covid-19-caso-95-1-15.png  \n",
            " extracting: Val/Covid/covid-19-pneumonia-7-PA.jpg  \n",
            " extracting: Test/Covid/ryct.2020200028.fig1a.jpeg  \n",
            " extracting: Val/Covid/covid-19-pneumonia-mild.JPG  \n",
            " extracting: Val/Covid/covid-19-pneumonia-35-2.jpg  \n",
            " extracting: Val/Covid/covid-19-pneumonia-38-pa.jpg  \n",
            " extracting: Val/Covid/covid-19-pneumonia-14-PA.png  \n",
            " extracting: Test/Covid/radiol.2020200490.fig3.jpeg  \n",
            " extracting: Test/Covid/radiol.2020200274.fig3d.png  \n",
            " extracting: Val/Covid/covid-19-pneumonia-30-PA.jpg  \n",
            " extracting: Val/Covid/covid-19-pneumonia-15-PA.jpg  \n",
            " extracting: Train/Covid/41182_2020_203_Fig5_HTML.jpg  \n",
            " extracting: Train/Covid/41182_2020_203_Fig3_HTML.jpg  \n",
            " extracting: Train/Covid/12941_2020_358_Fig1_HTML.jpg  \n",
            " extracting: Train/Covid/41182_2020_203_Fig4_HTML.jpg  \n",
            " extracting: Test/Covid/ryct.2020200034.fig5-day7.jpeg  \n",
            " extracting: Test/Covid/ryct.2020200034.fig5-day0.jpeg  \n",
            " extracting: Test/Covid/ryct.2020200034.fig5-day4.jpeg  \n",
            " extracting: Train/Covid/40779_2020_233_Fig2_HTML-a.png  \n",
            " extracting: Val/Covid/covid-19-pneumonia-44-day-0.jpeg  \n",
            " extracting: Train/Covid/41379_2020_536_Fig2_HTML-c1.png  \n",
            " extracting: Val/Covid/covid-19-pneumonia-22-day1-pa.png  \n",
            " extracting: Val/Covid/covid-19-pneumonia-22-day2-pa.png  \n",
            " extracting: Test/Covid/nCoV-radiol.2020200269.fig1-day7.jpeg  \n",
            " extracting: Train/Covid/1-s2.0-S0140673620303706-fx1_lrg.jpg  \n",
            " extracting: Train/Covid/10.1016-slash-j.anl.2020.04.002-a.png  \n",
            " extracting: Train/Covid/1-s2.0-S2387020620301959-gr4_lrg-b.png  \n",
            " extracting: Train/Covid/10.1016-slash-j.crad.2020.04.002-a.png  \n",
            " extracting: Train/Covid/1-s2.0-S2387020620301959-gr4_lrg-c.png  \n",
            " extracting: Train/Covid/10.1016-slash-j.crad.2020.04.002-b.png  \n",
            " extracting: Train/Covid/1-s2.0-S2214250920300834-gr1_lrg-b.png  \n",
            " extracting: Train/Covid/1-s2.0-S2214250920300834-gr1_lrg-c.png  \n",
            " extracting: Train/Covid/41591_2020_819_Fig1_HTML.webp-day5.png  \n",
            " extracting: Train/Covid/41591_2020_819_Fig1_HTML.webp-day10.png  \n",
            " extracting: Val/Covid/covid-19-pneumonia-20-pa-on-admission.jpg  \n",
            " extracting: Val/Covid/E63574A7-4188-4C8D-8D17-9D67A18A1AFA.jpeg  \n",
            " extracting: Test/Covid/FE9F9A5D-2830-46F9-851B-1FF4534959BE.jpeg  \n",
            " extracting: Test/Covid/F4341CE7-73C9-45C6-99C8-8567A5484B63.jpeg  \n",
            " extracting: Train/Covid/23E99E2E-447C-46E5-8EB2-D35D12473C39.png  \n",
            " extracting: Test/Covid/yxppt-2020-02-19_00-51-27_287214-day8.jpg  \n",
            " extracting: Train/Covid/01E392EE-69F9-4E33-BFCE-E5C968654078.jpeg  \n",
            " extracting: Train/Covid/9C34AF49-E589-44D5-92D3-168B3B04E4A6.jpeg  \n",
            " extracting: Train/Covid/1-s2.0-S1684118220300608-main.pdf-001.jpg  \n",
            " extracting: Train/Covid/03BF7561-A9BA-4C3C-B8A0-D3E585F73F3C.jpeg  \n",
            " extracting: Train/Covid/1-s2.0-S1684118220300608-main.pdf-002.jpg  \n",
            " extracting: Train/Covid/353889E0-A1E8-4F9E-A0B8-F24F36BCFBFB.jpeg  \n",
            " extracting: Train/Covid/8FDE8DBA-CFBD-4B4C-B1A4-6F36A93B7E87.jpeg  \n",
            " extracting: Train/Covid/7C69C012-7479-493F-8722-ABC29C60A2DD.jpeg  \n",
            " extracting: Train/Covid/1312A392-67A3-4EBF-9319-810CF6DA5EF6.jpeg  \n",
            " extracting: Train/Covid/4e43e48d52c9e2d4c6c1fb9bc1544f_jumbo.jpeg  \n",
            " extracting: Train/Covid/6CB4EFC6-68FA-4CD5-940C-BEFA8DAFE9A7.jpeg  \n",
            " extracting: Train/Covid/2C26F453-AF3B-4517-BB9E-802CF2179543.jpeg  \n",
            " extracting: Train/Covid/9fdd3c3032296fd04d2cad5d9070d4_jumbo.jpeg  \n",
            " extracting: Train/Covid/93FE0BB1-022D-4F24-9727-987A07975FFB.jpeg  \n",
            " extracting: Train/Covid/1B734A89-A1BF-49A8-A1D3-66FAFA4FAC5D.jpeg  \n",
            " extracting: Train/Covid/58cb9263f16e94305c730685358e4e_jumbo.jpeg  \n",
            " extracting: Train/Covid/2edb88df42cab5e5fbc18b3965e0bd_jumbo.jpeg  \n",
            " extracting: Train/Covid/80446565-E090-4187-A031-9D3CEAA586C8.jpeg  \n",
            " extracting: Train/Covid/b0f1684d1ee90dc09deef015e29dae_jumbo.jpeg  \n",
            " extracting: Train/Covid/2966893D-5DDF-4B68-9E2B-4979D5956C8E.jpeg  \n",
            " extracting: Train/Covid/7AF6C1AF-D249-4BD2-8C26-449304105D03.jpeg  \n",
            " extracting: Train/Covid/53EC07C9-5CC6-4BE4-9B6F-D7B0D72AAA7E.jpeg  \n",
            " extracting: Train/Covid/14d81f378173b86cc53f21d2d67040_jumbo.jpeg  \n",
            " extracting: Train/Covid/CD50BA96-6982-4C80-AE7B-5F67ACDBFA56.jpeg  \n",
            " extracting: Train/Covid/6C94A287-C059-46A0-8600-AFB95F4727B7.jpeg  \n",
            " extracting: Train/Covid/1141cc2b8b9cc394becce5d978b5a7_jumbo.jpeg  \n",
            " extracting: Train/Covid/88de9d8c39e946abd495b37cd07d89e5-6531-0.jpg  \n",
            " extracting: Train/Covid/6b3bdbc31f65230b8cdcc3cef5f8ba8a-40ac-0.jpg  \n",
            " extracting: Train/Covid/88de9d8c39e946abd495b37cd07d89e5-2ee6-0.jpg  \n",
            " extracting: Train/Covid/ae6c954c0039de4b5edee53865ffee43-e6c8-0.jpg  \n",
            " extracting: Train/Covid/1-s2.0-S1684118220300682-main.pdf-002-a1.png  \n",
            " extracting: Test/Covid/figure1-5e71be566aa8714a04de3386-98-left.jpeg  \n",
            " extracting: Train/Covid/1-s2.0-S1684118220300682-main.pdf-002-a2.png  \n",
            " extracting: Train/Covid/1-s2.0-S1684118220300682-main.pdf-003-b1.png  \n",
            " extracting: Train/Covid/1-s2.0-S1684118220300682-main.pdf-003-b2.png  \n",
            " extracting: Test/Covid/figure1-5e75d0940b71e1b702629659-98-right.jpeg  \n",
            " extracting: Val/Covid/covid-19-pneumonia-rapidly-progressive-3-days.jpg  \n",
            " extracting: Val/Covid/covid-19-pneumonia-rapidly-progressive-12-hours.jpg  \n",
            " extracting: Val/Covid/covid-19-pneumonia-rapidly-progressive-admission.jpg  \n",
            " extracting: Val/Covid/covid-19-pneumonia-evolution-over-a-week-1-day0-PA.jpg  \n",
            " extracting: Test/Covid/fff49165-b22d-4bb4-b9d1-d5d62c52436c.annot.original.png  \n",
            " extracting: Train/Covid/article_river_e4d185c06e3511eaa2321d8ab357a1de-c1mn.png  \n",
            " extracting: Train/Covid/6b44464d-73a7-4cf3-bbb6-ffe7168300e3.annot.original.jpeg  \n",
            " extracting: Train/Covid/1.CXRCTThoraximagesofCOVID-19fromSingapore.pdf-002-fig3a.png  \n",
            " extracting: Train/Covid/1.CXRCTThoraximagesofCOVID-19fromSingapore.pdf-003-fig4a.png  \n",
            " extracting: Train/Covid/1.CXRCTThoraximagesofCOVID-19fromSingapore.pdf-000-fig1a.png  \n",
            " extracting: Train/Covid/1.CXRCTThoraximagesofCOVID-19fromSingapore.pdf-001-fig2a.png  \n",
            " extracting: Train/Covid/1.CXRCTThoraximagesofCOVID-19fromSingapore.pdf-002-fig3b.png  \n",
            " extracting: Train/Covid/1.CXRCTThoraximagesofCOVID-19fromSingapore.pdf-003-fig4b.png  \n",
            " extracting: Train/Covid/1.CXRCTThoraximagesofCOVID-19fromSingapore.pdf-000-fig1b.png  \n",
            " extracting: Train/Covid/1.CXRCTThoraximagesofCOVID-19fromSingapore.pdf-001-fig2b.png  \n",
            " extracting: Train/Covid/covid-19-infection-exclusive-gastrointestinal-symptoms-pa.png  \n",
            " extracting: Train/Covid/auntminnie-a-2020_01_28_23_51_6665_2020_01_28_Vietnam_coronavirus.jpeg  \n",
            " extracting: Train/Covid/auntminnie-d-2020_01_28_23_51_6665_2020_01_28_Vietnam_coronavirus.jpeg  \n",
            " extracting: Train/Covid/auntminnie-c-2020_01_28_23_51_6665_2020_01_28_Vietnam_coronavirus.jpeg  \n",
            " extracting: Train/Covid/auntminnie-b-2020_01_28_23_51_6665_2020_01_28_Vietnam_coronavirus.jpeg  \n",
            " extracting: Val/Covid/covid-19-rapidly-progressive-acute-respiratory-distress-syndrome-ards-day-3.jpg  \n",
            " extracting: Val/Covid/covid-19-rapidly-progressive-acute-respiratory-distress-syndrome-ards-day-2.jpg  \n",
            " extracting: Val/Covid/covid-19-rapidly-progressive-acute-respiratory-distress-syndrome-ards-day-1.jpg  \n",
            " extracting: Val/Covid/covid-19-rapidly-progressive-acute-respiratory-distress-syndrome-ards-admission.jpg  \n",
            "\n",
            "1 archive had fatal errors.\n"
          ],
          "name": "stdout"
        }
      ]
    },
    {
      "cell_type": "code",
      "metadata": {
        "id": "ijS-Zq2zCXVk"
      },
      "source": [
        "import numpy as np\n",
        "import matplotlib.pyplot as plt\n",
        "from keras.layers import *\n",
        "from keras.models import *\n",
        "from keras.preprocessing import image\n",
        "from keras.applications.vgg16 import preprocess_input,VGG16\n",
        "from glob import glob\n",
        "from keras.preprocessing.image import ImageDataGenerator\n",
        "import os"
      ],
      "execution_count": 4,
      "outputs": []
    },
    {
      "cell_type": "code",
      "metadata": {
        "id": "OrSvFZpxCiY3"
      },
      "source": [
        "IMAGE_SIZE = [224,224]"
      ],
      "execution_count": 5,
      "outputs": []
    },
    {
      "cell_type": "code",
      "metadata": {
        "id": "tf0njteWClNx",
        "outputId": "46129fb7-dc9e-4966-eb27-1369851d8195",
        "colab": {
          "base_uri": "https://localhost:8080/"
        }
      },
      "source": [
        "vgg = VGG16(input_shape= IMAGE_SIZE + [3] , weights='imagenet',include_top=False)"
      ],
      "execution_count": 6,
      "outputs": [
        {
          "output_type": "stream",
          "text": [
            "Downloading data from https://storage.googleapis.com/tensorflow/keras-applications/vgg16/vgg16_weights_tf_dim_ordering_tf_kernels_notop.h5\n",
            "58892288/58889256 [==============================] - 0s 0us/step\n"
          ],
          "name": "stdout"
        }
      ]
    },
    {
      "cell_type": "code",
      "metadata": {
        "id": "2rbkS6VICzDX"
      },
      "source": [
        "for layer in vgg.layers:\n",
        "  layer.trainable = False"
      ],
      "execution_count": 7,
      "outputs": []
    },
    {
      "cell_type": "code",
      "metadata": {
        "id": "XrT45hqKC-aK"
      },
      "source": [
        "vgg_output = vgg.output"
      ],
      "execution_count": 8,
      "outputs": []
    },
    {
      "cell_type": "code",
      "metadata": {
        "id": "uohlgsLNDCGP"
      },
      "source": [
        "flatten = Flatten()(vgg_output)\n",
        "dense_layer1 = Dense(activation= 'relu',units=256)(flatten)\n",
        "dropout_1 = Dropout(rate = 0.5)(dense_layer1)\n",
        "dense_layer2 = Dense(activation = 'relu',units = 128)(dropout_1)\n",
        "dropout_2 = Dropout(rate = 0.3)(dense_layer2)\n",
        "output_layer = Dense(2,activation='softmax')(dropout_2)"
      ],
      "execution_count": 9,
      "outputs": []
    },
    {
      "cell_type": "code",
      "metadata": {
        "id": "oeKGHP5sDEsl"
      },
      "source": [
        "model = Model(inputs = vgg.input,outputs = output_layer)"
      ],
      "execution_count": 10,
      "outputs": []
    },
    {
      "cell_type": "code",
      "metadata": {
        "id": "VmddCbIsDL-0",
        "outputId": "6de0d509-f8b4-49ca-96db-263530ae4ebd",
        "colab": {
          "base_uri": "https://localhost:8080/"
        }
      },
      "source": [
        "model.summary()"
      ],
      "execution_count": 11,
      "outputs": [
        {
          "output_type": "stream",
          "text": [
            "Model: \"functional_1\"\n",
            "_________________________________________________________________\n",
            "Layer (type)                 Output Shape              Param #   \n",
            "=================================================================\n",
            "input_1 (InputLayer)         [(None, 224, 224, 3)]     0         \n",
            "_________________________________________________________________\n",
            "block1_conv1 (Conv2D)        (None, 224, 224, 64)      1792      \n",
            "_________________________________________________________________\n",
            "block1_conv2 (Conv2D)        (None, 224, 224, 64)      36928     \n",
            "_________________________________________________________________\n",
            "block1_pool (MaxPooling2D)   (None, 112, 112, 64)      0         \n",
            "_________________________________________________________________\n",
            "block2_conv1 (Conv2D)        (None, 112, 112, 128)     73856     \n",
            "_________________________________________________________________\n",
            "block2_conv2 (Conv2D)        (None, 112, 112, 128)     147584    \n",
            "_________________________________________________________________\n",
            "block2_pool (MaxPooling2D)   (None, 56, 56, 128)       0         \n",
            "_________________________________________________________________\n",
            "block3_conv1 (Conv2D)        (None, 56, 56, 256)       295168    \n",
            "_________________________________________________________________\n",
            "block3_conv2 (Conv2D)        (None, 56, 56, 256)       590080    \n",
            "_________________________________________________________________\n",
            "block3_conv3 (Conv2D)        (None, 56, 56, 256)       590080    \n",
            "_________________________________________________________________\n",
            "block3_pool (MaxPooling2D)   (None, 28, 28, 256)       0         \n",
            "_________________________________________________________________\n",
            "block4_conv1 (Conv2D)        (None, 28, 28, 512)       1180160   \n",
            "_________________________________________________________________\n",
            "block4_conv2 (Conv2D)        (None, 28, 28, 512)       2359808   \n",
            "_________________________________________________________________\n",
            "block4_conv3 (Conv2D)        (None, 28, 28, 512)       2359808   \n",
            "_________________________________________________________________\n",
            "block4_pool (MaxPooling2D)   (None, 14, 14, 512)       0         \n",
            "_________________________________________________________________\n",
            "block5_conv1 (Conv2D)        (None, 14, 14, 512)       2359808   \n",
            "_________________________________________________________________\n",
            "block5_conv2 (Conv2D)        (None, 14, 14, 512)       2359808   \n",
            "_________________________________________________________________\n",
            "block5_conv3 (Conv2D)        (None, 14, 14, 512)       2359808   \n",
            "_________________________________________________________________\n",
            "block5_pool (MaxPooling2D)   (None, 7, 7, 512)         0         \n",
            "_________________________________________________________________\n",
            "flatten (Flatten)            (None, 25088)             0         \n",
            "_________________________________________________________________\n",
            "dense (Dense)                (None, 256)               6422784   \n",
            "_________________________________________________________________\n",
            "dropout (Dropout)            (None, 256)               0         \n",
            "_________________________________________________________________\n",
            "dense_1 (Dense)              (None, 128)               32896     \n",
            "_________________________________________________________________\n",
            "dropout_1 (Dropout)          (None, 128)               0         \n",
            "_________________________________________________________________\n",
            "dense_2 (Dense)              (None, 2)                 258       \n",
            "=================================================================\n",
            "Total params: 21,170,626\n",
            "Trainable params: 6,455,938\n",
            "Non-trainable params: 14,714,688\n",
            "_________________________________________________________________\n"
          ],
          "name": "stdout"
        }
      ]
    },
    {
      "cell_type": "code",
      "metadata": {
        "id": "y6htIjeODN5U"
      },
      "source": [
        "model.compile(\n",
        "    optimizer = 'adam',\n",
        "    loss = 'categorical_crossentropy',\n",
        "    metrics = ['accuracy']\n",
        ")"
      ],
      "execution_count": 12,
      "outputs": []
    },
    {
      "cell_type": "code",
      "metadata": {
        "id": "lfcPhGKODc3_"
      },
      "source": [
        "training_data_gen = ImageDataGenerator(\n",
        "    rescale = 1./255.,\n",
        "    zoom_range = 0.2,\n",
        "    shear_range = 0.2,\n",
        "    horizontal_flip = True\n",
        ")"
      ],
      "execution_count": 13,
      "outputs": []
    },
    {
      "cell_type": "code",
      "metadata": {
        "id": "-E5HA67XDeVS"
      },
      "source": [
        "val_data_gen = ImageDataGenerator(\n",
        "    rescale = 1./255.\n",
        ")"
      ],
      "execution_count": 14,
      "outputs": []
    },
    {
      "cell_type": "code",
      "metadata": {
        "id": "oyj3blVrDfeo",
        "outputId": "e24ed888-198f-4ea5-aa4d-f2e834c09ef2",
        "colab": {
          "base_uri": "https://localhost:8080/"
        }
      },
      "source": [
        "training_set = training_data_gen.flow_from_directory(\n",
        "    'Train/',\n",
        "    target_size = (224,224),\n",
        "    class_mode = 'categorical',\n",
        "    batch_size = 32\n",
        ")"
      ],
      "execution_count": 15,
      "outputs": [
        {
          "output_type": "stream",
          "text": [
            "Found 251 images belonging to 2 classes.\n"
          ],
          "name": "stdout"
        }
      ]
    },
    {
      "cell_type": "code",
      "metadata": {
        "id": "korAJl2JDmsZ",
        "outputId": "72d33799-5936-4a90-aa30-ef10c4a12a36",
        "colab": {
          "base_uri": "https://localhost:8080/"
        }
      },
      "source": [
        "val_set = val_data_gen.flow_from_directory(\n",
        "    'Val/',\n",
        "    target_size = (224,224),\n",
        "    class_mode = 'categorical',\n",
        "    batch_size = 32\n",
        ")"
      ],
      "execution_count": 16,
      "outputs": [
        {
          "output_type": "stream",
          "text": [
            "Found 70 images belonging to 2 classes.\n"
          ],
          "name": "stdout"
        }
      ]
    },
    {
      "cell_type": "code",
      "metadata": {
        "id": "g2OYFeEhDoUa",
        "outputId": "7d673747-7122-44ba-c562-37914397cc40",
        "colab": {
          "base_uri": "https://localhost:8080/"
        }
      },
      "source": [
        "r = model.fit(\n",
        "    training_set,\n",
        "    epochs = 5,\n",
        "    validation_data = val_set,\n",
        "    validation_steps = len(val_set),\n",
        "    steps_per_epoch = len(training_set)\n",
        "    \n",
        ")"
      ],
      "execution_count": 17,
      "outputs": [
        {
          "output_type": "stream",
          "text": [
            "Epoch 1/5\n",
            "8/8 [==============================] - 10s 1s/step - loss: 1.0111 - accuracy: 0.7211 - val_loss: 0.0201 - val_accuracy: 1.0000\n",
            "Epoch 2/5\n",
            "8/8 [==============================] - 9s 1s/step - loss: 0.2482 - accuracy: 0.9283 - val_loss: 0.0226 - val_accuracy: 1.0000\n",
            "Epoch 3/5\n",
            "8/8 [==============================] - 9s 1s/step - loss: 0.1839 - accuracy: 0.9442 - val_loss: 3.8079e-05 - val_accuracy: 1.0000\n",
            "Epoch 4/5\n",
            "8/8 [==============================] - 9s 1s/step - loss: 0.1140 - accuracy: 0.9641 - val_loss: 1.6896e-05 - val_accuracy: 1.0000\n",
            "Epoch 5/5\n",
            "8/8 [==============================] - 9s 1s/step - loss: 0.0915 - accuracy: 0.9761 - val_loss: 3.5896e-06 - val_accuracy: 1.0000\n"
          ],
          "name": "stdout"
        }
      ]
    },
    {
      "cell_type": "code",
      "metadata": {
        "id": "srU-ApXkDpzq"
      },
      "source": [
        "test_pred = []\n",
        "test_actual = []\n",
        "counter = 0"
      ],
      "execution_count": 37,
      "outputs": []
    },
    {
      "cell_type": "code",
      "metadata": {
        "id": "18J-VXaaFggA",
        "outputId": "b7fbac76-9590-4519-e05f-f903d921dd02",
        "colab": {
          "base_uri": "https://localhost:8080/"
        }
      },
      "source": [
        "directory = 'Test/Covid/'\n",
        "for filename in os.listdir(directory):\n",
        "  filepath = os.path.join(directory, filename)\n",
        "  counter += 1\n",
        "  print(counter)\n",
        "\n",
        "  test_image = image.load_img(filepath,target_size = (224,224))\n",
        "  img_array = image.img_to_array(test_image)\n",
        "\n",
        "  img_array = np.expand_dims(img_array , axis = 0)\n",
        "  img_data = img_array/255.\n",
        "  myclass = model.predict(img_data)\n",
        "  label_dict = {\n",
        "       0 : 'Covid',\n",
        "       1 : 'Normal'\n",
        "  }\n",
        "  prediction = label_dict[myclass.argmax()]\n",
        "  test_pred.append(prediction)\n",
        "  test_actual.append('Covid')\n",
        "    #if filename.endswith(\".jpg\") or filename.endswith(\".png\"):\n",
        "      \n"
      ],
      "execution_count": 38,
      "outputs": [
        {
          "output_type": "stream",
          "text": [
            "1\n",
            "2\n",
            "3\n",
            "4\n",
            "5\n",
            "6\n",
            "7\n",
            "8\n",
            "9\n",
            "10\n",
            "11\n",
            "12\n",
            "13\n",
            "14\n",
            "15\n",
            "16\n",
            "17\n",
            "18\n",
            "19\n",
            "20\n",
            "21\n",
            "22\n",
            "23\n",
            "24\n",
            "25\n",
            "26\n",
            "27\n",
            "28\n",
            "29\n",
            "30\n",
            "31\n",
            "32\n",
            "33\n",
            "34\n",
            "35\n"
          ],
          "name": "stdout"
        }
      ]
    },
    {
      "cell_type": "code",
      "metadata": {
        "id": "yxgwXF1iGCRV",
        "outputId": "a809f023-cca2-473c-f710-4952a1d41922",
        "colab": {
          "base_uri": "https://localhost:8080/"
        }
      },
      "source": [
        "directory = 'Test/Normal/'\n",
        "for filename in os.listdir(directory):\n",
        "  filepath = os.path.join(directory, filename)\n",
        "  counter += 1\n",
        "  print(counter)\n",
        "\n",
        "  test_image = image.load_img(filepath,target_size = (224,224))\n",
        "  img_array = image.img_to_array(test_image)\n",
        "\n",
        "  img_array = np.expand_dims(img_array , axis = 0)\n",
        "  img_data = img_array/255.\n",
        "  myclass = model.predict(img_data)\n",
        "  label_dict = {\n",
        "       0 : 'Covid',\n",
        "       1 : 'Normal'\n",
        "  }\n",
        "  prediction = label_dict[myclass.argmax()]\n",
        "  test_pred.append(prediction)\n",
        "  test_actual.append('Normal')\n",
        "    #if filename.endswith(\".jpg\") or filename.endswith(\".png\"):\n",
        "      \n"
      ],
      "execution_count": 39,
      "outputs": [
        {
          "output_type": "stream",
          "text": [
            "36\n",
            "37\n",
            "38\n",
            "39\n",
            "40\n",
            "41\n",
            "42\n",
            "43\n",
            "44\n",
            "45\n",
            "46\n",
            "47\n",
            "48\n",
            "49\n",
            "50\n",
            "51\n",
            "52\n",
            "53\n",
            "54\n",
            "55\n",
            "56\n",
            "57\n",
            "58\n",
            "59\n",
            "60\n",
            "61\n",
            "62\n",
            "63\n",
            "64\n",
            "65\n",
            "66\n",
            "67\n",
            "68\n",
            "69\n",
            "70\n"
          ],
          "name": "stdout"
        }
      ]
    },
    {
      "cell_type": "code",
      "metadata": {
        "id": "AKugTFj0GNoS"
      },
      "source": [
        "from sklearn.metrics import confusion_matrix"
      ],
      "execution_count": 40,
      "outputs": []
    },
    {
      "cell_type": "code",
      "metadata": {
        "id": "UIzcLj0kGZTX"
      },
      "source": [
        "cm = confusion_matrix(test_pred,test_actual)"
      ],
      "execution_count": 41,
      "outputs": []
    },
    {
      "cell_type": "code",
      "metadata": {
        "id": "0LC9u-KwG700",
        "outputId": "a22ba4dc-c2c4-46b2-c9fb-91a4566068b0",
        "colab": {
          "base_uri": "https://localhost:8080/"
        }
      },
      "source": [
        "print(cm)"
      ],
      "execution_count": 42,
      "outputs": [
        {
          "output_type": "stream",
          "text": [
            "[[35  0]\n",
            " [ 0 35]]\n"
          ],
          "name": "stdout"
        }
      ]
    },
    {
      "cell_type": "code",
      "metadata": {
        "id": "bwu5OFrLHIbH"
      },
      "source": [
        "import seaborn as sns"
      ],
      "execution_count": 43,
      "outputs": []
    },
    {
      "cell_type": "code",
      "metadata": {
        "id": "Wt76Q3KkHTu8",
        "outputId": "530becb1-225b-4f4c-d27f-780dc1113afb",
        "colab": {
          "base_uri": "https://localhost:8080/",
          "height": 286
        }
      },
      "source": [
        "sns.heatmap(cm,cmap = 'plasma',annot = True)"
      ],
      "execution_count": 44,
      "outputs": [
        {
          "output_type": "execute_result",
          "data": {
            "text/plain": [
              "<matplotlib.axes._subplots.AxesSubplot at 0x7fa9ab7e2d30>"
            ]
          },
          "metadata": {
            "tags": []
          },
          "execution_count": 44
        },
        {
          "output_type": "display_data",
          "data": {
            "image/png": "[encoded data removed]",
            "text/plain": [
              "<Figure size 432x288 with 2 Axes>"
            ]
          },
          "metadata": {
            "tags": [],
            "needs_background": "light"
          }
        }
      ]
    },
    {
      "cell_type": "code",
      "metadata": {
        "id": "WWqgpl3WHY2A"
      },
      "source": [
        "from sklearn.metrics import precision_recall_fscore_support"
      ],
      "execution_count": 46,
      "outputs": []
    },
    {
      "cell_type": "code",
      "metadata": {
        "id": "OQR-bSc9H11t"
      },
      "source": [
        "prf = precision_recall_fscore_support(test_actual,test_pred,labels = ['Covid','Normal'])"
      ],
      "execution_count": 49,
      "outputs": []
    },
    {
      "cell_type": "code",
      "metadata": {
        "id": "tH-_j5r_LCYi",
        "outputId": "03440182-8f1f-4e12-a847-5e844aba85e9",
        "colab": {
          "base_uri": "https://localhost:8080/"
        }
      },
      "source": [
        "print(prf)"
      ],
      "execution_count": 50,
      "outputs": [
        {
          "output_type": "stream",
          "text": [
            "(array([1., 1.]), array([1., 1.]), array([1., 1.]), array([35, 35]))\n"
          ],
          "name": "stdout"
        }
      ]
    },
    {
      "cell_type": "code",
      "metadata": {
        "id": "rKx8-PCNLEZz",
        "outputId": "bd2bcf66-0be5-4b88-cec8-a195752d2be8",
        "colab": {
          "base_uri": "https://localhost:8080/",
          "height": 265
        }
      },
      "source": [
        "plt.plot(r.history['loss'],label = 'train loss')\n",
        "plt.plot(r.history['val_loss'],label = 'val loss')\n",
        "plt.legend()\n",
        "plt.show()"
      ],
      "execution_count": 51,
      "outputs": [
        {
          "output_type": "display_data",
          "data": {
            "image/png": "[encoded data removed]",
            "text/plain": [
              "<Figure size 432x288 with 1 Axes>"
            ]
          },
          "metadata": {
            "tags": [],
            "needs_background": "light"
          }
        }
      ]
    },
    {
      "cell_type": "code",
      "metadata": {
        "id": "IvAxwgNtLiJx",
        "outputId": "acb5d54c-9a9f-46e7-c2cf-1b776536e986",
        "colab": {
          "base_uri": "https://localhost:8080/",
          "height": 265
        }
      },
      "source": [
        "plt.plot(r.history['accuracy'],label = 'training accuracy')\n",
        "plt.plot(r.history['val_accuracy'],label = 'val accuracy')\n",
        "plt.legend()\n",
        "plt.show()"
      ],
      "execution_count": 52,
      "outputs": [
        {
          "output_type": "display_data",
          "data": {
            "image/png": "[encoded data removed]",
            "text/plain": [
              "<Figure size 432x288 with 1 Axes>"
            ]
          },
          "metadata": {
            "tags": [],
            "needs_background": "light"
          }
        }
      ]
    },
    {
      "cell_type": "code",
      "metadata": {
        "id": "py7RiQO7Llj1"
      },
      "source": [
        ""
      ],
      "execution_count": null,
      "outputs": []
    }
  ]
}