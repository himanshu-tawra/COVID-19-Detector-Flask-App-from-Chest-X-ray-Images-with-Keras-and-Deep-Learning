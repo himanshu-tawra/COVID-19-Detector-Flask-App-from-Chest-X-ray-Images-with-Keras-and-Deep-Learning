{
  "nbformat": 4,
  "nbformat_minor": 0,
  "metadata": {
    "accelerator": "GPU",
    "colab": {
      "name": "VGG16_final.ipynb",
      "provenance": [],
      "collapsed_sections": [],
      "include_colab_link": true
    },
    "kernelspec": {
      "display_name": "Python 3",
      "name": "python3"
    }
  },
  "cells": [
    {
      "cell_type": "markdown",
      "metadata": {
        "id": "view-in-github",
        "colab_type": "text"
      },
      "source": [
        "<a href=\"https://colab.research.google.com/github/himanshu-tawra/COVID-19-Detector-Flask-App-from-Chest-X-ray-Images-with-Keras-and-Deep-Learning/blob/master/VGG16_final.ipynb\" target=\"_parent\"><img src=\"https://colab.research.google.com/assets/colab-badge.svg\" alt=\"Open In Colab\"/></a>"
      ]
    },
    {
      "cell_type": "code",
      "metadata": {
        "id": "PGl-_OtlmdUs",
        "outputId": "c4d83062-472b-4029-f2cb-fc28ed7c8e67",
        "colab": {
          "base_uri": "https://localhost:8080/"
        }
      },
      "source": [
        "from google.colab import drive\n",
        "drive.mount('/content/drive/')"
      ],
      "execution_count": 1,
      "outputs": [
        {
          "output_type": "stream",
          "text": [
            "Mounted at /content/drive/\n"
          ],
          "name": "stdout"
        }
      ]
    },
    {
      "cell_type": "code",
      "metadata": {
        "id": "klMgmXwxnWMx"
      },
      "source": [
        "import numpy as np\n",
        "import matplotlib.pyplot as plt\n",
        "from keras.layers import *\n",
        "from keras.models import *\n",
        "from keras.preprocessing import image\n",
        "from glob import glob\n",
        "from keras.preprocessing.image import ImageDataGenerator\n",
        "import os\n",
        "from keras.applications.vgg16 import VGG16\n",
        "import keras"
      ],
      "execution_count": 3,
      "outputs": []
    },
    {
      "cell_type": "code",
      "metadata": {
        "id": "dLywg1TlniC3"
      },
      "source": [
        "IMAGE_SIZE = [224,224]"
      ],
      "execution_count": 4,
      "outputs": []
    },
    {
      "cell_type": "code",
      "metadata": {
        "id": "FuMIQFOhnjpr",
        "outputId": "f841b3c4-130c-4767-9e4f-90f3e3e86138",
        "colab": {
          "base_uri": "https://localhost:8080/"
        }
      },
      "source": [
        "vgg = VGG16(input_shape= IMAGE_SIZE + [3] , weights='imagenet',include_top=False)"
      ],
      "execution_count": 5,
      "outputs": [
        {
          "output_type": "stream",
          "text": [
            "Downloading data from https://storage.googleapis.com/tensorflow/keras-applications/vgg16/vgg16_weights_tf_dim_ordering_tf_kernels_notop.h5\n",
            "58892288/58889256 [==============================] - 1s 0us/step\n"
          ],
          "name": "stdout"
        }
      ]
    },
    {
      "cell_type": "code",
      "metadata": {
        "id": "0sf-IuUpnlDo"
      },
      "source": [
        "for layer in vgg.layers:\n",
        "  layer.trainable = False"
      ],
      "execution_count": 6,
      "outputs": []
    },
    {
      "cell_type": "code",
      "metadata": {
        "id": "e0wYPHt-nmoo"
      },
      "source": [
        "vgg_output = vgg.output"
      ],
      "execution_count": 7,
      "outputs": []
    },
    {
      "cell_type": "code",
      "metadata": {
        "id": "JPA_-RjunoPg"
      },
      "source": [
        "flatten = Flatten()(vgg_output)\n",
        "Dense_layer1 = Dense(units = 256,activation=keras.layers.LeakyReLU(alpha=0.3))(flatten)\n",
        "Dense_layer2 = Dense(units=128,activation=keras.layers.LeakyReLU(alpha=0.3))(Dense_layer1)\n",
        "Dense_layer3 = Dense(units = 64,activation=keras.layers.LeakyReLU(alpha=0.3))(Dense_layer2)\n",
        "output_layer = Dense(3,activation='softmax')(Dense_layer3)"
      ],
      "execution_count": 8,
      "outputs": []
    },
    {
      "cell_type": "code",
      "metadata": {
        "id": "LON6sn7mnp08"
      },
      "source": [
        "model = Model(inputs = vgg.input,outputs = output_layer)"
      ],
      "execution_count": 9,
      "outputs": []
    },
    {
      "cell_type": "code",
      "metadata": {
        "id": "mA_qiTKUnsIj",
        "outputId": "7cedc49b-1f8d-4424-fb37-969a67977f8c",
        "colab": {
          "base_uri": "https://localhost:8080/"
        }
      },
      "source": [
        "model.summary()"
      ],
      "execution_count": 10,
      "outputs": [
        {
          "output_type": "stream",
          "text": [
            "Model: \"functional_1\"\n",
            "_________________________________________________________________\n",
            "Layer (type)                 Output Shape              Param #   \n",
            "=================================================================\n",
            "input_1 (InputLayer)         [(None, 224, 224, 3)]     0         \n",
            "_________________________________________________________________\n",
            "block1_conv1 (Conv2D)        (None, 224, 224, 64)      1792      \n",
            "_________________________________________________________________\n",
            "block1_conv2 (Conv2D)        (None, 224, 224, 64)      36928     \n",
            "_________________________________________________________________\n",
            "block1_pool (MaxPooling2D)   (None, 112, 112, 64)      0         \n",
            "_________________________________________________________________\n",
            "block2_conv1 (Conv2D)        (None, 112, 112, 128)     73856     \n",
            "_________________________________________________________________\n",
            "block2_conv2 (Conv2D)        (None, 112, 112, 128)     147584    \n",
            "_________________________________________________________________\n",
            "block2_pool (MaxPooling2D)   (None, 56, 56, 128)       0         \n",
            "_________________________________________________________________\n",
            "block3_conv1 (Conv2D)        (None, 56, 56, 256)       295168    \n",
            "_________________________________________________________________\n",
            "block3_conv2 (Conv2D)        (None, 56, 56, 256)       590080    \n",
            "_________________________________________________________________\n",
            "block3_conv3 (Conv2D)        (None, 56, 56, 256)       590080    \n",
            "_________________________________________________________________\n",
            "block3_pool (MaxPooling2D)   (None, 28, 28, 256)       0         \n",
            "_________________________________________________________________\n",
            "block4_conv1 (Conv2D)        (None, 28, 28, 512)       1180160   \n",
            "_________________________________________________________________\n",
            "block4_conv2 (Conv2D)        (None, 28, 28, 512)       2359808   \n",
            "_________________________________________________________________\n",
            "block4_conv3 (Conv2D)        (None, 28, 28, 512)       2359808   \n",
            "_________________________________________________________________\n",
            "block4_pool (MaxPooling2D)   (None, 14, 14, 512)       0         \n",
            "_________________________________________________________________\n",
            "block5_conv1 (Conv2D)        (None, 14, 14, 512)       2359808   \n",
            "_________________________________________________________________\n",
            "block5_conv2 (Conv2D)        (None, 14, 14, 512)       2359808   \n",
            "_________________________________________________________________\n",
            "block5_conv3 (Conv2D)        (None, 14, 14, 512)       2359808   \n",
            "_________________________________________________________________\n",
            "block5_pool (MaxPooling2D)   (None, 7, 7, 512)         0         \n",
            "_________________________________________________________________\n",
            "flatten (Flatten)            (None, 25088)             0         \n",
            "_________________________________________________________________\n",
            "dense (Dense)                (None, 256)               6422784   \n",
            "_________________________________________________________________\n",
            "dense_1 (Dense)              (None, 128)               32896     \n",
            "_________________________________________________________________\n",
            "dense_2 (Dense)              (None, 64)                8256      \n",
            "_________________________________________________________________\n",
            "dense_3 (Dense)              (None, 3)                 195       \n",
            "=================================================================\n",
            "Total params: 21,178,819\n",
            "Trainable params: 6,464,131\n",
            "Non-trainable params: 14,714,688\n",
            "_________________________________________________________________\n"
          ],
          "name": "stdout"
        }
      ]
    },
    {
      "cell_type": "code",
      "metadata": {
        "id": "dUBP2CDYntmJ"
      },
      "source": [
        "model.compile(\n",
        "    optimizer=keras.optimizers.Adam(0.000001),  # Low learning rate\n",
        "    loss = 'categorical_crossentropy',\n",
        "    metrics = ['accuracy']\n",
        ")"
      ],
      "execution_count": 11,
      "outputs": []
    },
    {
      "cell_type": "code",
      "metadata": {
        "id": "UE0cFJP6nveL"
      },
      "source": [
        "training_data_gen = ImageDataGenerator(\n",
        "    rescale=1./255,\n",
        "    shear_range=0.2,\n",
        "    zoom_range=0.2,\n",
        "    horizontal_flip=True\n",
        ")"
      ],
      "execution_count": 12,
      "outputs": []
    },
    {
      "cell_type": "code",
      "metadata": {
        "id": "bqpGZu4Gnw-G"
      },
      "source": [
        "val_data_gen = ImageDataGenerator(\n",
        "    rescale = 1./255.\n",
        ")"
      ],
      "execution_count": 13,
      "outputs": []
    },
    {
      "cell_type": "code",
      "metadata": {
        "id": "kXP1ma82nyy9",
        "outputId": "e83d8eae-558b-4670-ad28-566779bddb01",
        "colab": {
          "base_uri": "https://localhost:8080/"
        }
      },
      "source": [
        "training_set = training_data_gen.flow_from_directory(\n",
        "    '/content/drive/My Drive/Data/train/',\n",
        "    target_size = IMAGE_SIZE,\n",
        "    class_mode = 'categorical',\n",
        "    batch_size = 32\n",
        ")"
      ],
      "execution_count": 14,
      "outputs": [
        {
          "output_type": "stream",
          "text": [
            "Found 1380 images belonging to 3 classes.\n"
          ],
          "name": "stdout"
        }
      ]
    },
    {
      "cell_type": "code",
      "metadata": {
        "id": "i9WYMYx4n0TS",
        "outputId": "5a5f4c75-6d59-45c2-a7e0-b1318f8d3cd5",
        "colab": {
          "base_uri": "https://localhost:8080/"
        }
      },
      "source": [
        "val_set = val_data_gen.flow_from_directory(\n",
        "    '/content/drive/My Drive/Data/test/',\n",
        "    target_size = IMAGE_SIZE,\n",
        "    class_mode = 'categorical',\n",
        "    batch_size = 32\n",
        ")"
      ],
      "execution_count": 15,
      "outputs": [
        {
          "output_type": "stream",
          "text": [
            "Found 353 images belonging to 3 classes.\n"
          ],
          "name": "stdout"
        }
      ]
    },
    {
      "cell_type": "code",
      "metadata": {
        "id": "QMV40wfB8zrx"
      },
      "source": [
        "from keras.callbacks import ModelCheckpoint\n",
        "callback_list = [ModelCheckpoint('vgg_16.h5', monitor='val_loss', verbose=True, save_best_only=True)]"
      ],
      "execution_count": 16,
      "outputs": []
    },
    {
      "cell_type": "code",
      "metadata": {
        "id": "osZOHh7Yn9OG",
        "outputId": "36bb6cdd-0ac9-4b7e-8b57-ccfbd0222d7e",
        "colab": {
          "base_uri": "https://localhost:8080/"
        }
      },
      "source": [
        "r = model.fit(\n",
        "    training_set,\n",
        "    epochs = 100,\n",
        "    validation_data = val_set,\n",
        "    validation_steps = len(val_set),\n",
        "    steps_per_epoch = len(training_set),\n",
        "    callbacks = callback_list\n",
        ")"
      ],
      "execution_count": 17,
      "outputs": [
        {
          "output_type": "stream",
          "text": [
            "Epoch 1/100\n",
            "44/44 [==============================] - ETA: 0s - loss: 1.0531 - accuracy: 0.4870\n",
            "Epoch 00001: val_loss improved from inf to 1.01763, saving model to vgg_16.h5\n",
            "44/44 [==============================] - 528s 12s/step - loss: 1.0531 - accuracy: 0.4870 - val_loss: 1.0176 - val_accuracy: 0.5439\n",
            "Epoch 2/100\n",
            "44/44 [==============================] - ETA: 0s - loss: 0.9803 - accuracy: 0.6529\n",
            "Epoch 00002: val_loss improved from 1.01763 to 0.94512, saving model to vgg_16.h5\n",
            "44/44 [==============================] - 68s 2s/step - loss: 0.9803 - accuracy: 0.6529 - val_loss: 0.9451 - val_accuracy: 0.6771\n",
            "Epoch 3/100\n",
            "44/44 [==============================] - ETA: 0s - loss: 0.9006 - accuracy: 0.7667\n",
            "Epoch 00003: val_loss improved from 0.94512 to 0.87537, saving model to vgg_16.h5\n",
            "44/44 [==============================] - 68s 2s/step - loss: 0.9006 - accuracy: 0.7667 - val_loss: 0.8754 - val_accuracy: 0.7535\n",
            "Epoch 4/100\n",
            "44/44 [==============================] - ETA: 0s - loss: 0.8349 - accuracy: 0.8355\n",
            "Epoch 00004: val_loss improved from 0.87537 to 0.80713, saving model to vgg_16.h5\n",
            "44/44 [==============================] - 68s 2s/step - loss: 0.8349 - accuracy: 0.8355 - val_loss: 0.8071 - val_accuracy: 0.8159\n",
            "Epoch 5/100\n",
            "44/44 [==============================] - ETA: 0s - loss: 0.7656 - accuracy: 0.8580\n",
            "Epoch 00005: val_loss improved from 0.80713 to 0.74619, saving model to vgg_16.h5\n",
            "44/44 [==============================] - 68s 2s/step - loss: 0.7656 - accuracy: 0.8580 - val_loss: 0.7462 - val_accuracy: 0.8329\n",
            "Epoch 6/100\n",
            "44/44 [==============================] - ETA: 0s - loss: 0.7050 - accuracy: 0.8797\n",
            "Epoch 00006: val_loss improved from 0.74619 to 0.68577, saving model to vgg_16.h5\n",
            "44/44 [==============================] - 67s 2s/step - loss: 0.7050 - accuracy: 0.8797 - val_loss: 0.6858 - val_accuracy: 0.8527\n",
            "Epoch 7/100\n",
            "44/44 [==============================] - ETA: 0s - loss: 0.6552 - accuracy: 0.8942\n",
            "Epoch 00007: val_loss improved from 0.68577 to 0.63370, saving model to vgg_16.h5\n",
            "44/44 [==============================] - 68s 2s/step - loss: 0.6552 - accuracy: 0.8942 - val_loss: 0.6337 - val_accuracy: 0.8640\n",
            "Epoch 8/100\n",
            "44/44 [==============================] - ETA: 0s - loss: 0.6057 - accuracy: 0.8928\n",
            "Epoch 00008: val_loss improved from 0.63370 to 0.58850, saving model to vgg_16.h5\n",
            "44/44 [==============================] - 68s 2s/step - loss: 0.6057 - accuracy: 0.8928 - val_loss: 0.5885 - val_accuracy: 0.8754\n",
            "Epoch 9/100\n",
            "44/44 [==============================] - ETA: 0s - loss: 0.5577 - accuracy: 0.8978\n",
            "Epoch 00009: val_loss improved from 0.58850 to 0.54973, saving model to vgg_16.h5\n",
            "44/44 [==============================] - 69s 2s/step - loss: 0.5577 - accuracy: 0.8978 - val_loss: 0.5497 - val_accuracy: 0.8782\n",
            "Epoch 10/100\n",
            "44/44 [==============================] - ETA: 0s - loss: 0.5294 - accuracy: 0.8978\n",
            "Epoch 00010: val_loss improved from 0.54973 to 0.51729, saving model to vgg_16.h5\n",
            "44/44 [==============================] - 67s 2s/step - loss: 0.5294 - accuracy: 0.8978 - val_loss: 0.5173 - val_accuracy: 0.8952\n",
            "Epoch 11/100\n",
            "44/44 [==============================] - ETA: 0s - loss: 0.4933 - accuracy: 0.9130\n",
            "Epoch 00011: val_loss improved from 0.51729 to 0.48814, saving model to vgg_16.h5\n",
            "44/44 [==============================] - 68s 2s/step - loss: 0.4933 - accuracy: 0.9130 - val_loss: 0.4881 - val_accuracy: 0.8980\n",
            "Epoch 12/100\n",
            "44/44 [==============================] - ETA: 0s - loss: 0.4654 - accuracy: 0.9152\n",
            "Epoch 00012: val_loss improved from 0.48814 to 0.46567, saving model to vgg_16.h5\n",
            "44/44 [==============================] - 68s 2s/step - loss: 0.4654 - accuracy: 0.9152 - val_loss: 0.4657 - val_accuracy: 0.8980\n",
            "Epoch 13/100\n",
            "44/44 [==============================] - ETA: 0s - loss: 0.4457 - accuracy: 0.9087\n",
            "Epoch 00013: val_loss improved from 0.46567 to 0.43837, saving model to vgg_16.h5\n",
            "44/44 [==============================] - 68s 2s/step - loss: 0.4457 - accuracy: 0.9087 - val_loss: 0.4384 - val_accuracy: 0.9008\n",
            "Epoch 14/100\n",
            "44/44 [==============================] - ETA: 0s - loss: 0.4189 - accuracy: 0.9196\n",
            "Epoch 00014: val_loss improved from 0.43837 to 0.41599, saving model to vgg_16.h5\n",
            "44/44 [==============================] - 68s 2s/step - loss: 0.4189 - accuracy: 0.9196 - val_loss: 0.4160 - val_accuracy: 0.9122\n",
            "Epoch 15/100\n",
            "44/44 [==============================] - ETA: 0s - loss: 0.3970 - accuracy: 0.9261\n",
            "Epoch 00015: val_loss improved from 0.41599 to 0.40391, saving model to vgg_16.h5\n",
            "44/44 [==============================] - 67s 2s/step - loss: 0.3970 - accuracy: 0.9261 - val_loss: 0.4039 - val_accuracy: 0.9065\n",
            "Epoch 16/100\n",
            "44/44 [==============================] - ETA: 0s - loss: 0.3765 - accuracy: 0.9283\n",
            "Epoch 00016: val_loss improved from 0.40391 to 0.38225, saving model to vgg_16.h5\n",
            "44/44 [==============================] - 67s 2s/step - loss: 0.3765 - accuracy: 0.9283 - val_loss: 0.3823 - val_accuracy: 0.9122\n",
            "Epoch 17/100\n",
            "44/44 [==============================] - ETA: 0s - loss: 0.3671 - accuracy: 0.9181\n",
            "Epoch 00017: val_loss improved from 0.38225 to 0.36494, saving model to vgg_16.h5\n",
            "44/44 [==============================] - 67s 2s/step - loss: 0.3671 - accuracy: 0.9181 - val_loss: 0.3649 - val_accuracy: 0.9150\n",
            "Epoch 18/100\n",
            "44/44 [==============================] - ETA: 0s - loss: 0.3510 - accuracy: 0.9225\n",
            "Epoch 00018: val_loss improved from 0.36494 to 0.35901, saving model to vgg_16.h5\n",
            "44/44 [==============================] - 67s 2s/step - loss: 0.3510 - accuracy: 0.9225 - val_loss: 0.3590 - val_accuracy: 0.9093\n",
            "Epoch 19/100\n",
            "44/44 [==============================] - ETA: 0s - loss: 0.3404 - accuracy: 0.9225\n",
            "Epoch 00019: val_loss improved from 0.35901 to 0.33797, saving model to vgg_16.h5\n",
            "44/44 [==============================] - 65s 1s/step - loss: 0.3404 - accuracy: 0.9225 - val_loss: 0.3380 - val_accuracy: 0.9207\n",
            "Epoch 20/100\n",
            "44/44 [==============================] - ETA: 0s - loss: 0.3282 - accuracy: 0.9239\n",
            "Epoch 00020: val_loss improved from 0.33797 to 0.33111, saving model to vgg_16.h5\n",
            "44/44 [==============================] - 65s 1s/step - loss: 0.3282 - accuracy: 0.9239 - val_loss: 0.3311 - val_accuracy: 0.9178\n",
            "Epoch 21/100\n",
            "44/44 [==============================] - ETA: 0s - loss: 0.3138 - accuracy: 0.9254\n",
            "Epoch 00021: val_loss improved from 0.33111 to 0.31653, saving model to vgg_16.h5\n",
            "44/44 [==============================] - 65s 1s/step - loss: 0.3138 - accuracy: 0.9254 - val_loss: 0.3165 - val_accuracy: 0.9207\n",
            "Epoch 22/100\n",
            "44/44 [==============================] - ETA: 0s - loss: 0.3006 - accuracy: 0.9341\n",
            "Epoch 00022: val_loss improved from 0.31653 to 0.31601, saving model to vgg_16.h5\n",
            "44/44 [==============================] - 66s 1s/step - loss: 0.3006 - accuracy: 0.9341 - val_loss: 0.3160 - val_accuracy: 0.9122\n",
            "Epoch 23/100\n",
            "44/44 [==============================] - ETA: 0s - loss: 0.2927 - accuracy: 0.9355\n",
            "Epoch 00023: val_loss improved from 0.31601 to 0.30133, saving model to vgg_16.h5\n",
            "44/44 [==============================] - 65s 1s/step - loss: 0.2927 - accuracy: 0.9355 - val_loss: 0.3013 - val_accuracy: 0.9235\n",
            "Epoch 24/100\n",
            "44/44 [==============================] - ETA: 0s - loss: 0.2875 - accuracy: 0.9341\n",
            "Epoch 00024: val_loss improved from 0.30133 to 0.28709, saving model to vgg_16.h5\n",
            "44/44 [==============================] - 66s 2s/step - loss: 0.2875 - accuracy: 0.9341 - val_loss: 0.2871 - val_accuracy: 0.9122\n",
            "Epoch 25/100\n",
            "44/44 [==============================] - ETA: 0s - loss: 0.2785 - accuracy: 0.9384\n",
            "Epoch 00025: val_loss improved from 0.28709 to 0.27974, saving model to vgg_16.h5\n",
            "44/44 [==============================] - 65s 1s/step - loss: 0.2785 - accuracy: 0.9384 - val_loss: 0.2797 - val_accuracy: 0.9150\n",
            "Epoch 26/100\n",
            "44/44 [==============================] - ETA: 0s - loss: 0.2784 - accuracy: 0.9348\n",
            "Epoch 00026: val_loss improved from 0.27974 to 0.27818, saving model to vgg_16.h5\n",
            "44/44 [==============================] - 65s 1s/step - loss: 0.2784 - accuracy: 0.9348 - val_loss: 0.2782 - val_accuracy: 0.9263\n",
            "Epoch 27/100\n",
            "44/44 [==============================] - ETA: 0s - loss: 0.2717 - accuracy: 0.9304\n",
            "Epoch 00027: val_loss improved from 0.27818 to 0.26883, saving model to vgg_16.h5\n",
            "44/44 [==============================] - 65s 1s/step - loss: 0.2717 - accuracy: 0.9304 - val_loss: 0.2688 - val_accuracy: 0.9292\n",
            "Epoch 28/100\n",
            "44/44 [==============================] - ETA: 0s - loss: 0.2573 - accuracy: 0.9391\n",
            "Epoch 00028: val_loss improved from 0.26883 to 0.25912, saving model to vgg_16.h5\n",
            "44/44 [==============================] - 65s 1s/step - loss: 0.2573 - accuracy: 0.9391 - val_loss: 0.2591 - val_accuracy: 0.9235\n",
            "Epoch 29/100\n",
            "44/44 [==============================] - ETA: 0s - loss: 0.2530 - accuracy: 0.9370\n",
            "Epoch 00029: val_loss improved from 0.25912 to 0.25547, saving model to vgg_16.h5\n",
            "44/44 [==============================] - 66s 1s/step - loss: 0.2530 - accuracy: 0.9370 - val_loss: 0.2555 - val_accuracy: 0.9235\n",
            "Epoch 30/100\n",
            "44/44 [==============================] - ETA: 0s - loss: 0.2462 - accuracy: 0.9370\n",
            "Epoch 00030: val_loss improved from 0.25547 to 0.25177, saving model to vgg_16.h5\n",
            "44/44 [==============================] - 65s 1s/step - loss: 0.2462 - accuracy: 0.9370 - val_loss: 0.2518 - val_accuracy: 0.9263\n",
            "Epoch 31/100\n",
            "44/44 [==============================] - ETA: 0s - loss: 0.2356 - accuracy: 0.9449\n",
            "Epoch 00031: val_loss improved from 0.25177 to 0.24582, saving model to vgg_16.h5\n",
            "44/44 [==============================] - 66s 1s/step - loss: 0.2356 - accuracy: 0.9449 - val_loss: 0.2458 - val_accuracy: 0.9263\n",
            "Epoch 32/100\n",
            "44/44 [==============================] - ETA: 0s - loss: 0.2401 - accuracy: 0.9449\n",
            "Epoch 00032: val_loss improved from 0.24582 to 0.23665, saving model to vgg_16.h5\n",
            "44/44 [==============================] - 66s 1s/step - loss: 0.2401 - accuracy: 0.9449 - val_loss: 0.2367 - val_accuracy: 0.9320\n",
            "Epoch 33/100\n",
            "44/44 [==============================] - ETA: 0s - loss: 0.2320 - accuracy: 0.9420\n",
            "Epoch 00033: val_loss did not improve from 0.23665\n",
            "44/44 [==============================] - 66s 1s/step - loss: 0.2320 - accuracy: 0.9420 - val_loss: 0.2382 - val_accuracy: 0.9235\n",
            "Epoch 34/100\n",
            "44/44 [==============================] - ETA: 0s - loss: 0.2281 - accuracy: 0.9413\n",
            "Epoch 00034: val_loss improved from 0.23665 to 0.23492, saving model to vgg_16.h5\n",
            "44/44 [==============================] - 66s 2s/step - loss: 0.2281 - accuracy: 0.9413 - val_loss: 0.2349 - val_accuracy: 0.9292\n",
            "Epoch 35/100\n",
            "44/44 [==============================] - ETA: 0s - loss: 0.2223 - accuracy: 0.9471\n",
            "Epoch 00035: val_loss improved from 0.23492 to 0.23037, saving model to vgg_16.h5\n",
            "44/44 [==============================] - 66s 2s/step - loss: 0.2223 - accuracy: 0.9471 - val_loss: 0.2304 - val_accuracy: 0.9263\n",
            "Epoch 36/100\n",
            "44/44 [==============================] - ETA: 0s - loss: 0.2190 - accuracy: 0.9442\n",
            "Epoch 00036: val_loss improved from 0.23037 to 0.22053, saving model to vgg_16.h5\n",
            "44/44 [==============================] - 65s 1s/step - loss: 0.2190 - accuracy: 0.9442 - val_loss: 0.2205 - val_accuracy: 0.9348\n",
            "Epoch 37/100\n",
            "44/44 [==============================] - ETA: 0s - loss: 0.2115 - accuracy: 0.9486\n",
            "Epoch 00037: val_loss improved from 0.22053 to 0.21917, saving model to vgg_16.h5\n",
            "44/44 [==============================] - 67s 2s/step - loss: 0.2115 - accuracy: 0.9486 - val_loss: 0.2192 - val_accuracy: 0.9348\n",
            "Epoch 38/100\n",
            "44/44 [==============================] - ETA: 0s - loss: 0.2121 - accuracy: 0.9478\n",
            "Epoch 00038: val_loss did not improve from 0.21917\n",
            "44/44 [==============================] - 66s 1s/step - loss: 0.2121 - accuracy: 0.9478 - val_loss: 0.2194 - val_accuracy: 0.9320\n",
            "Epoch 39/100\n",
            "44/44 [==============================] - ETA: 0s - loss: 0.2117 - accuracy: 0.9420\n",
            "Epoch 00039: val_loss improved from 0.21917 to 0.21228, saving model to vgg_16.h5\n",
            "44/44 [==============================] - 65s 1s/step - loss: 0.2117 - accuracy: 0.9420 - val_loss: 0.2123 - val_accuracy: 0.9377\n",
            "Epoch 40/100\n",
            "44/44 [==============================] - ETA: 0s - loss: 0.1983 - accuracy: 0.9478\n",
            "Epoch 00040: val_loss improved from 0.21228 to 0.20497, saving model to vgg_16.h5\n",
            "44/44 [==============================] - 66s 1s/step - loss: 0.1983 - accuracy: 0.9478 - val_loss: 0.2050 - val_accuracy: 0.9348\n",
            "Epoch 41/100\n",
            "44/44 [==============================] - ETA: 0s - loss: 0.2003 - accuracy: 0.9507\n",
            "Epoch 00041: val_loss improved from 0.20497 to 0.20306, saving model to vgg_16.h5\n",
            "44/44 [==============================] - 65s 1s/step - loss: 0.2003 - accuracy: 0.9507 - val_loss: 0.2031 - val_accuracy: 0.9377\n",
            "Epoch 42/100\n",
            "44/44 [==============================] - ETA: 0s - loss: 0.1980 - accuracy: 0.9471\n",
            "Epoch 00042: val_loss improved from 0.20306 to 0.20270, saving model to vgg_16.h5\n",
            "44/44 [==============================] - 65s 1s/step - loss: 0.1980 - accuracy: 0.9471 - val_loss: 0.2027 - val_accuracy: 0.9377\n",
            "Epoch 43/100\n",
            "44/44 [==============================] - ETA: 0s - loss: 0.1944 - accuracy: 0.9500\n",
            "Epoch 00043: val_loss improved from 0.20270 to 0.19957, saving model to vgg_16.h5\n",
            "44/44 [==============================] - 66s 1s/step - loss: 0.1944 - accuracy: 0.9500 - val_loss: 0.1996 - val_accuracy: 0.9377\n",
            "Epoch 44/100\n",
            "44/44 [==============================] - ETA: 0s - loss: 0.1889 - accuracy: 0.9514\n",
            "Epoch 00044: val_loss did not improve from 0.19957\n",
            "44/44 [==============================] - 65s 1s/step - loss: 0.1889 - accuracy: 0.9514 - val_loss: 0.2009 - val_accuracy: 0.9377\n",
            "Epoch 45/100\n",
            "44/44 [==============================] - ETA: 0s - loss: 0.1881 - accuracy: 0.9449\n",
            "Epoch 00045: val_loss improved from 0.19957 to 0.19344, saving model to vgg_16.h5\n",
            "44/44 [==============================] - 65s 1s/step - loss: 0.1881 - accuracy: 0.9449 - val_loss: 0.1934 - val_accuracy: 0.9405\n",
            "Epoch 46/100\n",
            "44/44 [==============================] - ETA: 0s - loss: 0.1963 - accuracy: 0.9435\n",
            "Epoch 00046: val_loss improved from 0.19344 to 0.19158, saving model to vgg_16.h5\n",
            "44/44 [==============================] - 67s 2s/step - loss: 0.1963 - accuracy: 0.9435 - val_loss: 0.1916 - val_accuracy: 0.9405\n",
            "Epoch 47/100\n",
            "44/44 [==============================] - ETA: 0s - loss: 0.1789 - accuracy: 0.9514\n",
            "Epoch 00047: val_loss improved from 0.19158 to 0.19156, saving model to vgg_16.h5\n",
            "44/44 [==============================] - 67s 2s/step - loss: 0.1789 - accuracy: 0.9514 - val_loss: 0.1916 - val_accuracy: 0.9405\n",
            "Epoch 48/100\n",
            "44/44 [==============================] - ETA: 0s - loss: 0.1850 - accuracy: 0.9478\n",
            "Epoch 00048: val_loss did not improve from 0.19156\n",
            "44/44 [==============================] - 66s 2s/step - loss: 0.1850 - accuracy: 0.9478 - val_loss: 0.1941 - val_accuracy: 0.9405\n",
            "Epoch 49/100\n",
            "44/44 [==============================] - ETA: 0s - loss: 0.1875 - accuracy: 0.9471\n",
            "Epoch 00049: val_loss improved from 0.19156 to 0.18756, saving model to vgg_16.h5\n",
            "44/44 [==============================] - 67s 2s/step - loss: 0.1875 - accuracy: 0.9471 - val_loss: 0.1876 - val_accuracy: 0.9405\n",
            "Epoch 50/100\n",
            "44/44 [==============================] - ETA: 0s - loss: 0.1811 - accuracy: 0.9413\n",
            "Epoch 00050: val_loss improved from 0.18756 to 0.18578, saving model to vgg_16.h5\n",
            "44/44 [==============================] - 66s 2s/step - loss: 0.1811 - accuracy: 0.9413 - val_loss: 0.1858 - val_accuracy: 0.9377\n",
            "Epoch 51/100\n",
            "44/44 [==============================] - ETA: 0s - loss: 0.1807 - accuracy: 0.9493\n",
            "Epoch 00051: val_loss did not improve from 0.18578\n",
            "44/44 [==============================] - 66s 1s/step - loss: 0.1807 - accuracy: 0.9493 - val_loss: 0.1864 - val_accuracy: 0.9405\n",
            "Epoch 52/100\n",
            "44/44 [==============================] - ETA: 0s - loss: 0.1766 - accuracy: 0.9514\n",
            "Epoch 00052: val_loss improved from 0.18578 to 0.18535, saving model to vgg_16.h5\n",
            "44/44 [==============================] - 66s 2s/step - loss: 0.1766 - accuracy: 0.9514 - val_loss: 0.1853 - val_accuracy: 0.9348\n",
            "Epoch 53/100\n",
            "44/44 [==============================] - ETA: 0s - loss: 0.1724 - accuracy: 0.9493\n",
            "Epoch 00053: val_loss improved from 0.18535 to 0.18174, saving model to vgg_16.h5\n",
            "44/44 [==============================] - 66s 1s/step - loss: 0.1724 - accuracy: 0.9493 - val_loss: 0.1817 - val_accuracy: 0.9405\n",
            "Epoch 54/100\n",
            "44/44 [==============================] - ETA: 0s - loss: 0.1744 - accuracy: 0.9478\n",
            "Epoch 00054: val_loss did not improve from 0.18174\n",
            "44/44 [==============================] - 65s 1s/step - loss: 0.1744 - accuracy: 0.9478 - val_loss: 0.1882 - val_accuracy: 0.9348\n",
            "Epoch 55/100\n",
            "44/44 [==============================] - ETA: 0s - loss: 0.1666 - accuracy: 0.9616\n",
            "Epoch 00055: val_loss improved from 0.18174 to 0.18098, saving model to vgg_16.h5\n",
            "44/44 [==============================] - 65s 1s/step - loss: 0.1666 - accuracy: 0.9616 - val_loss: 0.1810 - val_accuracy: 0.9377\n",
            "Epoch 56/100\n",
            "44/44 [==============================] - ETA: 0s - loss: 0.1631 - accuracy: 0.9551\n",
            "Epoch 00056: val_loss improved from 0.18098 to 0.17345, saving model to vgg_16.h5\n",
            "44/44 [==============================] - 65s 1s/step - loss: 0.1631 - accuracy: 0.9551 - val_loss: 0.1734 - val_accuracy: 0.9433\n",
            "Epoch 57/100\n",
            "44/44 [==============================] - ETA: 0s - loss: 0.1614 - accuracy: 0.9558\n",
            "Epoch 00057: val_loss did not improve from 0.17345\n",
            "44/44 [==============================] - 65s 1s/step - loss: 0.1614 - accuracy: 0.9558 - val_loss: 0.1810 - val_accuracy: 0.9377\n",
            "Epoch 58/100\n",
            "44/44 [==============================] - ETA: 0s - loss: 0.1688 - accuracy: 0.9536\n",
            "Epoch 00058: val_loss did not improve from 0.17345\n",
            "44/44 [==============================] - 65s 1s/step - loss: 0.1688 - accuracy: 0.9536 - val_loss: 0.1742 - val_accuracy: 0.9405\n",
            "Epoch 59/100\n",
            "44/44 [==============================] - ETA: 0s - loss: 0.1594 - accuracy: 0.9522\n",
            "Epoch 00059: val_loss did not improve from 0.17345\n",
            "44/44 [==============================] - 66s 1s/step - loss: 0.1594 - accuracy: 0.9522 - val_loss: 0.1751 - val_accuracy: 0.9405\n",
            "Epoch 60/100\n",
            "44/44 [==============================] - ETA: 0s - loss: 0.1602 - accuracy: 0.9507\n",
            "Epoch 00060: val_loss improved from 0.17345 to 0.16480, saving model to vgg_16.h5\n",
            "44/44 [==============================] - 66s 2s/step - loss: 0.1602 - accuracy: 0.9507 - val_loss: 0.1648 - val_accuracy: 0.9462\n",
            "Epoch 61/100\n",
            "44/44 [==============================] - ETA: 0s - loss: 0.1612 - accuracy: 0.9514\n",
            "Epoch 00061: val_loss did not improve from 0.16480\n",
            "44/44 [==============================] - 65s 1s/step - loss: 0.1612 - accuracy: 0.9514 - val_loss: 0.1747 - val_accuracy: 0.9377\n",
            "Epoch 62/100\n",
            "44/44 [==============================] - ETA: 0s - loss: 0.1556 - accuracy: 0.9543\n",
            "Epoch 00062: val_loss did not improve from 0.16480\n",
            "44/44 [==============================] - 66s 2s/step - loss: 0.1556 - accuracy: 0.9543 - val_loss: 0.1674 - val_accuracy: 0.9405\n",
            "Epoch 63/100\n",
            "44/44 [==============================] - ETA: 0s - loss: 0.1681 - accuracy: 0.9493\n",
            "Epoch 00063: val_loss did not improve from 0.16480\n",
            "44/44 [==============================] - 65s 1s/step - loss: 0.1681 - accuracy: 0.9493 - val_loss: 0.1692 - val_accuracy: 0.9405\n",
            "Epoch 64/100\n",
            "44/44 [==============================] - ETA: 0s - loss: 0.1535 - accuracy: 0.9565\n",
            "Epoch 00064: val_loss improved from 0.16480 to 0.16382, saving model to vgg_16.h5\n",
            "44/44 [==============================] - 66s 2s/step - loss: 0.1535 - accuracy: 0.9565 - val_loss: 0.1638 - val_accuracy: 0.9405\n",
            "Epoch 65/100\n",
            "44/44 [==============================] - ETA: 0s - loss: 0.1478 - accuracy: 0.9565\n",
            "Epoch 00065: val_loss did not improve from 0.16382\n",
            "44/44 [==============================] - 66s 2s/step - loss: 0.1478 - accuracy: 0.9565 - val_loss: 0.1646 - val_accuracy: 0.9405\n",
            "Epoch 66/100\n",
            "44/44 [==============================] - ETA: 0s - loss: 0.1518 - accuracy: 0.9565\n",
            "Epoch 00066: val_loss did not improve from 0.16382\n",
            "44/44 [==============================] - 66s 1s/step - loss: 0.1518 - accuracy: 0.9565 - val_loss: 0.1642 - val_accuracy: 0.9377\n",
            "Epoch 67/100\n",
            "44/44 [==============================] - ETA: 0s - loss: 0.1558 - accuracy: 0.9543\n",
            "Epoch 00067: val_loss did not improve from 0.16382\n",
            "44/44 [==============================] - 66s 2s/step - loss: 0.1558 - accuracy: 0.9543 - val_loss: 0.1756 - val_accuracy: 0.9377\n",
            "Epoch 68/100\n",
            "44/44 [==============================] - ETA: 0s - loss: 0.1509 - accuracy: 0.9536\n",
            "Epoch 00068: val_loss did not improve from 0.16382\n",
            "44/44 [==============================] - 66s 2s/step - loss: 0.1509 - accuracy: 0.9536 - val_loss: 0.1664 - val_accuracy: 0.9377\n",
            "Epoch 69/100\n",
            "44/44 [==============================] - ETA: 0s - loss: 0.1466 - accuracy: 0.9587\n",
            "Epoch 00069: val_loss did not improve from 0.16382\n",
            "44/44 [==============================] - 67s 2s/step - loss: 0.1466 - accuracy: 0.9587 - val_loss: 0.1680 - val_accuracy: 0.9405\n",
            "Epoch 70/100\n",
            "44/44 [==============================] - ETA: 0s - loss: 0.1427 - accuracy: 0.9587\n",
            "Epoch 00070: val_loss improved from 0.16382 to 0.15197, saving model to vgg_16.h5\n",
            "44/44 [==============================] - 67s 2s/step - loss: 0.1427 - accuracy: 0.9587 - val_loss: 0.1520 - val_accuracy: 0.9433\n",
            "Epoch 71/100\n",
            "44/44 [==============================] - ETA: 0s - loss: 0.1438 - accuracy: 0.9558\n",
            "Epoch 00071: val_loss did not improve from 0.15197\n",
            "44/44 [==============================] - 66s 1s/step - loss: 0.1438 - accuracy: 0.9558 - val_loss: 0.1612 - val_accuracy: 0.9405\n",
            "Epoch 72/100\n",
            "44/44 [==============================] - ETA: 0s - loss: 0.1560 - accuracy: 0.9500\n",
            "Epoch 00072: val_loss did not improve from 0.15197\n",
            "44/44 [==============================] - 66s 2s/step - loss: 0.1560 - accuracy: 0.9500 - val_loss: 0.1594 - val_accuracy: 0.9405\n",
            "Epoch 73/100\n",
            "44/44 [==============================] - ETA: 0s - loss: 0.1392 - accuracy: 0.9638\n",
            "Epoch 00073: val_loss did not improve from 0.15197\n",
            "44/44 [==============================] - 67s 2s/step - loss: 0.1392 - accuracy: 0.9638 - val_loss: 0.1582 - val_accuracy: 0.9405\n",
            "Epoch 74/100\n",
            "44/44 [==============================] - ETA: 0s - loss: 0.1441 - accuracy: 0.9551\n",
            "Epoch 00074: val_loss improved from 0.15197 to 0.15096, saving model to vgg_16.h5\n",
            "44/44 [==============================] - 66s 2s/step - loss: 0.1441 - accuracy: 0.9551 - val_loss: 0.1510 - val_accuracy: 0.9433\n",
            "Epoch 75/100\n",
            "44/44 [==============================] - ETA: 0s - loss: 0.1448 - accuracy: 0.9572\n",
            "Epoch 00075: val_loss did not improve from 0.15096\n",
            "44/44 [==============================] - 68s 2s/step - loss: 0.1448 - accuracy: 0.9572 - val_loss: 0.1555 - val_accuracy: 0.9433\n",
            "Epoch 76/100\n",
            "44/44 [==============================] - ETA: 0s - loss: 0.1389 - accuracy: 0.9565\n",
            "Epoch 00076: val_loss improved from 0.15096 to 0.14947, saving model to vgg_16.h5\n",
            "44/44 [==============================] - 68s 2s/step - loss: 0.1389 - accuracy: 0.9565 - val_loss: 0.1495 - val_accuracy: 0.9433\n",
            "Epoch 77/100\n",
            "44/44 [==============================] - ETA: 0s - loss: 0.1401 - accuracy: 0.9594\n",
            "Epoch 00077: val_loss did not improve from 0.14947\n",
            "44/44 [==============================] - 68s 2s/step - loss: 0.1401 - accuracy: 0.9594 - val_loss: 0.1563 - val_accuracy: 0.9433\n",
            "Epoch 78/100\n",
            "44/44 [==============================] - ETA: 0s - loss: 0.1378 - accuracy: 0.9609\n",
            "Epoch 00078: val_loss did not improve from 0.14947\n",
            "44/44 [==============================] - 68s 2s/step - loss: 0.1378 - accuracy: 0.9609 - val_loss: 0.1560 - val_accuracy: 0.9405\n",
            "Epoch 79/100\n",
            "44/44 [==============================] - ETA: 0s - loss: 0.1396 - accuracy: 0.9616\n",
            "Epoch 00079: val_loss improved from 0.14947 to 0.14615, saving model to vgg_16.h5\n",
            "44/44 [==============================] - 68s 2s/step - loss: 0.1396 - accuracy: 0.9616 - val_loss: 0.1461 - val_accuracy: 0.9462\n",
            "Epoch 80/100\n",
            "44/44 [==============================] - ETA: 0s - loss: 0.1371 - accuracy: 0.9630\n",
            "Epoch 00080: val_loss did not improve from 0.14615\n",
            "44/44 [==============================] - 68s 2s/step - loss: 0.1371 - accuracy: 0.9630 - val_loss: 0.1563 - val_accuracy: 0.9433\n",
            "Epoch 81/100\n",
            "44/44 [==============================] - ETA: 0s - loss: 0.1358 - accuracy: 0.9558\n",
            "Epoch 00081: val_loss did not improve from 0.14615\n",
            "44/44 [==============================] - 67s 2s/step - loss: 0.1358 - accuracy: 0.9558 - val_loss: 0.1600 - val_accuracy: 0.9377\n",
            "Epoch 82/100\n",
            "44/44 [==============================] - ETA: 0s - loss: 0.1308 - accuracy: 0.9681\n",
            "Epoch 00082: val_loss did not improve from 0.14615\n",
            "44/44 [==============================] - 67s 2s/step - loss: 0.1308 - accuracy: 0.9681 - val_loss: 0.1507 - val_accuracy: 0.9433\n",
            "Epoch 83/100\n",
            "44/44 [==============================] - ETA: 0s - loss: 0.1333 - accuracy: 0.9580\n",
            "Epoch 00083: val_loss did not improve from 0.14615\n",
            "44/44 [==============================] - 69s 2s/step - loss: 0.1333 - accuracy: 0.9580 - val_loss: 0.1505 - val_accuracy: 0.9433\n",
            "Epoch 84/100\n",
            "44/44 [==============================] - ETA: 0s - loss: 0.1253 - accuracy: 0.9645\n",
            "Epoch 00084: val_loss improved from 0.14615 to 0.14393, saving model to vgg_16.h5\n",
            "44/44 [==============================] - 71s 2s/step - loss: 0.1253 - accuracy: 0.9645 - val_loss: 0.1439 - val_accuracy: 0.9433\n",
            "Epoch 85/100\n",
            "44/44 [==============================] - ETA: 0s - loss: 0.1320 - accuracy: 0.9609\n",
            "Epoch 00085: val_loss did not improve from 0.14393\n",
            "44/44 [==============================] - 69s 2s/step - loss: 0.1320 - accuracy: 0.9609 - val_loss: 0.1506 - val_accuracy: 0.9433\n",
            "Epoch 86/100\n",
            "44/44 [==============================] - ETA: 0s - loss: 0.1315 - accuracy: 0.9623\n",
            "Epoch 00086: val_loss improved from 0.14393 to 0.14137, saving model to vgg_16.h5\n",
            "44/44 [==============================] - 70s 2s/step - loss: 0.1315 - accuracy: 0.9623 - val_loss: 0.1414 - val_accuracy: 0.9462\n",
            "Epoch 87/100\n",
            "44/44 [==============================] - ETA: 0s - loss: 0.1303 - accuracy: 0.9630\n",
            "Epoch 00087: val_loss did not improve from 0.14137\n",
            "44/44 [==============================] - 67s 2s/step - loss: 0.1303 - accuracy: 0.9630 - val_loss: 0.1481 - val_accuracy: 0.9405\n",
            "Epoch 88/100\n",
            "44/44 [==============================] - ETA: 0s - loss: 0.1317 - accuracy: 0.9558\n",
            "Epoch 00088: val_loss did not improve from 0.14137\n",
            "44/44 [==============================] - 67s 2s/step - loss: 0.1317 - accuracy: 0.9558 - val_loss: 0.1572 - val_accuracy: 0.9377\n",
            "Epoch 89/100\n",
            "44/44 [==============================] - ETA: 0s - loss: 0.1226 - accuracy: 0.9645\n",
            "Epoch 00089: val_loss improved from 0.14137 to 0.13732, saving model to vgg_16.h5\n",
            "44/44 [==============================] - 68s 2s/step - loss: 0.1226 - accuracy: 0.9645 - val_loss: 0.1373 - val_accuracy: 0.9462\n",
            "Epoch 90/100\n",
            "44/44 [==============================] - ETA: 0s - loss: 0.1226 - accuracy: 0.9667\n",
            "Epoch 00090: val_loss did not improve from 0.13732\n",
            "44/44 [==============================] - 67s 2s/step - loss: 0.1226 - accuracy: 0.9667 - val_loss: 0.1380 - val_accuracy: 0.9490\n",
            "Epoch 91/100\n",
            "44/44 [==============================] - ETA: 0s - loss: 0.1202 - accuracy: 0.9688\n",
            "Epoch 00091: val_loss did not improve from 0.13732\n",
            "44/44 [==============================] - 68s 2s/step - loss: 0.1202 - accuracy: 0.9688 - val_loss: 0.1444 - val_accuracy: 0.9405\n",
            "Epoch 92/100\n",
            "44/44 [==============================] - ETA: 0s - loss: 0.1277 - accuracy: 0.9630\n",
            "Epoch 00092: val_loss did not improve from 0.13732\n",
            "44/44 [==============================] - 67s 2s/step - loss: 0.1277 - accuracy: 0.9630 - val_loss: 0.1446 - val_accuracy: 0.9405\n",
            "Epoch 93/100\n",
            "44/44 [==============================] - ETA: 0s - loss: 0.1287 - accuracy: 0.9630\n",
            "Epoch 00093: val_loss did not improve from 0.13732\n",
            "44/44 [==============================] - 67s 2s/step - loss: 0.1287 - accuracy: 0.9630 - val_loss: 0.1494 - val_accuracy: 0.9377\n",
            "Epoch 94/100\n",
            "44/44 [==============================] - ETA: 0s - loss: 0.1207 - accuracy: 0.9645\n",
            "Epoch 00094: val_loss did not improve from 0.13732\n",
            "44/44 [==============================] - 68s 2s/step - loss: 0.1207 - accuracy: 0.9645 - val_loss: 0.1399 - val_accuracy: 0.9462\n",
            "Epoch 95/100\n",
            "44/44 [==============================] - ETA: 0s - loss: 0.1202 - accuracy: 0.9645\n",
            "Epoch 00095: val_loss did not improve from 0.13732\n",
            "44/44 [==============================] - 68s 2s/step - loss: 0.1202 - accuracy: 0.9645 - val_loss: 0.1440 - val_accuracy: 0.9377\n",
            "Epoch 96/100\n",
            "44/44 [==============================] - ETA: 0s - loss: 0.1238 - accuracy: 0.9623\n",
            "Epoch 00096: val_loss did not improve from 0.13732\n",
            "44/44 [==============================] - 68s 2s/step - loss: 0.1238 - accuracy: 0.9623 - val_loss: 0.1393 - val_accuracy: 0.9433\n",
            "Epoch 97/100\n",
            "44/44 [==============================] - ETA: 0s - loss: 0.1212 - accuracy: 0.9645\n",
            "Epoch 00097: val_loss did not improve from 0.13732\n",
            "44/44 [==============================] - 67s 2s/step - loss: 0.1212 - accuracy: 0.9645 - val_loss: 0.1386 - val_accuracy: 0.9462\n",
            "Epoch 98/100\n",
            "44/44 [==============================] - ETA: 0s - loss: 0.1228 - accuracy: 0.9609\n",
            "Epoch 00098: val_loss did not improve from 0.13732\n",
            "44/44 [==============================] - 68s 2s/step - loss: 0.1228 - accuracy: 0.9609 - val_loss: 0.1408 - val_accuracy: 0.9405\n",
            "Epoch 99/100\n",
            "44/44 [==============================] - ETA: 0s - loss: 0.1218 - accuracy: 0.9659\n",
            "Epoch 00099: val_loss improved from 0.13732 to 0.13227, saving model to vgg_16.h5\n",
            "44/44 [==============================] - 68s 2s/step - loss: 0.1218 - accuracy: 0.9659 - val_loss: 0.1323 - val_accuracy: 0.9518\n",
            "Epoch 100/100\n",
            "44/44 [==============================] - ETA: 0s - loss: 0.1265 - accuracy: 0.9601\n",
            "Epoch 00100: val_loss did not improve from 0.13227\n",
            "44/44 [==============================] - 69s 2s/step - loss: 0.1265 - accuracy: 0.9601 - val_loss: 0.1455 - val_accuracy: 0.9377\n"
          ],
          "name": "stdout"
        }
      ]
    },
    {
      "cell_type": "code",
      "metadata": {
        "id": "W9XQLZc3n-t4"
      },
      "source": [
        "test_pred = []\n",
        "test_actual = []\n",
        "train_pred = []\n",
        "train_actual = []\n",
        "label_dict = {\n",
        "    0 : \"Covid\",\n",
        "    1 : \"Normal\",\n",
        "    2 : \"Pneumonia\"\n",
        "}\n",
        "train_covid_path = '/content/drive/My Drive/Data/train/COVID19'\n",
        "train_normal_path = '/content/drive/My Drive/Data/train/NORMAL'\n",
        "train_pneumonia_path = '/content/drive/My Drive/Data/train/PNEUMONIA'\n",
        "\n",
        "\n",
        "covid_path = '/content/drive/My Drive/Data/test/COVID19'\n",
        "normal_path = '/content/drive/My Drive/Data/test/NORMAL'\n",
        "pneumonia_path = '/content/drive/My Drive/Data/test/PNEUMONIA'"
      ],
      "execution_count": 18,
      "outputs": []
    },
    {
      "cell_type": "code",
      "metadata": {
        "id": "MPLCTglPspMv",
        "outputId": "a85df475-980a-49f7-d76f-1e321462420a",
        "colab": {
          "base_uri": "https://localhost:8080/"
        }
      },
      "source": [
        "model.evaluate_generator(training_set,steps = 32,verbose = 1)"
      ],
      "execution_count": 19,
      "outputs": [
        {
          "output_type": "stream",
          "text": [
            "WARNING:tensorflow:From <ipython-input-19-0b768113f2ae>:1: Model.evaluate_generator (from tensorflow.python.keras.engine.training) is deprecated and will be removed in a future version.\n",
            "Instructions for updating:\n",
            "Please use Model.evaluate, which supports generators.\n",
            "32/32 [==============================] - 43s 1s/step - loss: 0.1123 - accuracy: 0.9717\n"
          ],
          "name": "stdout"
        },
        {
          "output_type": "execute_result",
          "data": {
            "text/plain": [
              "[0.1122966930270195, 0.9716796875]"
            ]
          },
          "metadata": {
            "tags": []
          },
          "execution_count": 19
        }
      ]
    },
    {
      "cell_type": "code",
      "metadata": {
        "id": "crNCbJ7ntJEK",
        "outputId": "cea54522-27fb-4f18-995f-9db6d5bf9e29",
        "colab": {
          "base_uri": "https://localhost:8080/"
        }
      },
      "source": [
        "model.evaluate_generator(val_set,steps = 32, verbose = 1)"
      ],
      "execution_count": 20,
      "outputs": [
        {
          "output_type": "stream",
          "text": [
            "11/32 [=========>....................] - ETA: 19s - loss: 0.1459 - accuracy: 0.9375WARNING:tensorflow:Your input ran out of data; interrupting training. Make sure that your dataset or generator can generate at least `steps_per_epoch * epochs` batches (in this case, 32 batches). You may need to use the repeat() function when building your dataset.\n",
            "12/32 [==========>...................] - 10s 860ms/step - loss: 0.1455 - accuracy: 0.9377\n"
          ],
          "name": "stdout"
        },
        {
          "output_type": "execute_result",
          "data": {
            "text/plain": [
              "[0.14552749693393707, 0.9376770257949829]"
            ]
          },
          "metadata": {
            "tags": []
          },
          "execution_count": 20
        }
      ]
    },
    {
      "cell_type": "code",
      "metadata": {
        "id": "gxvcg1DGQzRk"
      },
      "source": [
        "def image_preprocessing(test_image):\n",
        "  image_array = image.img_to_array(test_image)\n",
        "  image_array = np.expand_dims(image_array,axis = 0)\n",
        "  rescaled_image = image_array/255. \n",
        "  return rescaled_image\n",
        "\n",
        "def predict_image(path):\n",
        "  for filename in os.listdir(path):\n",
        "    filepath = os.path.join(path,filename)\n",
        "    test_image = image.load_img(filepath,target_size=(224,224))\n",
        "    rescaled_image = image_preprocessing(test_image)\n",
        "\n",
        "\n",
        "    predicted_image = model.predict(rescaled_image)\n",
        "    predicted_image = predicted_image.argmax()\n",
        "    if path == train_covid_path:\n",
        "      train_pred.append(predicted_image)\n",
        "      train_actual.append(0)\n",
        "    elif path == covid_path:\n",
        "      test_pred.append(predicted_image)\n",
        "      test_actual.append(0)\n",
        "    elif path == train_normal_path:\n",
        "      train_pred.append(predicted_image)\n",
        "      train_actual.append(1)\n",
        "    elif path == normal_path:\n",
        "      test_pred.append(predicted_image)\n",
        "      test_actual.append(1)\n",
        "    elif path == train_pneumonia_path:\n",
        "      train_pred.append(predicted_image)\n",
        "      train_actual.append(2)\n",
        "    elif path == pneumonia_path:\n",
        "      test_pred.append(predicted_image)\n",
        "      test_actual.append(2)"
      ],
      "execution_count": 21,
      "outputs": []
    },
    {
      "cell_type": "code",
      "metadata": {
        "id": "xZAqypb9oEco"
      },
      "source": [
        "\n",
        "predict_image(train_covid_path)\n",
        "predict_image(train_normal_path)\n",
        "predict_image(train_pneumonia_path)\n",
        "\n",
        "predict_image(covid_path)\n",
        "predict_image(normal_path)\n",
        "predict_image(pneumonia_path)"
      ],
      "execution_count": 22,
      "outputs": []
    },
    {
      "cell_type": "code",
      "metadata": {
        "id": "OnK66stToFrW"
      },
      "source": [
        "test_pred = np.array(test_pred)\n",
        "test_actual = np.array(test_actual)\n"
      ],
      "execution_count": 23,
      "outputs": []
    },
    {
      "cell_type": "code",
      "metadata": {
        "id": "rBoy3bv4aWJ4",
        "outputId": "edd22f5e-9d41-45c0-e84e-b4700da016cf",
        "colab": {
          "base_uri": "https://localhost:8080/"
        }
      },
      "source": [
        "from sklearn.metrics import confusion_matrix\n",
        "import seaborn as sns\n",
        "testing_confusion_mat = confusion_matrix(test_actual,test_pred)\n",
        "training_confusion_mat = confusion_matrix(train_actual,train_pred)\n",
        "print(testing_confusion_mat)\n",
        "print(training_confusion_mat)"
      ],
      "execution_count": 24,
      "outputs": [
        {
          "output_type": "stream",
          "text": [
            "[[115   1   0]\n",
            " [  0 113   3]\n",
            " [  1  17 103]]\n",
            "[[456   3   1]\n",
            " [  0 459   1]\n",
            " [  4  51 405]]\n"
          ],
          "name": "stdout"
        }
      ]
    },
    {
      "cell_type": "code",
      "metadata": {
        "id": "tZnqi6fwcyuF"
      },
      "source": [
        "import matplotlib.pyplot as plt"
      ],
      "execution_count": 25,
      "outputs": []
    },
    {
      "cell_type": "code",
      "metadata": {
        "id": "afhITD7WoIV_"
      },
      "source": [
        "def plot_confusion_matrix(confusion_mat,fig_name):\n",
        "\n",
        "  classes = ['COVID','NORMAL','PNEUMONIA']\n",
        "  tick_marks = [0.5,1.5,2.5]\n",
        "  sns.heatmap(confusion_mat,cmap='plasma',annot=True,linewidth = 2,fmt = 'd')\n",
        "\n",
        "  plt.xticks(tick_marks, classes,rotation ='vertical')\n",
        "  plt.yticks(tick_marks, classes,rotation ='vertical')\n",
        "  plt.title('Confusion Matrix')\n",
        "  plt.ylabel('True label')\n",
        "  plt.xlabel('Predicted label')\n",
        "  plt.savefig(fig_name + '.png')\n",
        "  plt.margins(0.2) \n",
        "\n",
        "  plt.show()"
      ],
      "execution_count": 26,
      "outputs": []
    },
    {
      "cell_type": "code",
      "metadata": {
        "id": "buwjJG2LoKUz",
        "outputId": "bba512c0-851b-4694-9083-0ffb646748e3",
        "colab": {
          "base_uri": "https://localhost:8080/",
          "height": 675
        }
      },
      "source": [
        "\n",
        "plot_confusion_matrix(training_confusion_mat,'Training_Confusion_Matrix')\n",
        "plot_confusion_matrix(testing_confusion_mat,'Testing_Confusion_Matrix')"
      ],
      "execution_count": 27,
      "outputs": [
        {
          "output_type": "display_data",
          "data": {
            "image/png": "[encoded data removed]",
            "text/plain": [
              "<Figure size 432x288 with 2 Axes>"
            ]
          },
          "metadata": {
            "tags": [],
            "needs_background": "light"
          }
        },
        {
          "output_type": "display_data",
          "data": {
            "image/png": "[encoded data removed]",
            "text/plain": [
              "<Figure size 432x288 with 2 Axes>"
            ]
          },
          "metadata": {
            "tags": [],
            "needs_background": "light"
          }
        }
      ]
    },
    {
      "cell_type": "code",
      "metadata": {
        "id": "xjRUTW-sTTM5",
        "outputId": "b4545bf4-ee6a-4af2-d272-effc979e078c",
        "colab": {
          "base_uri": "https://localhost:8080/"
        }
      },
      "source": [
        "\n",
        "from sklearn.metrics import classification_report\n",
        "print(classification_report(train_actual, train_pred,labels = [0,1,2],target_names=[\"Covid\",\"Normal\",\"Pneumonia\"]))\n",
        "print(classification_report(test_actual, test_pred,labels = [0,1,2],target_names=[\"Covid\",\"Normal\",\"Pneumonia\"]))"
      ],
      "execution_count": 28,
      "outputs": [
        {
          "output_type": "stream",
          "text": [
            "              precision    recall  f1-score   support\n",
            "\n",
            "       Covid       0.99      0.99      0.99       460\n",
            "      Normal       0.89      1.00      0.94       460\n",
            "   Pneumonia       1.00      0.88      0.93       460\n",
            "\n",
            "    accuracy                           0.96      1380\n",
            "   macro avg       0.96      0.96      0.96      1380\n",
            "weighted avg       0.96      0.96      0.96      1380\n",
            "\n",
            "              precision    recall  f1-score   support\n",
            "\n",
            "       Covid       0.99      0.99      0.99       116\n",
            "      Normal       0.86      0.97      0.91       116\n",
            "   Pneumonia       0.97      0.85      0.91       121\n",
            "\n",
            "    accuracy                           0.94       353\n",
            "   macro avg       0.94      0.94      0.94       353\n",
            "weighted avg       0.94      0.94      0.94       353\n",
            "\n"
          ],
          "name": "stdout"
        }
      ]
    },
    {
      "cell_type": "code",
      "metadata": {
        "id": "0L_sZU2SoNiR",
        "outputId": "a0600c0e-b5a2-4fd4-d9ab-0248a87ce944",
        "colab": {
          "base_uri": "https://localhost:8080/",
          "height": 621
        }
      },
      "source": [
        "plt.figure(figsize=(10,10))\n",
        "\n",
        "plt.plot(r.history['accuracy'])\n",
        "plt.plot(r.history['val_accuracy'])\n",
        "\n",
        "plt.title('Model Accuracy')\n",
        "plt.ylabel('Accuracy')\n",
        "plt.xlabel('Epoch')\n",
        "\n",
        "plt.legend(['Training', 'Testing'])\n",
        "plt.savefig('vgg16_chest_accuracy.png')\n",
        "plt.show()"
      ],
      "execution_count": 29,
      "outputs": [
        {
          "output_type": "display_data",
          "data": {
            "image/png": "[encoded data removed]",
            "text/plain": [
              "<Figure size 720x720 with 1 Axes>"
            ]
          },
          "metadata": {
            "tags": [],
            "needs_background": "light"
          }
        }
      ]
    },
    {
      "cell_type": "code",
      "metadata": {
        "id": "voOeTZm-oPcB",
        "outputId": "3af11e77-633d-4761-dd0f-a52220281e9d",
        "colab": {
          "base_uri": "https://localhost:8080/",
          "height": 621
        }
      },
      "source": [
        "\n",
        "plt.figure(figsize=(10,10))\n",
        "\n",
        "plt.plot(r.history['loss'])\n",
        "plt.plot(r.history['val_loss'])\n",
        "\n",
        "plt.title('Model Loss')\n",
        "plt.ylabel('Loss')\n",
        "plt.xlabel('Epoch')\n",
        "\n",
        "plt.legend(['Training', 'Testing'])\n",
        "plt.savefig('vgg16_chest_loss.png')\n",
        "plt.show()"
      ],
      "execution_count": 30,
      "outputs": [
        {
          "output_type": "display_data",
          "data": {
            "image/png": "[encoded data removed]",
            "text/plain": [
              "<Figure size 720x720 with 1 Axes>"
            ]
          },
          "metadata": {
            "tags": [],
            "needs_background": "light"
          }
        }
      ]
    },
    {
      "cell_type": "code",
      "metadata": {
        "id": "QEeHvA0lGwFC",
        "outputId": "cca6bc47-3fe5-4d48-daab-bf1769f1c3b8",
        "colab": {
          "base_uri": "https://localhost:8080/"
        }
      },
      "source": [
        "print(np.array(test_actual).shape)"
      ],
      "execution_count": null,
      "outputs": [
        {
          "output_type": "stream",
          "text": [
            "(353,)\n"
          ],
          "name": "stdout"
        }
      ]
    },
    {
      "cell_type": "code",
      "metadata": {
        "id": "itar4eaYKFKf",
        "outputId": "ed50e162-08be-42ab-f64c-5408117c830a",
        "colab": {
          "base_uri": "https://localhost:8080/"
        }
      },
      "source": [
        "print(train_pred)"
      ],
      "execution_count": null,
      "outputs": [
        {
          "output_type": "stream",
          "text": [
            "['Covid', 'Covid', 'Covid', 'Covid', 'Covid', 'Covid', 'Covid', 'Covid', 'Covid', 'Covid', 'Covid', 'Covid', 'Covid', 'Covid', 'Covid', 'Covid', 'Covid', 'Covid', 'Covid', 'Covid', 'Covid', 'Covid', 'Covid', 'Covid', 'Covid', 'Covid', 'Covid', 'Covid', 'Covid', 'Covid', 'Covid', 'Covid', 'Covid', 'Covid', 'Covid', 'Covid', 'Covid', 'Covid', 'Covid', 'Covid', 'Covid', 'Covid', 'Covid', 'Covid', 'Covid', 'Covid', 'Covid', 'Covid', 'Covid', 'Covid', 'Covid', 'Covid', 'Covid', 'Covid', 'Covid', 'Covid', 'Covid', 'Covid', 'Covid', 'Covid', 'Covid', 'Covid', 'Covid', 'Covid', 'Covid', 'Covid', 'Covid', 'Covid', 'Covid', 'Covid', 'Covid', 'Covid', 'Covid', 'Covid', 'Covid', 'Covid', 'Covid', 'Covid', 'Covid', 'Covid', 'Covid', 'Covid', 'Covid', 'Covid', 'Covid', 'Covid', 'Covid', 'Covid', 'Covid', 'Covid', 'Covid', 'Covid', 'Covid', 'Covid', 'Covid', 'Covid', 'Covid', 'Covid', 'Covid', 'Covid', 'Covid', 'Covid', 'Covid', 'Covid', 'Covid', 'Covid', 'Covid', 'Covid', 'Covid', 'Covid', 'Covid', 'Covid', 'Covid', 'Covid', 'Covid', 'Covid', 'Covid', 'Covid', 'Covid', 'Covid', 'Covid', 'Covid', 'Covid', 'Covid', 'Covid', 'Covid', 'Covid', 'Covid', 'Covid', 'Covid', 'Covid', 'Covid', 'Covid', 'Covid', 'Covid', 'Covid', 'Covid', 'Covid', 'Covid', 'Covid', 'Covid', 'Covid', 'Covid', 'Covid', 'Covid', 'Covid', 'Covid', 'Covid', 'Covid', 'Covid', 'Covid', 'Covid', 'Covid', 'Covid', 'Covid', 'Covid', 'Covid', 'Covid', 'Covid', 'Covid', 'Covid', 'Covid', 'Covid', 'Covid', 'Covid', 'Covid', 'Covid', 'Covid', 'Covid', 'Covid', 'Covid', 'Covid', 'Covid', 'Covid', 'Covid', 'Covid', 'Covid', 'Covid', 'Covid', 'Covid', 'Covid', 'Covid', 'Covid', 'Covid', 'Covid', 'Covid', 'Covid', 'Covid', 'Covid', 'Covid', 'Covid', 'Covid', 'Covid', 'Covid', 'Covid', 'Covid', 'Covid', 'Covid', 'Covid', 'Covid', 'Covid', 'Covid', 'Covid', 'Covid', 'Covid', 'Covid', 'Covid', 'Covid', 'Covid', 'Covid', 'Covid', 'Covid', 'Covid', 'Covid', 'Covid', 'Covid', 'Covid', 'Covid', 'Covid', 'Covid', 'Covid', 'Covid', 'Covid', 'Covid', 'Covid', 'Covid', 'Covid', 'Covid', 'Covid', 'Covid', 'Covid', 'Covid', 'Covid', 'Covid', 'Covid', 'Covid', 'Covid', 'Covid', 'Covid', 'Covid', 'Covid', 'Covid', 'Covid', 'Covid', 'Covid', 'Covid', 'Covid', 'Covid', 'Covid', 'Covid', 'Covid', 'Covid', 'Covid', 'Covid', 'Covid', 'Covid', 'Covid', 'Covid', 'Covid', 'Covid', 'Covid', 'Covid', 'Covid', 'Covid', 'Covid', 'Covid', 'Covid', 'Covid', 'Covid', 'Covid', 'Covid', 'Covid', 'Covid', 'Covid', 'Covid', 'Covid', 'Covid', 'Covid', 'Covid', 'Covid', 'Covid', 'Covid', 'Covid', 'Covid', 'Covid', 'Covid', 'Covid', 'Covid', 'Covid', 'Covid', 'Covid', 'Covid', 'Covid', 'Covid', 'Covid', 'Covid', 'Covid', 'Covid', 'Covid', 'Covid', 'Covid', 'Covid', 'Covid', 'Covid', 'Covid', 'Covid', 'Covid', 'Covid', 'Covid', 'Covid', 'Covid', 'Covid', 'Covid', 'Covid', 'Covid', 'Covid', 'Covid', 'Covid', 'Covid', 'Covid', 'Covid', 'Covid', 'Covid', 'Covid', 'Covid', 'Covid', 'Covid', 'Covid', 'Covid', 'Covid', 'Covid', 'Covid', 'Covid', 'Covid', 'Covid', 'Covid', 'Covid', 'Covid', 'Covid', 'Covid', 'Covid', 'Covid', 'Covid', 'Covid', 'Covid', 'Covid', 'Covid', 'Covid', 'Covid', 'Covid', 'Covid', 'Covid', 'Covid', 'Covid', 'Covid', 'Covid', 'Covid', 'Covid', 'Covid', 'Covid', 'Covid', 'Covid', 'Covid', 'Covid', 'Covid', 'Covid', 'Covid', 'Covid', 'Covid', 'Covid', 'Covid', 'Covid', 'Covid', 'Covid', 'Covid', 'Covid', 'Covid', 'Covid', 'Covid', 'Covid', 'Covid', 'Covid', 'Covid', 'Covid', 'Covid', 'Covid', 'Covid', 'Covid', 'Covid', 'Covid', 'Covid', 'Covid', 'Covid', 'Covid', 'Covid', 'Covid', 'Covid', 'Covid', 'Covid', 'Covid', 'Covid', 'Covid', 'Covid', 'Covid', 'Covid', 'Covid', 'Covid', 'Covid', 'Covid', 'Covid', 'Covid', 'Covid', 'Covid', 'Covid', 'Covid', 'Covid', 'Covid', 'Covid', 'Covid', 'Covid', 'Covid', 'Covid', 'Covid', 'Covid', 'Covid', 'Covid', 'Covid', 'Covid', 'Covid', 'Covid', 'Covid', 'Covid', 'Covid', 'Covid', 'Covid', 'Covid', 'Covid', 'Covid', 'Covid', 'Covid', 'Covid', 'Covid', 'Covid', 'Covid', 'Covid', 'Covid', 'Covid', 'Covid', 'Covid', 'Covid', 'Covid', 'Covid', 'Covid', 'Covid', 'Covid', 'Covid', 'Covid', 'Covid', 'Covid', 'Covid', 'Normal', 'Normal', 'Normal', 'Normal', 'Normal', 'Normal', 'Normal', 'Normal', 'Normal', 'Normal', 'Normal', 'Normal', 'Normal', 'Normal', 'Normal', 'Normal', 'Normal', 'Normal', 'Normal', 'Normal', 'Normal', 'Normal', 'Normal', 'Normal', 'Normal', 'Normal', 'Normal', 'Normal', 'Normal', 'Normal', 'Normal', 'Normal', 'Normal', 'Normal', 'Normal', 'Normal', 'Normal', 'Normal', 'Normal', 'Normal', 'Normal', 'Normal', 'Normal', 'Normal', 'Normal', 'Normal', 'Normal', 'Normal', 'Normal', 'Normal', 'Normal', 'Normal', 'Normal', 'Normal', 'Normal', 'Normal', 'Normal', 'Normal', 'Normal', 'Normal', 'Normal', 'Normal', 'Normal', 'Normal', 'Normal', 'Normal', 'Normal', 'Normal', 'Normal', 'Normal', 'Normal', 'Normal', 'Normal', 'Normal', 'Normal', 'Normal', 'Normal', 'Normal', 'Normal', 'Normal', 'Normal', 'Normal', 'Normal', 'Normal', 'Normal', 'Normal', 'Normal', 'Normal', 'Normal', 'Normal', 'Normal', 'Normal', 'Normal', 'Normal', 'Normal', 'Normal', 'Normal', 'Normal', 'Normal', 'Normal', 'Normal', 'Normal', 'Normal', 'Normal', 'Normal', 'Normal', 'Normal', 'Normal', 'Normal', 'Normal', 'Normal', 'Normal', 'Normal', 'Normal', 'Normal', 'Normal', 'Normal', 'Normal', 'Normal', 'Normal', 'Normal', 'Normal', 'Normal', 'Normal', 'Normal', 'Normal', 'Normal', 'Normal', 'Normal', 'Normal', 'Normal', 'Normal', 'Normal', 'Normal', 'Normal', 'Normal', 'Normal', 'Normal', 'Normal', 'Normal', 'Normal', 'Normal', 'Normal', 'Normal', 'Normal', 'Normal', 'Normal', 'Normal', 'Normal', 'Normal', 'Normal', 'Normal', 'Normal', 'Normal', 'Normal', 'Normal', 'Normal', 'Normal', 'Normal', 'Normal', 'Normal', 'Normal', 'Normal', 'Normal', 'Normal', 'Normal', 'Normal', 'Normal', 'Normal', 'Normal', 'Normal', 'Normal', 'Normal', 'Normal', 'Normal', 'Normal', 'Normal', 'Normal', 'Normal', 'Normal', 'Normal', 'Normal', 'Normal', 'Normal', 'Normal', 'Normal', 'Normal', 'Normal', 'Normal', 'Normal', 'Normal', 'Normal', 'Normal', 'Normal', 'Normal', 'Normal', 'Normal', 'Normal', 'Normal', 'Normal', 'Normal', 'Normal', 'Normal', 'Normal', 'Normal', 'Normal', 'Normal', 'Normal', 'Normal', 'Normal', 'Normal', 'Normal', 'Normal', 'Normal', 'Normal', 'Normal', 'Normal', 'Normal', 'Normal', 'Normal', 'Normal', 'Normal', 'Normal', 'Normal', 'Normal', 'Normal', 'Normal', 'Normal', 'Normal', 'Normal', 'Normal', 'Normal', 'Normal', 'Normal', 'Normal', 'Normal', 'Normal', 'Normal', 'Normal', 'Normal', 'Normal', 'Normal', 'Normal', 'Normal', 'Normal', 'Normal', 'Normal', 'Normal', 'Normal', 'Normal', 'Normal', 'Normal', 'Normal', 'Normal', 'Normal', 'Normal', 'Normal', 'Normal', 'Normal', 'Normal', 'Normal', 'Normal', 'Normal', 'Normal', 'Normal', 'Normal', 'Normal', 'Normal', 'Normal', 'Normal', 'Normal', 'Normal', 'Normal', 'Normal', 'Normal', 'Normal', 'Normal', 'Normal', 'Normal', 'Normal', 'Normal', 'Normal', 'Normal', 'Normal', 'Normal', 'Normal', 'Normal', 'Normal', 'Normal', 'Normal', 'Normal', 'Normal', 'Normal', 'Normal', 'Normal', 'Normal', 'Normal', 'Normal', 'Normal', 'Normal', 'Normal', 'Normal', 'Normal', 'Normal', 'Normal', 'Normal', 'Normal', 'Normal', 'Normal', 'Normal', 'Normal', 'Normal', 'Normal', 'Normal', 'Normal', 'Normal', 'Normal', 'Normal', 'Normal', 'Normal', 'Normal', 'Normal', 'Normal', 'Normal', 'Normal', 'Normal', 'Normal', 'Normal', 'Normal', 'Normal', 'Normal', 'Normal', 'Normal', 'Normal', 'Normal', 'Normal', 'Normal', 'Normal', 'Normal', 'Normal', 'Normal', 'Normal', 'Normal', 'Normal', 'Normal', 'Normal', 'Normal', 'Normal', 'Normal', 'Normal', 'Normal', 'Normal', 'Normal', 'Normal', 'Normal', 'Normal', 'Normal', 'Normal', 'Normal', 'Normal', 'Normal', 'Normal', 'Normal', 'Normal', 'Normal', 'Normal', 'Normal', 'Normal', 'Normal', 'Normal', 'Normal', 'Normal', 'Normal', 'Normal', 'Normal', 'Normal', 'Normal', 'Normal', 'Normal', 'Normal', 'Normal', 'Normal', 'Normal', 'Normal', 'Normal', 'Normal', 'Normal', 'Normal', 'Normal', 'Normal', 'Normal', 'Normal', 'Normal', 'Normal', 'Normal', 'Normal', 'Normal', 'Normal', 'Normal', 'Normal', 'Normal', 'Normal', 'Normal', 'Normal', 'Normal', 'Normal', 'Normal', 'Normal', 'Normal', 'Normal', 'Normal', 'Normal', 'Normal', 'Normal', 'Normal', 'Normal', 'Normal', 'Normal', 'Normal', 'Normal', 'Normal', 'Normal', 'Normal', 'Normal', 'Normal', 'Normal', 'Normal', 'Normal', 'Normal', 'Normal', 'Normal', 'Normal', 'Normal', 'Normal', 'Normal', 'Normal', 'Normal', 'Normal', 'Normal', 'Normal', 'Normal', 'Normal', 'Normal', 'Normal', 'Normal', 'Normal', 'Normal', 'Normal', 'Normal', 'Normal', 'Normal', 'Normal', 'Normal', 'Normal', 'Normal', 'Normal', 'Normal', 'Normal', 'Normal', 'Normal', 'Pneumonia', 'Pneumonia', 'Normal', 'Pneumonia', 'Pneumonia', 'Pneumonia', 'Pneumonia', 'Pneumonia', 'Pneumonia', 'Pneumonia', 'Pneumonia', 'Pneumonia', 'Pneumonia', 'Pneumonia', 'Pneumonia', 'Pneumonia', 'Pneumonia', 'Pneumonia', 'Pneumonia', 'Pneumonia', 'Pneumonia', 'Pneumonia', 'Pneumonia', 'Pneumonia', 'Pneumonia', 'Pneumonia', 'Pneumonia', 'Pneumonia', 'Pneumonia', 'Pneumonia', 'Pneumonia', 'Pneumonia', 'Pneumonia', 'Pneumonia', 'Pneumonia', 'Pneumonia', 'Pneumonia', 'Normal', 'Pneumonia', 'Pneumonia', 'Pneumonia', 'Pneumonia', 'Pneumonia', 'Pneumonia', 'Pneumonia', 'Pneumonia', 'Pneumonia', 'Normal', 'Pneumonia', 'Pneumonia', 'Pneumonia', 'Pneumonia', 'Pneumonia', 'Pneumonia', 'Pneumonia', 'Pneumonia', 'Pneumonia', 'Pneumonia', 'Pneumonia', 'Pneumonia', 'Pneumonia', 'Pneumonia', 'Pneumonia', 'Pneumonia', 'Pneumonia', 'Pneumonia', 'Pneumonia', 'Pneumonia', 'Pneumonia', 'Pneumonia', 'Pneumonia', 'Pneumonia', 'Pneumonia', 'Pneumonia', 'Pneumonia', 'Pneumonia', 'Pneumonia', 'Pneumonia', 'Pneumonia', 'Pneumonia', 'Pneumonia', 'Pneumonia', 'Pneumonia', 'Pneumonia', 'Pneumonia', 'Pneumonia', 'Pneumonia', 'Covid', 'Pneumonia', 'Pneumonia', 'Pneumonia', 'Pneumonia', 'Pneumonia', 'Pneumonia', 'Pneumonia', 'Pneumonia', 'Pneumonia', 'Pneumonia', 'Pneumonia', 'Pneumonia', 'Pneumonia', 'Pneumonia', 'Pneumonia', 'Pneumonia', 'Pneumonia', 'Pneumonia', 'Pneumonia', 'Pneumonia', 'Pneumonia', 'Pneumonia', 'Pneumonia', 'Pneumonia', 'Pneumonia', 'Pneumonia', 'Pneumonia', 'Pneumonia', 'Pneumonia', 'Pneumonia', 'Pneumonia', 'Pneumonia', 'Pneumonia', 'Normal', 'Pneumonia', 'Pneumonia', 'Pneumonia', 'Pneumonia', 'Pneumonia', 'Pneumonia', 'Pneumonia', 'Pneumonia', 'Pneumonia', 'Pneumonia', 'Pneumonia', 'Pneumonia', 'Pneumonia', 'Pneumonia', 'Pneumonia', 'Pneumonia', 'Pneumonia', 'Pneumonia', 'Pneumonia', 'Pneumonia', 'Pneumonia', 'Pneumonia', 'Pneumonia', 'Pneumonia', 'Pneumonia', 'Pneumonia', 'Pneumonia', 'Pneumonia', 'Pneumonia', 'Pneumonia', 'Pneumonia', 'Pneumonia', 'Pneumonia', 'Pneumonia', 'Pneumonia', 'Pneumonia', 'Pneumonia', 'Pneumonia', 'Pneumonia', 'Pneumonia', 'Pneumonia', 'Pneumonia', 'Pneumonia', 'Pneumonia', 'Pneumonia', 'Normal', 'Pneumonia', 'Pneumonia', 'Pneumonia', 'Pneumonia', 'Pneumonia', 'Pneumonia', 'Pneumonia', 'Pneumonia', 'Pneumonia', 'Pneumonia', 'Pneumonia', 'Pneumonia', 'Pneumonia', 'Pneumonia', 'Pneumonia', 'Pneumonia', 'Pneumonia', 'Pneumonia', 'Pneumonia', 'Pneumonia', 'Pneumonia', 'Pneumonia', 'Pneumonia', 'Pneumonia', 'Pneumonia', 'Pneumonia', 'Pneumonia', 'Normal', 'Pneumonia', 'Normal', 'Pneumonia', 'Pneumonia', 'Pneumonia', 'Pneumonia', 'Pneumonia', 'Pneumonia', 'Pneumonia', 'Pneumonia', 'Pneumonia', 'Pneumonia', 'Pneumonia', 'Pneumonia', 'Pneumonia', 'Pneumonia', 'Pneumonia', 'Pneumonia', 'Pneumonia', 'Pneumonia', 'Pneumonia', 'Pneumonia', 'Pneumonia', 'Pneumonia', 'Pneumonia', 'Pneumonia', 'Pneumonia', 'Pneumonia', 'Pneumonia', 'Pneumonia', 'Pneumonia', 'Pneumonia', 'Pneumonia', 'Pneumonia', 'Pneumonia', 'Pneumonia', 'Pneumonia', 'Pneumonia', 'Pneumonia', 'Pneumonia', 'Pneumonia', 'Pneumonia', 'Normal', 'Pneumonia', 'Pneumonia', 'Pneumonia', 'Pneumonia', 'Pneumonia', 'Pneumonia', 'Pneumonia', 'Pneumonia', 'Pneumonia', 'Normal', 'Pneumonia', 'Pneumonia', 'Pneumonia', 'Pneumonia', 'Pneumonia', 'Normal', 'Pneumonia', 'Pneumonia', 'Pneumonia', 'Pneumonia', 'Pneumonia', 'Pneumonia', 'Normal', 'Pneumonia', 'Normal', 'Pneumonia', 'Pneumonia', 'Pneumonia', 'Pneumonia', 'Pneumonia', 'Pneumonia', 'Pneumonia', 'Pneumonia', 'Pneumonia', 'Pneumonia', 'Pneumonia', 'Pneumonia', 'Pneumonia', 'Normal', 'Pneumonia', 'Pneumonia', 'Normal', 'Pneumonia', 'Pneumonia', 'Pneumonia', 'Pneumonia', 'Normal', 'Pneumonia', 'Pneumonia', 'Pneumonia', 'Pneumonia', 'Pneumonia', 'Pneumonia', 'Pneumonia', 'Pneumonia', 'Pneumonia', 'Pneumonia', 'Pneumonia', 'Pneumonia', 'Pneumonia', 'Pneumonia', 'Normal', 'Pneumonia', 'Normal', 'Pneumonia', 'Pneumonia', 'Normal', 'Pneumonia', 'Pneumonia', 'Pneumonia', 'Pneumonia', 'Pneumonia', 'Pneumonia', 'Pneumonia', 'Pneumonia', 'Pneumonia', 'Pneumonia', 'Pneumonia', 'Pneumonia', 'Pneumonia', 'Pneumonia', 'Normal', 'Pneumonia', 'Pneumonia', 'Pneumonia', 'Pneumonia', 'Pneumonia', 'Normal', 'Pneumonia', 'Pneumonia', 'Pneumonia', 'Pneumonia', 'Normal', 'Pneumonia', 'Pneumonia', 'Pneumonia', 'Pneumonia', 'Pneumonia', 'Pneumonia', 'Pneumonia', 'Pneumonia', 'Normal', 'Pneumonia', 'Pneumonia', 'Pneumonia', 'Pneumonia', 'Normal', 'Pneumonia', 'Pneumonia', 'Pneumonia', 'Pneumonia', 'Pneumonia', 'Pneumonia', 'Pneumonia', 'Pneumonia', 'Normal', 'Pneumonia', 'Pneumonia', 'Pneumonia', 'Pneumonia', 'Normal', 'Normal', 'Pneumonia', 'Pneumonia', 'Normal', 'Pneumonia', 'Pneumonia', 'Pneumonia', 'Pneumonia', 'Pneumonia', 'Pneumonia', 'Pneumonia', 'Pneumonia', 'Normal', 'Pneumonia', 'Pneumonia', 'Pneumonia', 'Pneumonia', 'Pneumonia', 'Pneumonia', 'Pneumonia', 'Pneumonia', 'Pneumonia', 'Pneumonia', 'Normal', 'Pneumonia', 'Pneumonia', 'Pneumonia', 'Pneumonia', 'Pneumonia', 'Pneumonia', 'Pneumonia', 'Pneumonia', 'Pneumonia', 'Pneumonia', 'Normal', 'Pneumonia', 'Pneumonia', 'Pneumonia', 'Pneumonia', 'Pneumonia', 'Pneumonia', 'Pneumonia', 'Pneumonia', 'Pneumonia', 'Pneumonia', 'Pneumonia', 'Pneumonia', 'Pneumonia', 'Pneumonia', 'Pneumonia', 'Pneumonia', 'Pneumonia', 'Pneumonia', 'Pneumonia', 'Pneumonia', 'Pneumonia', 'Pneumonia', 'Pneumonia', 'Pneumonia', 'Normal', 'Pneumonia', 'Pneumonia', 'Pneumonia', 'Pneumonia', 'Pneumonia', 'Pneumonia', 'Pneumonia', 'Pneumonia', 'Pneumonia', 'Pneumonia', 'Pneumonia', 'Covid', 'Pneumonia', 'Pneumonia', 'Pneumonia', 'Pneumonia', 'Pneumonia', 'Pneumonia', 'Pneumonia', 'Pneumonia', 'Pneumonia', 'Pneumonia', 'Pneumonia', 'Pneumonia', 'Pneumonia', 'Pneumonia', 'Pneumonia', 'Pneumonia', 'Pneumonia', 'Pneumonia', 'Pneumonia', 'Pneumonia', 'Normal', 'Pneumonia', 'Pneumonia', 'Pneumonia', 'Pneumonia', 'Pneumonia', 'Pneumonia', 'Pneumonia']\n"
          ],
          "name": "stdout"
        }
      ]
    },
    {
      "cell_type": "code",
      "metadata": {
        "id": "iznyXtkoMoEP"
      },
      "source": [
        "model.save('final_xception_model.h5')"
      ],
      "execution_count": null,
      "outputs": []
    },
    {
      "cell_type": "code",
      "metadata": {
        "id": "lJhlKPzxlidN"
      },
      "source": [
        ""
      ],
      "execution_count": null,
      "outputs": []
    }
  ]
}